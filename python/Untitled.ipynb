{
 "cells": [
  {
   "cell_type": "code",
   "execution_count": 1,
   "metadata": {},
   "outputs": [
    {
     "data": {
      "text/plain": [
       "2.5"
      ]
     },
     "execution_count": 1,
     "metadata": {},
     "output_type": "execute_result"
    }
   ],
   "source": [
    "5/2"
   ]
  },
  {
   "cell_type": "markdown",
   "metadata": {},
   "source": [
    "https://stackoverflow.com/questions/39583264/pandas-strip-numbers-and-parenthesis-from-string\n",
    "\n",
    "- using `replace` and `.str.extract()` with regex to modify string values"
   ]
  },
  {
   "cell_type": "code",
   "execution_count": 105,
   "metadata": {},
   "outputs": [],
   "source": [
    "import os\n",
    "import re\n",
    "import pandas as pd\n",
    "import numpy as np\n",
    "import matplotlib.pyplot as plt\n",
    "\n",
    "from IPython.display import Image\n",
    "\n",
    "# enables inline plots, without it plots don't show up in the notebook\n",
    "%matplotlib inline"
   ]
  },
  {
   "cell_type": "code",
   "execution_count": 3,
   "metadata": {},
   "outputs": [
    {
     "name": "stdout",
     "output_type": "stream",
     "text": [
      "Pandas version: 0.22.0\n",
      "Numpy version: 1.14.0\n"
     ]
    }
   ],
   "source": [
    "# check version of libraries\n",
    "print(\"Pandas version:\",pd.__version__)\n",
    "print(\"Numpy version:\",np.__version__)"
   ]
  },
  {
   "cell_type": "code",
   "execution_count": 4,
   "metadata": {},
   "outputs": [
    {
     "name": "stdout",
     "output_type": "stream",
     "text": [
      "Python Version: 3.6.2 (default, Nov 15 2017, 12:56:27) \n",
      "[GCC 4.2.1 Compatible Apple LLVM 9.0.0 (clang-900.0.38)]\n"
     ]
    }
   ],
   "source": [
    "# confirming which version of Python I am using\n",
    "import sys\n",
    "print(\"Python Version:\", sys.version)"
   ]
  },
  {
   "cell_type": "code",
   "execution_count": 330,
   "metadata": {},
   "outputs": [],
   "source": [
    "# set various options in pandas\n",
    "pd.set_option('display.max_columns', None)\n",
    "pd.set_option('display.max_rows', 40)\n",
    "pd.set_option('display.precision', 3)"
   ]
  },
  {
   "cell_type": "code",
   "execution_count": 6,
   "metadata": {},
   "outputs": [
    {
     "name": "stdout",
     "output_type": "stream",
     "text": [
      "total 112\r\n",
      "-rw-r--r--@ 1 amelie  staff     75 Jan  3 22:14 README.md\r\n",
      "-rw-r--r--  1 amelie  staff  45322 Jan  7 20:24 Untitled.ipynb\r\n",
      "-rw-r--r--  1 amelie  staff   2992 Jan  3 22:14 faculty.csv\r\n",
      "drwxr-xr-x  7 amelie  staff    224 Jan  7 19:42 \u001b[1m\u001b[36mpandas\u001b[m\u001b[m\r\n"
     ]
    }
   ],
   "source": [
    "# check size of file; notice this is a bash command -- I can run it in the notebook!\n",
    "!ls -l"
   ]
  },
  {
   "cell_type": "markdown",
   "metadata": {},
   "source": [
    "# Faculty"
   ]
  },
  {
   "cell_type": "code",
   "execution_count": 7,
   "metadata": {},
   "outputs": [],
   "source": [
    "faculty = pd.read_csv(\"faculty.csv\")"
   ]
  },
  {
   "cell_type": "code",
   "execution_count": 8,
   "metadata": {},
   "outputs": [
    {
     "data": {
      "text/html": [
       "<div>\n",
       "<style scoped>\n",
       "    .dataframe tbody tr th:only-of-type {\n",
       "        vertical-align: middle;\n",
       "    }\n",
       "\n",
       "    .dataframe tbody tr th {\n",
       "        vertical-align: top;\n",
       "    }\n",
       "\n",
       "    .dataframe thead th {\n",
       "        text-align: right;\n",
       "    }\n",
       "</style>\n",
       "<table border=\"1\" class=\"dataframe\">\n",
       "  <thead>\n",
       "    <tr style=\"text-align: right;\">\n",
       "      <th></th>\n",
       "      <th>name</th>\n",
       "      <th>degree</th>\n",
       "      <th>title</th>\n",
       "      <th>email</th>\n",
       "    </tr>\n",
       "  </thead>\n",
       "  <tbody>\n",
       "    <tr>\n",
       "      <th>0</th>\n",
       "      <td>Scarlett L. Bellamy</td>\n",
       "      <td>Sc.D.</td>\n",
       "      <td>Associate Professor of Biostatistics</td>\n",
       "      <td>bellamys@mail.med.upenn.edu</td>\n",
       "    </tr>\n",
       "    <tr>\n",
       "      <th>1</th>\n",
       "      <td>Warren B. Bilker</td>\n",
       "      <td>Ph.D.</td>\n",
       "      <td>Professor of Biostatistics</td>\n",
       "      <td>warren@upenn.edu</td>\n",
       "    </tr>\n",
       "    <tr>\n",
       "      <th>2</th>\n",
       "      <td>Matthew W Bryan</td>\n",
       "      <td>PhD</td>\n",
       "      <td>Assistant Professor of Biostatistics</td>\n",
       "      <td>bryanma@upenn.edu</td>\n",
       "    </tr>\n",
       "    <tr>\n",
       "      <th>3</th>\n",
       "      <td>Jinbo Chen</td>\n",
       "      <td>Ph.D.</td>\n",
       "      <td>Associate Professor of Biostatistics</td>\n",
       "      <td>jinboche@upenn.edu</td>\n",
       "    </tr>\n",
       "    <tr>\n",
       "      <th>4</th>\n",
       "      <td>Susan S Ellenberg</td>\n",
       "      <td>Ph.D.</td>\n",
       "      <td>Professor of Biostatistics</td>\n",
       "      <td>sellenbe@upenn.edu</td>\n",
       "    </tr>\n",
       "  </tbody>\n",
       "</table>\n",
       "</div>"
      ],
      "text/plain": [
       "                  name  degree                                 title  \\\n",
       "0  Scarlett L. Bellamy   Sc.D.  Associate Professor of Biostatistics   \n",
       "1     Warren B. Bilker   Ph.D.            Professor of Biostatistics   \n",
       "2      Matthew W Bryan     PhD  Assistant Professor of Biostatistics   \n",
       "3           Jinbo Chen   Ph.D.  Associate Professor of Biostatistics   \n",
       "4    Susan S Ellenberg   Ph.D.            Professor of Biostatistics   \n",
       "\n",
       "                         email  \n",
       "0  bellamys@mail.med.upenn.edu  \n",
       "1             warren@upenn.edu  \n",
       "2            bryanma@upenn.edu  \n",
       "3           jinboche@upenn.edu  \n",
       "4           sellenbe@upenn.edu  "
      ]
     },
     "execution_count": 8,
     "metadata": {},
     "output_type": "execute_result"
    }
   ],
   "source": [
    "faculty.head()"
   ]
  },
  {
   "cell_type": "code",
   "execution_count": 9,
   "metadata": {},
   "outputs": [
    {
     "name": "stdout",
     "output_type": "stream",
     "text": [
      "<class 'pandas.core.frame.DataFrame'>\n",
      "RangeIndex: 37 entries, 0 to 36\n",
      "Data columns (total 4 columns):\n",
      "name       37 non-null object\n",
      " degree    37 non-null object\n",
      " title     37 non-null object\n",
      " email     37 non-null object\n",
      "dtypes: object(4)\n",
      "memory usage: 1.2+ KB\n"
     ]
    }
   ],
   "source": [
    "faculty.info()"
   ]
  },
  {
   "cell_type": "code",
   "execution_count": 331,
   "metadata": {},
   "outputs": [
    {
     "data": {
      "text/html": [
       "<div>\n",
       "<style scoped>\n",
       "    .dataframe tbody tr th:only-of-type {\n",
       "        vertical-align: middle;\n",
       "    }\n",
       "\n",
       "    .dataframe tbody tr th {\n",
       "        vertical-align: top;\n",
       "    }\n",
       "\n",
       "    .dataframe thead th {\n",
       "        text-align: right;\n",
       "    }\n",
       "</style>\n",
       "<table border=\"1\" class=\"dataframe\">\n",
       "  <thead>\n",
       "    <tr style=\"text-align: right;\">\n",
       "      <th></th>\n",
       "      <th>name</th>\n",
       "      <th>degree</th>\n",
       "      <th>title</th>\n",
       "      <th>email</th>\n",
       "    </tr>\n",
       "  </thead>\n",
       "  <tbody>\n",
       "    <tr>\n",
       "      <th>0</th>\n",
       "      <td>Scarlett L. Bellamy</td>\n",
       "      <td>Sc.D.</td>\n",
       "      <td>Associate Professor of Biostatistics</td>\n",
       "      <td>bellamys@mail.med.upenn.edu</td>\n",
       "    </tr>\n",
       "    <tr>\n",
       "      <th>1</th>\n",
       "      <td>Warren B. Bilker</td>\n",
       "      <td>Ph.D.</td>\n",
       "      <td>Professor of Biostatistics</td>\n",
       "      <td>warren@upenn.edu</td>\n",
       "    </tr>\n",
       "    <tr>\n",
       "      <th>2</th>\n",
       "      <td>Matthew W Bryan</td>\n",
       "      <td>PhD</td>\n",
       "      <td>Assistant Professor of Biostatistics</td>\n",
       "      <td>bryanma@upenn.edu</td>\n",
       "    </tr>\n",
       "    <tr>\n",
       "      <th>3</th>\n",
       "      <td>Jinbo Chen</td>\n",
       "      <td>Ph.D.</td>\n",
       "      <td>Associate Professor of Biostatistics</td>\n",
       "      <td>jinboche@upenn.edu</td>\n",
       "    </tr>\n",
       "    <tr>\n",
       "      <th>4</th>\n",
       "      <td>Susan S Ellenberg</td>\n",
       "      <td>Ph.D.</td>\n",
       "      <td>Professor of Biostatistics</td>\n",
       "      <td>sellenbe@upenn.edu</td>\n",
       "    </tr>\n",
       "    <tr>\n",
       "      <th>5</th>\n",
       "      <td>Jonas H. Ellenberg</td>\n",
       "      <td>Ph.D.</td>\n",
       "      <td>Professor of Biostatistics</td>\n",
       "      <td>jellenbe@mail.med.upenn.edu</td>\n",
       "    </tr>\n",
       "    <tr>\n",
       "      <th>6</th>\n",
       "      <td>Rui Feng</td>\n",
       "      <td>Ph.D</td>\n",
       "      <td>Assistant Professor of Biostatistics</td>\n",
       "      <td>ruifeng@upenn.edu</td>\n",
       "    </tr>\n",
       "    <tr>\n",
       "      <th>7</th>\n",
       "      <td>Benjamin C. French</td>\n",
       "      <td>PhD</td>\n",
       "      <td>Associate Professor of Biostatistics</td>\n",
       "      <td>bcfrench@mail.med.upenn.edu</td>\n",
       "    </tr>\n",
       "    <tr>\n",
       "      <th>8</th>\n",
       "      <td>Phyllis A. Gimotty</td>\n",
       "      <td>Ph.D</td>\n",
       "      <td>Professor of Biostatistics</td>\n",
       "      <td>pgimotty@upenn.edu</td>\n",
       "    </tr>\n",
       "    <tr>\n",
       "      <th>9</th>\n",
       "      <td>Wensheng Guo</td>\n",
       "      <td>Ph.D</td>\n",
       "      <td>Professor of Biostatistics</td>\n",
       "      <td>wguo@mail.med.upenn.edu</td>\n",
       "    </tr>\n",
       "    <tr>\n",
       "      <th>10</th>\n",
       "      <td>Yenchih Hsu</td>\n",
       "      <td>Ph.D.</td>\n",
       "      <td>Assistant Professor of Biostatistics</td>\n",
       "      <td>hsu9@mail.med.upenn.edu</td>\n",
       "    </tr>\n",
       "    <tr>\n",
       "      <th>11</th>\n",
       "      <td>Rebecca A Hubbard</td>\n",
       "      <td>PhD</td>\n",
       "      <td>Associate Professor of Biostatistics</td>\n",
       "      <td>rhubb@mail.med.upenn.edu</td>\n",
       "    </tr>\n",
       "    <tr>\n",
       "      <th>12</th>\n",
       "      <td>Wei-Ting Hwang</td>\n",
       "      <td>Ph.D.</td>\n",
       "      <td>Associate Professor of Biostatistics</td>\n",
       "      <td>whwang@mail.med.upenn.edu</td>\n",
       "    </tr>\n",
       "    <tr>\n",
       "      <th>13</th>\n",
       "      <td>Marshall M. Joffe</td>\n",
       "      <td>MD MPH Ph.D</td>\n",
       "      <td>Professor of Biostatistics</td>\n",
       "      <td>mjoffe@mail.med.upenn.edu</td>\n",
       "    </tr>\n",
       "    <tr>\n",
       "      <th>14</th>\n",
       "      <td>J. Richard Landis</td>\n",
       "      <td>B.S.Ed. M.S. Ph.D.</td>\n",
       "      <td>Professor of Biostatistics</td>\n",
       "      <td>jrlandis@mail.med.upenn.edu</td>\n",
       "    </tr>\n",
       "    <tr>\n",
       "      <th>15</th>\n",
       "      <td>Yimei Li</td>\n",
       "      <td>Ph.D.</td>\n",
       "      <td>Assistant Professor of Biostatistics</td>\n",
       "      <td>liy3@email.chop.edu</td>\n",
       "    </tr>\n",
       "    <tr>\n",
       "      <th>16</th>\n",
       "      <td>Mingyao Li</td>\n",
       "      <td>Ph.D.</td>\n",
       "      <td>Associate Professor of Biostatistics</td>\n",
       "      <td>mingyao@mail.med.upenn.edu</td>\n",
       "    </tr>\n",
       "    <tr>\n",
       "      <th>17</th>\n",
       "      <td>Hongzhe Li</td>\n",
       "      <td>Ph.D</td>\n",
       "      <td>Professor of Biostatistics</td>\n",
       "      <td>hongzhe@upenn.edu</td>\n",
       "    </tr>\n",
       "    <tr>\n",
       "      <th>18</th>\n",
       "      <td>A. Russell Localio</td>\n",
       "      <td>JD MA MPH MS PhD</td>\n",
       "      <td>Associate Professor of Biostatistics</td>\n",
       "      <td>rlocalio@upenn.edu</td>\n",
       "    </tr>\n",
       "    <tr>\n",
       "      <th>19</th>\n",
       "      <td>Nandita Mitra</td>\n",
       "      <td>Ph.D.</td>\n",
       "      <td>Associate Professor of Biostatistics</td>\n",
       "      <td>nanditam@mail.med.upenn.edu</td>\n",
       "    </tr>\n",
       "    <tr>\n",
       "      <th>20</th>\n",
       "      <td>Knashawn H. Morales</td>\n",
       "      <td>Sc.D.</td>\n",
       "      <td>Associate Professor of Biostatistics</td>\n",
       "      <td>knashawn@mail.med.upenn.edu</td>\n",
       "    </tr>\n",
       "    <tr>\n",
       "      <th>21</th>\n",
       "      <td>Kathleen Joy Propert</td>\n",
       "      <td>Sc.D.</td>\n",
       "      <td>Professor of Biostatistics</td>\n",
       "      <td>propert@mail.med.upenn.edu</td>\n",
       "    </tr>\n",
       "    <tr>\n",
       "      <th>22</th>\n",
       "      <td>Mary E. Putt</td>\n",
       "      <td>PhD ScD</td>\n",
       "      <td>Professor of Biostatistics</td>\n",
       "      <td>mputt@mail.med.upenn.edu</td>\n",
       "    </tr>\n",
       "    <tr>\n",
       "      <th>23</th>\n",
       "      <td>Sarah Jane Ratcliffe</td>\n",
       "      <td>Ph.D.</td>\n",
       "      <td>Associate Professor of Biostatistics</td>\n",
       "      <td>sratclif@upenn.edu</td>\n",
       "    </tr>\n",
       "    <tr>\n",
       "      <th>24</th>\n",
       "      <td>Michelle Elana Ross</td>\n",
       "      <td>PhD</td>\n",
       "      <td>Assistant Professor is Biostatistics</td>\n",
       "      <td>michross@upenn.edu</td>\n",
       "    </tr>\n",
       "    <tr>\n",
       "      <th>25</th>\n",
       "      <td>Jason A. Roy</td>\n",
       "      <td>Ph.D.</td>\n",
       "      <td>Associate Professor of Biostatistics</td>\n",
       "      <td>jaroy@mail.med.upenn.edu</td>\n",
       "    </tr>\n",
       "    <tr>\n",
       "      <th>26</th>\n",
       "      <td>Mary D. Sammel</td>\n",
       "      <td>Sc.D.</td>\n",
       "      <td>Professor of Biostatistics</td>\n",
       "      <td>msammel@cceb.med.upenn.edu</td>\n",
       "    </tr>\n",
       "    <tr>\n",
       "      <th>27</th>\n",
       "      <td>Pamela Ann Shaw</td>\n",
       "      <td>PhD</td>\n",
       "      <td>Assistant Professor of Biostatistics</td>\n",
       "      <td>shawp@upenn.edu</td>\n",
       "    </tr>\n",
       "    <tr>\n",
       "      <th>28</th>\n",
       "      <td>Russell Takeshi Shinohara</td>\n",
       "      <td>0</td>\n",
       "      <td>Assistant Professor of Biostatistics</td>\n",
       "      <td>rshi@mail.med.upenn.edu</td>\n",
       "    </tr>\n",
       "    <tr>\n",
       "      <th>29</th>\n",
       "      <td>Haochang Shou</td>\n",
       "      <td>Ph.D.</td>\n",
       "      <td>Assistant Professor of Biostatistics</td>\n",
       "      <td>hshou@mail.med.upenn.edu</td>\n",
       "    </tr>\n",
       "    <tr>\n",
       "      <th>30</th>\n",
       "      <td>Justine Shults</td>\n",
       "      <td>Ph.D.</td>\n",
       "      <td>Professor of Biostatistics</td>\n",
       "      <td>jshults@mail.med.upenn.edu</td>\n",
       "    </tr>\n",
       "    <tr>\n",
       "      <th>31</th>\n",
       "      <td>Alisa Jane Stephens</td>\n",
       "      <td>Ph.D.</td>\n",
       "      <td>Assistant Professor of Biostatistics</td>\n",
       "      <td>alisaste@mail.med.upenn.edu</td>\n",
       "    </tr>\n",
       "    <tr>\n",
       "      <th>32</th>\n",
       "      <td>Andrea Beth Troxel</td>\n",
       "      <td>ScD</td>\n",
       "      <td>Professor of Biostatistics</td>\n",
       "      <td>atroxel@mail.med.upenn.edu</td>\n",
       "    </tr>\n",
       "    <tr>\n",
       "      <th>33</th>\n",
       "      <td>Rui Xiao</td>\n",
       "      <td>PhD</td>\n",
       "      <td>Assistant Professor of Biostatistics</td>\n",
       "      <td>rxiao@mail.med.upenn.edu</td>\n",
       "    </tr>\n",
       "    <tr>\n",
       "      <th>34</th>\n",
       "      <td>Sharon Xiangwen Xie</td>\n",
       "      <td>Ph.D.</td>\n",
       "      <td>Associate Professor of Biostatistics</td>\n",
       "      <td>sxie@mail.med.upenn.edu</td>\n",
       "    </tr>\n",
       "    <tr>\n",
       "      <th>35</th>\n",
       "      <td>Dawei Xie</td>\n",
       "      <td>PhD</td>\n",
       "      <td>Assistant Professor of Biostatistics</td>\n",
       "      <td>dxie@upenn.edu</td>\n",
       "    </tr>\n",
       "    <tr>\n",
       "      <th>36</th>\n",
       "      <td>Wei (Peter) Yang</td>\n",
       "      <td>Ph.D.</td>\n",
       "      <td>Assistant Professor of Biostatistics</td>\n",
       "      <td>weiyang@mail.med.upenn.edu</td>\n",
       "    </tr>\n",
       "  </tbody>\n",
       "</table>\n",
       "</div>"
      ],
      "text/plain": [
       "                         name               degree  \\\n",
       "0         Scarlett L. Bellamy                Sc.D.   \n",
       "1            Warren B. Bilker                Ph.D.   \n",
       "2             Matthew W Bryan                  PhD   \n",
       "3                  Jinbo Chen                Ph.D.   \n",
       "4           Susan S Ellenberg                Ph.D.   \n",
       "5          Jonas H. Ellenberg                Ph.D.   \n",
       "6                    Rui Feng                 Ph.D   \n",
       "7          Benjamin C. French                  PhD   \n",
       "8          Phyllis A. Gimotty                 Ph.D   \n",
       "9                Wensheng Guo                 Ph.D   \n",
       "10                Yenchih Hsu                Ph.D.   \n",
       "11          Rebecca A Hubbard                  PhD   \n",
       "12             Wei-Ting Hwang                Ph.D.   \n",
       "13          Marshall M. Joffe          MD MPH Ph.D   \n",
       "14          J. Richard Landis   B.S.Ed. M.S. Ph.D.   \n",
       "15                   Yimei Li                Ph.D.   \n",
       "16                 Mingyao Li                Ph.D.   \n",
       "17                 Hongzhe Li                 Ph.D   \n",
       "18         A. Russell Localio     JD MA MPH MS PhD   \n",
       "19              Nandita Mitra                Ph.D.   \n",
       "20        Knashawn H. Morales                Sc.D.   \n",
       "21       Kathleen Joy Propert                Sc.D.   \n",
       "22               Mary E. Putt              PhD ScD   \n",
       "23       Sarah Jane Ratcliffe                Ph.D.   \n",
       "24        Michelle Elana Ross                  PhD   \n",
       "25               Jason A. Roy                Ph.D.   \n",
       "26             Mary D. Sammel                Sc.D.   \n",
       "27            Pamela Ann Shaw                  PhD   \n",
       "28  Russell Takeshi Shinohara                    0   \n",
       "29              Haochang Shou                Ph.D.   \n",
       "30             Justine Shults                Ph.D.   \n",
       "31        Alisa Jane Stephens                Ph.D.   \n",
       "32         Andrea Beth Troxel                  ScD   \n",
       "33                   Rui Xiao                  PhD   \n",
       "34        Sharon Xiangwen Xie                Ph.D.   \n",
       "35                  Dawei Xie                  PhD   \n",
       "36           Wei (Peter) Yang                Ph.D.   \n",
       "\n",
       "                                   title                        email  \n",
       "0   Associate Professor of Biostatistics  bellamys@mail.med.upenn.edu  \n",
       "1             Professor of Biostatistics             warren@upenn.edu  \n",
       "2   Assistant Professor of Biostatistics            bryanma@upenn.edu  \n",
       "3   Associate Professor of Biostatistics           jinboche@upenn.edu  \n",
       "4             Professor of Biostatistics           sellenbe@upenn.edu  \n",
       "5             Professor of Biostatistics  jellenbe@mail.med.upenn.edu  \n",
       "6   Assistant Professor of Biostatistics            ruifeng@upenn.edu  \n",
       "7   Associate Professor of Biostatistics  bcfrench@mail.med.upenn.edu  \n",
       "8             Professor of Biostatistics           pgimotty@upenn.edu  \n",
       "9             Professor of Biostatistics      wguo@mail.med.upenn.edu  \n",
       "10  Assistant Professor of Biostatistics      hsu9@mail.med.upenn.edu  \n",
       "11  Associate Professor of Biostatistics     rhubb@mail.med.upenn.edu  \n",
       "12  Associate Professor of Biostatistics    whwang@mail.med.upenn.edu  \n",
       "13            Professor of Biostatistics    mjoffe@mail.med.upenn.edu  \n",
       "14            Professor of Biostatistics  jrlandis@mail.med.upenn.edu  \n",
       "15  Assistant Professor of Biostatistics          liy3@email.chop.edu  \n",
       "16  Associate Professor of Biostatistics   mingyao@mail.med.upenn.edu  \n",
       "17            Professor of Biostatistics            hongzhe@upenn.edu  \n",
       "18  Associate Professor of Biostatistics           rlocalio@upenn.edu  \n",
       "19  Associate Professor of Biostatistics  nanditam@mail.med.upenn.edu  \n",
       "20  Associate Professor of Biostatistics  knashawn@mail.med.upenn.edu  \n",
       "21            Professor of Biostatistics   propert@mail.med.upenn.edu  \n",
       "22            Professor of Biostatistics     mputt@mail.med.upenn.edu  \n",
       "23  Associate Professor of Biostatistics           sratclif@upenn.edu  \n",
       "24  Assistant Professor is Biostatistics           michross@upenn.edu  \n",
       "25  Associate Professor of Biostatistics     jaroy@mail.med.upenn.edu  \n",
       "26            Professor of Biostatistics   msammel@cceb.med.upenn.edu  \n",
       "27  Assistant Professor of Biostatistics              shawp@upenn.edu  \n",
       "28  Assistant Professor of Biostatistics      rshi@mail.med.upenn.edu  \n",
       "29  Assistant Professor of Biostatistics     hshou@mail.med.upenn.edu  \n",
       "30            Professor of Biostatistics   jshults@mail.med.upenn.edu  \n",
       "31  Assistant Professor of Biostatistics  alisaste@mail.med.upenn.edu  \n",
       "32            Professor of Biostatistics   atroxel@mail.med.upenn.edu  \n",
       "33  Assistant Professor of Biostatistics     rxiao@mail.med.upenn.edu  \n",
       "34  Associate Professor of Biostatistics      sxie@mail.med.upenn.edu  \n",
       "35  Assistant Professor of Biostatistics               dxie@upenn.edu  \n",
       "36  Assistant Professor of Biostatistics   weiyang@mail.med.upenn.edu  "
      ]
     },
     "execution_count": 331,
     "metadata": {},
     "output_type": "execute_result"
    }
   ],
   "source": [
    "faculty"
   ]
  },
  {
   "cell_type": "markdown",
   "metadata": {},
   "source": [
    "# From Python Part 3 Pandas Example\n",
    "### This notebook runs through an example using Pandas with the `jeopardy.csv` data.\n",
    "\n",
    "**Data Source:**  200K+Jeopardy questions from [Reddit](https://www.reddit.com/r/datasets/comments/1uyd0t/200000_jeopardy_questions_in_a_json_file/)\n",
    "\n",
    "---\n"
   ]
  },
  {
   "cell_type": "code",
   "execution_count": 11,
   "metadata": {},
   "outputs": [
    {
     "data": {
      "text/plain": [
       "'/Users/amelie/metis/metisgh/prework/dsp/python'"
      ]
     },
     "execution_count": 11,
     "metadata": {},
     "output_type": "execute_result"
    }
   ],
   "source": [
    "ROOT_DIR = os.getcwd()\n",
    "ROOT_DIR"
   ]
  },
  {
   "cell_type": "code",
   "execution_count": 12,
   "metadata": {},
   "outputs": [
    {
     "data": {
      "text/plain": [
       "'/Users/amelie/metis/metisgh/prework/dsp/python/pandas'"
      ]
     },
     "execution_count": 12,
     "metadata": {},
     "output_type": "execute_result"
    }
   ],
   "source": [
    "DATA_DIR = os.path.join(ROOT_DIR, 'pandas')\n",
    "DATA_DIR"
   ]
  },
  {
   "cell_type": "code",
   "execution_count": 13,
   "metadata": {},
   "outputs": [],
   "source": [
    "infile1 = \"jeopardy.csv\"\n",
    "infile2 = \"olive.csv\""
   ]
  },
  {
   "cell_type": "markdown",
   "metadata": {},
   "source": [
    "# Jeopardy"
   ]
  },
  {
   "cell_type": "code",
   "execution_count": 125,
   "metadata": {},
   "outputs": [
    {
     "data": {
      "text/html": [
       "<div>\n",
       "<style scoped>\n",
       "    .dataframe tbody tr th:only-of-type {\n",
       "        vertical-align: middle;\n",
       "    }\n",
       "\n",
       "    .dataframe tbody tr th {\n",
       "        vertical-align: top;\n",
       "    }\n",
       "\n",
       "    .dataframe thead th {\n",
       "        text-align: right;\n",
       "    }\n",
       "</style>\n",
       "<table border=\"1\" class=\"dataframe\">\n",
       "  <thead>\n",
       "    <tr style=\"text-align: right;\">\n",
       "      <th></th>\n",
       "      <th>Show Number</th>\n",
       "      <th>Air Date</th>\n",
       "      <th>Round</th>\n",
       "      <th>Category</th>\n",
       "      <th>Value</th>\n",
       "      <th>Question</th>\n",
       "      <th>Answer</th>\n",
       "    </tr>\n",
       "  </thead>\n",
       "  <tbody>\n",
       "    <tr>\n",
       "      <th>0</th>\n",
       "      <td>4680</td>\n",
       "      <td>12/31/04</td>\n",
       "      <td>Jeopardy!</td>\n",
       "      <td>HISTORY</td>\n",
       "      <td>$200</td>\n",
       "      <td>For the last 8 years of his life, Galileo was ...</td>\n",
       "      <td>Copernicus</td>\n",
       "    </tr>\n",
       "    <tr>\n",
       "      <th>1</th>\n",
       "      <td>4680</td>\n",
       "      <td>12/31/04</td>\n",
       "      <td>Jeopardy!</td>\n",
       "      <td>ESPN's TOP 10 ALL-TIME ATHLETES</td>\n",
       "      <td>$200</td>\n",
       "      <td>No. 2: 1912 Olympian; football star at Carlisl...</td>\n",
       "      <td>Jim Thorpe</td>\n",
       "    </tr>\n",
       "    <tr>\n",
       "      <th>2</th>\n",
       "      <td>4680</td>\n",
       "      <td>12/31/04</td>\n",
       "      <td>Jeopardy!</td>\n",
       "      <td>EVERYBODY TALKS ABOUT IT...</td>\n",
       "      <td>$200</td>\n",
       "      <td>The city of Yuma in this state has a record av...</td>\n",
       "      <td>Arizona</td>\n",
       "    </tr>\n",
       "    <tr>\n",
       "      <th>3</th>\n",
       "      <td>4680</td>\n",
       "      <td>12/31/04</td>\n",
       "      <td>Jeopardy!</td>\n",
       "      <td>THE COMPANY LINE</td>\n",
       "      <td>$200</td>\n",
       "      <td>In 1963, live on \"The Art Linkletter Show\", th...</td>\n",
       "      <td>McDonald's</td>\n",
       "    </tr>\n",
       "    <tr>\n",
       "      <th>4</th>\n",
       "      <td>4680</td>\n",
       "      <td>12/31/04</td>\n",
       "      <td>Jeopardy!</td>\n",
       "      <td>EPITAPHS &amp; TRIBUTES</td>\n",
       "      <td>$200</td>\n",
       "      <td>Signer of the Dec. of Indep., framer of the Co...</td>\n",
       "      <td>John Adams</td>\n",
       "    </tr>\n",
       "  </tbody>\n",
       "</table>\n",
       "</div>"
      ],
      "text/plain": [
       "   Show Number  Air Date      Round                         Category Value  \\\n",
       "0         4680  12/31/04  Jeopardy!                          HISTORY  $200   \n",
       "1         4680  12/31/04  Jeopardy!  ESPN's TOP 10 ALL-TIME ATHLETES  $200   \n",
       "2         4680  12/31/04  Jeopardy!      EVERYBODY TALKS ABOUT IT...  $200   \n",
       "3         4680  12/31/04  Jeopardy!                 THE COMPANY LINE  $200   \n",
       "4         4680  12/31/04  Jeopardy!              EPITAPHS & TRIBUTES  $200   \n",
       "\n",
       "                                            Question      Answer  \n",
       "0  For the last 8 years of his life, Galileo was ...  Copernicus  \n",
       "1  No. 2: 1912 Olympian; football star at Carlisl...  Jim Thorpe  \n",
       "2  The city of Yuma in this state has a record av...     Arizona  \n",
       "3  In 1963, live on \"The Art Linkletter Show\", th...  McDonald's  \n",
       "4  Signer of the Dec. of Indep., framer of the Co...  John Adams  "
      ]
     },
     "execution_count": 125,
     "metadata": {},
     "output_type": "execute_result"
    }
   ],
   "source": [
    "# https://stackoverflow.com/questions/18171739/unicodedecodeerror-when-reading-csv-file-in-pandas-with-python\n",
    "jeopardy = df1 = pd.read_csv(os.path.join(DATA_DIR, infile1), encoding=\"latin1\")\n",
    "df1.head()"
   ]
  },
  {
   "cell_type": "code",
   "execution_count": 126,
   "metadata": {},
   "outputs": [
    {
     "name": "stdout",
     "output_type": "stream",
     "text": [
      "<class 'pandas.core.frame.DataFrame'>\n",
      "RangeIndex: 10999 entries, 0 to 10998\n",
      "Data columns (total 7 columns):\n",
      "Show Number    10999 non-null int64\n",
      "Air Date       10999 non-null object\n",
      "Round          10999 non-null object\n",
      "Category       10999 non-null object\n",
      "Value          10999 non-null object\n",
      "Question       10999 non-null object\n",
      "Answer         10999 non-null object\n",
      "dtypes: int64(1), object(6)\n",
      "memory usage: 601.6+ KB\n"
     ]
    }
   ],
   "source": [
    "df1.info()"
   ]
  },
  {
   "cell_type": "code",
   "execution_count": 127,
   "metadata": {},
   "outputs": [
    {
     "data": {
      "text/plain": [
       "Index(['show_number', 'air_date', 'round', 'category', 'value', 'question',\n",
       "       'answer'],\n",
       "      dtype='object')"
      ]
     },
     "execution_count": 127,
     "metadata": {},
     "output_type": "execute_result"
    }
   ],
   "source": [
    "df1.columns = df1.columns.map(lambda x: \"_\".join(x.lower().split()))\n",
    "df1.columns"
   ]
  },
  {
   "cell_type": "code",
   "execution_count": 128,
   "metadata": {},
   "outputs": [
    {
     "data": {
      "text/plain": [
       "184"
      ]
     },
     "execution_count": 128,
     "metadata": {},
     "output_type": "execute_result"
    }
   ],
   "source": [
    "df1.show_number.nunique()"
   ]
  },
  {
   "cell_type": "code",
   "execution_count": 129,
   "metadata": {},
   "outputs": [
    {
     "data": {
      "text/html": [
       "<div>\n",
       "<style scoped>\n",
       "    .dataframe tbody tr th:only-of-type {\n",
       "        vertical-align: middle;\n",
       "    }\n",
       "\n",
       "    .dataframe tbody tr th {\n",
       "        vertical-align: top;\n",
       "    }\n",
       "\n",
       "    .dataframe thead th {\n",
       "        text-align: right;\n",
       "    }\n",
       "</style>\n",
       "<table border=\"1\" class=\"dataframe\">\n",
       "  <thead>\n",
       "    <tr style=\"text-align: right;\">\n",
       "      <th></th>\n",
       "      <th>show_number</th>\n",
       "    </tr>\n",
       "  </thead>\n",
       "  <tbody>\n",
       "    <tr>\n",
       "      <th>count</th>\n",
       "      <td>10999.000</td>\n",
       "    </tr>\n",
       "    <tr>\n",
       "      <th>mean</th>\n",
       "      <td>4308.181</td>\n",
       "    </tr>\n",
       "    <tr>\n",
       "      <th>std</th>\n",
       "      <td>1397.758</td>\n",
       "    </tr>\n",
       "    <tr>\n",
       "      <th>min</th>\n",
       "      <td>62.000</td>\n",
       "    </tr>\n",
       "    <tr>\n",
       "      <th>25%</th>\n",
       "      <td>3409.000</td>\n",
       "    </tr>\n",
       "    <tr>\n",
       "      <th>50%</th>\n",
       "      <td>4541.000</td>\n",
       "    </tr>\n",
       "    <tr>\n",
       "      <th>75%</th>\n",
       "      <td>5431.000</td>\n",
       "    </tr>\n",
       "    <tr>\n",
       "      <th>max</th>\n",
       "      <td>6294.000</td>\n",
       "    </tr>\n",
       "  </tbody>\n",
       "</table>\n",
       "</div>"
      ],
      "text/plain": [
       "       show_number\n",
       "count    10999.000\n",
       "mean      4308.181\n",
       "std       1397.758\n",
       "min         62.000\n",
       "25%       3409.000\n",
       "50%       4541.000\n",
       "75%       5431.000\n",
       "max       6294.000"
      ]
     },
     "execution_count": 129,
     "metadata": {},
     "output_type": "execute_result"
    }
   ],
   "source": [
    "df1.describe()"
   ]
  },
  {
   "cell_type": "code",
   "execution_count": 130,
   "metadata": {},
   "outputs": [],
   "source": [
    "df = df1.copy()"
   ]
  },
  {
   "cell_type": "code",
   "execution_count": 131,
   "metadata": {},
   "outputs": [],
   "source": [
    "# round reserved word -> rename\n",
    "df.rename({\"round\": \"jround\"}, axis=1, inplace=True)\n"
   ]
  },
  {
   "cell_type": "code",
   "execution_count": 132,
   "metadata": {},
   "outputs": [
    {
     "data": {
      "text/plain": [
       "count         10999\n",
       "unique            3\n",
       "top       Jeopardy!\n",
       "freq           5434\n",
       "Name: jround, dtype: object"
      ]
     },
     "execution_count": 132,
     "metadata": {},
     "output_type": "execute_result"
    }
   ],
   "source": [
    "df.jround.describe()"
   ]
  },
  {
   "cell_type": "code",
   "execution_count": 133,
   "metadata": {},
   "outputs": [
    {
     "data": {
      "text/plain": [
       "array(['Jeopardy!', 'Double Jeopardy!', 'Final Jeopardy!'], dtype=object)"
      ]
     },
     "execution_count": 133,
     "metadata": {},
     "output_type": "execute_result"
    }
   ],
   "source": [
    "df.jround.unique()"
   ]
  },
  {
   "cell_type": "markdown",
   "metadata": {},
   "source": [
    "# groupby - simple count"
   ]
  },
  {
   "cell_type": "code",
   "execution_count": 134,
   "metadata": {},
   "outputs": [
    {
     "data": {
      "text/html": [
       "<div>\n",
       "<style scoped>\n",
       "    .dataframe tbody tr th:only-of-type {\n",
       "        vertical-align: middle;\n",
       "    }\n",
       "\n",
       "    .dataframe tbody tr th {\n",
       "        vertical-align: top;\n",
       "    }\n",
       "\n",
       "    .dataframe thead th {\n",
       "        text-align: right;\n",
       "    }\n",
       "</style>\n",
       "<table border=\"1\" class=\"dataframe\">\n",
       "  <thead>\n",
       "    <tr style=\"text-align: right;\">\n",
       "      <th></th>\n",
       "      <th>show_number</th>\n",
       "      <th>air_date</th>\n",
       "      <th>category</th>\n",
       "      <th>value</th>\n",
       "      <th>question</th>\n",
       "      <th>answer</th>\n",
       "    </tr>\n",
       "    <tr>\n",
       "      <th>jround</th>\n",
       "      <th></th>\n",
       "      <th></th>\n",
       "      <th></th>\n",
       "      <th></th>\n",
       "      <th></th>\n",
       "      <th></th>\n",
       "    </tr>\n",
       "  </thead>\n",
       "  <tbody>\n",
       "    <tr>\n",
       "      <th>Double Jeopardy!</th>\n",
       "      <td>5382</td>\n",
       "      <td>5382</td>\n",
       "      <td>5382</td>\n",
       "      <td>5382</td>\n",
       "      <td>5382</td>\n",
       "      <td>5382</td>\n",
       "    </tr>\n",
       "    <tr>\n",
       "      <th>Final Jeopardy!</th>\n",
       "      <td>183</td>\n",
       "      <td>183</td>\n",
       "      <td>183</td>\n",
       "      <td>183</td>\n",
       "      <td>183</td>\n",
       "      <td>183</td>\n",
       "    </tr>\n",
       "    <tr>\n",
       "      <th>Jeopardy!</th>\n",
       "      <td>5434</td>\n",
       "      <td>5434</td>\n",
       "      <td>5434</td>\n",
       "      <td>5434</td>\n",
       "      <td>5434</td>\n",
       "      <td>5434</td>\n",
       "    </tr>\n",
       "  </tbody>\n",
       "</table>\n",
       "</div>"
      ],
      "text/plain": [
       "                  show_number  air_date  category  value  question  answer\n",
       "jround                                                                    \n",
       "Double Jeopardy!         5382      5382      5382   5382      5382    5382\n",
       "Final Jeopardy!           183       183       183    183       183     183\n",
       "Jeopardy!                5434      5434      5434   5434      5434    5434"
      ]
     },
     "execution_count": 134,
     "metadata": {},
     "output_type": "execute_result"
    }
   ],
   "source": [
    "df.groupby('jround').count()"
   ]
  },
  {
   "cell_type": "code",
   "execution_count": 135,
   "metadata": {},
   "outputs": [
    {
     "data": {
      "text/html": [
       "<div>\n",
       "<style scoped>\n",
       "    .dataframe tbody tr th:only-of-type {\n",
       "        vertical-align: middle;\n",
       "    }\n",
       "\n",
       "    .dataframe tbody tr th {\n",
       "        vertical-align: top;\n",
       "    }\n",
       "\n",
       "    .dataframe thead th {\n",
       "        text-align: right;\n",
       "    }\n",
       "</style>\n",
       "<table border=\"1\" class=\"dataframe\">\n",
       "  <thead>\n",
       "    <tr style=\"text-align: right;\">\n",
       "      <th></th>\n",
       "      <th>show_number</th>\n",
       "      <th>air_date</th>\n",
       "      <th>jround</th>\n",
       "      <th>category</th>\n",
       "      <th>value</th>\n",
       "      <th>question</th>\n",
       "      <th>answer</th>\n",
       "    </tr>\n",
       "  </thead>\n",
       "  <tbody>\n",
       "    <tr>\n",
       "      <th>0</th>\n",
       "      <td>4680</td>\n",
       "      <td>12/31/04</td>\n",
       "      <td>Jeopardy!</td>\n",
       "      <td>HISTORY</td>\n",
       "      <td>$200</td>\n",
       "      <td>For the last 8 years of his life, Galileo was ...</td>\n",
       "      <td>Copernicus</td>\n",
       "    </tr>\n",
       "    <tr>\n",
       "      <th>1</th>\n",
       "      <td>4680</td>\n",
       "      <td>12/31/04</td>\n",
       "      <td>Jeopardy!</td>\n",
       "      <td>ESPN's TOP 10 ALL-TIME ATHLETES</td>\n",
       "      <td>$200</td>\n",
       "      <td>No. 2: 1912 Olympian; football star at Carlisl...</td>\n",
       "      <td>Jim Thorpe</td>\n",
       "    </tr>\n",
       "    <tr>\n",
       "      <th>2</th>\n",
       "      <td>4680</td>\n",
       "      <td>12/31/04</td>\n",
       "      <td>Jeopardy!</td>\n",
       "      <td>EVERYBODY TALKS ABOUT IT...</td>\n",
       "      <td>$200</td>\n",
       "      <td>The city of Yuma in this state has a record av...</td>\n",
       "      <td>Arizona</td>\n",
       "    </tr>\n",
       "    <tr>\n",
       "      <th>3</th>\n",
       "      <td>4680</td>\n",
       "      <td>12/31/04</td>\n",
       "      <td>Jeopardy!</td>\n",
       "      <td>THE COMPANY LINE</td>\n",
       "      <td>$200</td>\n",
       "      <td>In 1963, live on \"The Art Linkletter Show\", th...</td>\n",
       "      <td>McDonald's</td>\n",
       "    </tr>\n",
       "    <tr>\n",
       "      <th>4</th>\n",
       "      <td>4680</td>\n",
       "      <td>12/31/04</td>\n",
       "      <td>Jeopardy!</td>\n",
       "      <td>EPITAPHS &amp; TRIBUTES</td>\n",
       "      <td>$200</td>\n",
       "      <td>Signer of the Dec. of Indep., framer of the Co...</td>\n",
       "      <td>John Adams</td>\n",
       "    </tr>\n",
       "  </tbody>\n",
       "</table>\n",
       "</div>"
      ],
      "text/plain": [
       "   show_number  air_date     jround                         category value  \\\n",
       "0         4680  12/31/04  Jeopardy!                          HISTORY  $200   \n",
       "1         4680  12/31/04  Jeopardy!  ESPN's TOP 10 ALL-TIME ATHLETES  $200   \n",
       "2         4680  12/31/04  Jeopardy!      EVERYBODY TALKS ABOUT IT...  $200   \n",
       "3         4680  12/31/04  Jeopardy!                 THE COMPANY LINE  $200   \n",
       "4         4680  12/31/04  Jeopardy!              EPITAPHS & TRIBUTES  $200   \n",
       "\n",
       "                                            question      answer  \n",
       "0  For the last 8 years of his life, Galileo was ...  Copernicus  \n",
       "1  No. 2: 1912 Olympian; football star at Carlisl...  Jim Thorpe  \n",
       "2  The city of Yuma in this state has a record av...     Arizona  \n",
       "3  In 1963, live on \"The Art Linkletter Show\", th...  McDonald's  \n",
       "4  Signer of the Dec. of Indep., framer of the Co...  John Adams  "
      ]
     },
     "execution_count": 135,
     "metadata": {},
     "output_type": "execute_result"
    }
   ],
   "source": [
    "df.head()"
   ]
  },
  {
   "cell_type": "markdown",
   "metadata": {},
   "source": [
    "## `df.column_name.replace` - alter values in column using regex"
   ]
  },
  {
   "cell_type": "code",
   "execution_count": 136,
   "metadata": {},
   "outputs": [],
   "source": [
    "# assigning - copying over values\n",
    "df[\"dollar_amt\"] = df.value\n",
    "\n",
    "# no assignmt b/c inplace=True\n",
    "df['dollar_amt'].replace(regex=True,\n",
    "                         inplace=True,\n",
    "                         to_replace=r'\\$',\n",
    "                         value=r'')"
   ]
  },
  {
   "cell_type": "markdown",
   "metadata": {},
   "source": [
    "- when using `.str.replace()` cannot use `inplace=True` but can if using `.replace()` directly"
   ]
  },
  {
   "cell_type": "code",
   "execution_count": 138,
   "metadata": {},
   "outputs": [
    {
     "data": {
      "text/html": [
       "<div>\n",
       "<style scoped>\n",
       "    .dataframe tbody tr th:only-of-type {\n",
       "        vertical-align: middle;\n",
       "    }\n",
       "\n",
       "    .dataframe tbody tr th {\n",
       "        vertical-align: top;\n",
       "    }\n",
       "\n",
       "    .dataframe thead th {\n",
       "        text-align: right;\n",
       "    }\n",
       "</style>\n",
       "<table border=\"1\" class=\"dataframe\">\n",
       "  <thead>\n",
       "    <tr style=\"text-align: right;\">\n",
       "      <th></th>\n",
       "      <th>show_number</th>\n",
       "      <th>air_date</th>\n",
       "      <th>jround</th>\n",
       "      <th>category</th>\n",
       "      <th>value</th>\n",
       "      <th>question</th>\n",
       "      <th>answer</th>\n",
       "      <th>dollar_amt</th>\n",
       "    </tr>\n",
       "  </thead>\n",
       "  <tbody>\n",
       "    <tr>\n",
       "      <th>10997</th>\n",
       "      <td>4362</td>\n",
       "      <td>7/15/03</td>\n",
       "      <td>Double Jeopardy!</td>\n",
       "      <td>INVENTIVE MINDS</td>\n",
       "      <td>$1,600</td>\n",
       "      <td>In 1952 he &amp; Charles Bowman joined forces to d...</td>\n",
       "      <td>Orville Redenbacher</td>\n",
       "      <td>1600</td>\n",
       "    </tr>\n",
       "    <tr>\n",
       "      <th>10998</th>\n",
       "      <td>4362</td>\n",
       "      <td>7/15/03</td>\n",
       "      <td>Double Jeopardy!</td>\n",
       "      <td>REFRESHER COURSE</td>\n",
       "      <td>$1,600</td>\n",
       "      <td>Lemon juice, sugar, gin, club soda &amp; an egg go...</td>\n",
       "      <td>royal gin fizz</td>\n",
       "      <td>1600</td>\n",
       "    </tr>\n",
       "  </tbody>\n",
       "</table>\n",
       "</div>"
      ],
      "text/plain": [
       "       show_number air_date            jround          category   value  \\\n",
       "10997         4362  7/15/03  Double Jeopardy!   INVENTIVE MINDS  $1,600   \n",
       "10998         4362  7/15/03  Double Jeopardy!  REFRESHER COURSE  $1,600   \n",
       "\n",
       "                                                question               answer  \\\n",
       "10997  In 1952 he & Charles Bowman joined forces to d...  Orville Redenbacher   \n",
       "10998  Lemon juice, sugar, gin, club soda & an egg go...       royal gin fizz   \n",
       "\n",
       "      dollar_amt  \n",
       "10997       1600  \n",
       "10998       1600  "
      ]
     },
     "execution_count": 138,
     "metadata": {},
     "output_type": "execute_result"
    }
   ],
   "source": [
    "df['dollar_amt'] = df.dollar_amt.str.replace(',',\"\")\n",
    "df.tail(2)"
   ]
  },
  {
   "cell_type": "markdown",
   "metadata": {},
   "source": [
    "# ---------------------------------------------"
   ]
  },
  {
   "cell_type": "markdown",
   "metadata": {},
   "source": [
    "-  QUESTION TO SELF: What does `df.column_name.replace(\",\",\"\")` without `.str` or `(regex=True...)` do???"
   ]
  },
  {
   "cell_type": "code",
   "execution_count": 139,
   "metadata": {},
   "outputs": [
    {
     "data": {
      "text/plain": [
       "(0    $200\n",
       " 1    $200\n",
       " 2    $200\n",
       " 3    $200\n",
       " 4    $200\n",
       " Name: value, dtype: object, 10994    $1,200\n",
       " 10995    $2,000\n",
       " 10996    $1,600\n",
       " 10997    $1,600\n",
       " 10998    $1,600\n",
       " Name: value, dtype: object)"
      ]
     },
     "execution_count": 139,
     "metadata": {},
     "output_type": "execute_result"
    }
   ],
   "source": [
    "df.value.replace(\",\", \"\").head(), df.value.replace(\",\", \"\").tail()"
   ]
  },
  {
   "cell_type": "code",
   "execution_count": 140,
   "metadata": {},
   "outputs": [
    {
     "data": {
      "text/plain": [
       "show_number                                     4362\n",
       "air_date                                     7/15/03\n",
       "jround                              Double Jeopardy!\n",
       "category                                   PEN NAMES\n",
       "value                                         $2,000\n",
       "question       This pseudonym means \"2 fathoms deep\"\n",
       "answer                                    Mark Twain\n",
       "dollar_amt                                      2000\n",
       "Name: 10995, dtype: object"
      ]
     },
     "execution_count": 140,
     "metadata": {},
     "output_type": "execute_result"
    }
   ],
   "source": [
    "df.iloc[10995]"
   ]
  },
  {
   "cell_type": "markdown",
   "metadata": {},
   "source": [
    "# ---------------------------------------------"
   ]
  },
  {
   "cell_type": "code",
   "execution_count": 141,
   "metadata": {},
   "outputs": [
    {
     "data": {
      "text/plain": [
       "show_number     int64\n",
       "air_date       object\n",
       "jround         object\n",
       "category       object\n",
       "value          object\n",
       "question       object\n",
       "answer         object\n",
       "dollar_amt     object\n",
       "dtype: object"
      ]
     },
     "execution_count": 141,
     "metadata": {},
     "output_type": "execute_result"
    }
   ],
   "source": [
    "df.dtypes"
   ]
  },
  {
   "cell_type": "code",
   "execution_count": 142,
   "metadata": {},
   "outputs": [
    {
     "data": {
      "text/html": [
       "<div>\n",
       "<style scoped>\n",
       "    .dataframe tbody tr th:only-of-type {\n",
       "        vertical-align: middle;\n",
       "    }\n",
       "\n",
       "    .dataframe tbody tr th {\n",
       "        vertical-align: top;\n",
       "    }\n",
       "\n",
       "    .dataframe thead th {\n",
       "        text-align: right;\n",
       "    }\n",
       "</style>\n",
       "<table border=\"1\" class=\"dataframe\">\n",
       "  <thead>\n",
       "    <tr style=\"text-align: right;\">\n",
       "      <th></th>\n",
       "      <th>show_number</th>\n",
       "      <th>air_date</th>\n",
       "      <th>jround</th>\n",
       "      <th>category</th>\n",
       "      <th>value</th>\n",
       "      <th>question</th>\n",
       "      <th>answer</th>\n",
       "      <th>dollar_amt</th>\n",
       "    </tr>\n",
       "  </thead>\n",
       "  <tbody>\n",
       "    <tr>\n",
       "      <th>0</th>\n",
       "      <td>4680</td>\n",
       "      <td>12/31/04</td>\n",
       "      <td>Jeopardy!</td>\n",
       "      <td>HISTORY</td>\n",
       "      <td>$200</td>\n",
       "      <td>For the last 8 years of his life, Galileo was ...</td>\n",
       "      <td>Copernicus</td>\n",
       "      <td>200</td>\n",
       "    </tr>\n",
       "    <tr>\n",
       "      <th>1</th>\n",
       "      <td>4680</td>\n",
       "      <td>12/31/04</td>\n",
       "      <td>Jeopardy!</td>\n",
       "      <td>ESPN's TOP 10 ALL-TIME ATHLETES</td>\n",
       "      <td>$200</td>\n",
       "      <td>No. 2: 1912 Olympian; football star at Carlisl...</td>\n",
       "      <td>Jim Thorpe</td>\n",
       "      <td>200</td>\n",
       "    </tr>\n",
       "  </tbody>\n",
       "</table>\n",
       "</div>"
      ],
      "text/plain": [
       "   show_number  air_date     jround                         category value  \\\n",
       "0         4680  12/31/04  Jeopardy!                          HISTORY  $200   \n",
       "1         4680  12/31/04  Jeopardy!  ESPN's TOP 10 ALL-TIME ATHLETES  $200   \n",
       "\n",
       "                                            question      answer dollar_amt  \n",
       "0  For the last 8 years of his life, Galileo was ...  Copernicus        200  \n",
       "1  No. 2: 1912 Olympian; football star at Carlisl...  Jim Thorpe        200  "
      ]
     },
     "execution_count": 142,
     "metadata": {},
     "output_type": "execute_result"
    }
   ],
   "source": [
    "df.head(2)"
   ]
  },
  {
   "cell_type": "markdown",
   "metadata": {},
   "source": [
    "## change dtype \n",
    "- from object to numeric: \n",
    "`df['column_name'] = pd.to_numeric(df.colum_name, errors='coerce')`\n",
    "- deal with `Nonetype` by passing `coerce` to argument `errors`"
   ]
  },
  {
   "cell_type": "code",
   "execution_count": 143,
   "metadata": {
    "collapsed": true
   },
   "outputs": [
    {
     "ename": "ValueError",
     "evalue": "Unable to parse string \"None\" at position 55",
     "output_type": "error",
     "traceback": [
      "\u001b[0;31m---------------------------------------------------------------------------\u001b[0m",
      "\u001b[0;31mValueError\u001b[0m                                Traceback (most recent call last)",
      "\u001b[0;32mpandas/_libs/src/inference.pyx\u001b[0m in \u001b[0;36mpandas._libs.lib.maybe_convert_numeric\u001b[0;34m()\u001b[0m\n",
      "\u001b[0;31mValueError\u001b[0m: Unable to parse string \"None\"",
      "\nDuring handling of the above exception, another exception occurred:\n",
      "\u001b[0;31mValueError\u001b[0m                                Traceback (most recent call last)",
      "\u001b[0;32m<ipython-input-143-8fbfe5666f0e>\u001b[0m in \u001b[0;36m<module>\u001b[0;34m()\u001b[0m\n\u001b[1;32m      1\u001b[0m \u001b[0;31m#df['show_number'] =\u001b[0m\u001b[0;34m\u001b[0m\u001b[0;34m\u001b[0m\u001b[0m\n\u001b[0;32m----> 2\u001b[0;31m \u001b[0mpd\u001b[0m\u001b[0;34m.\u001b[0m\u001b[0mto_numeric\u001b[0m\u001b[0;34m(\u001b[0m\u001b[0mdf\u001b[0m\u001b[0;34m.\u001b[0m\u001b[0mdollar_amt\u001b[0m\u001b[0;34m)\u001b[0m\u001b[0;31m#, errors=\"coerce\")\u001b[0m\u001b[0;34m\u001b[0m\u001b[0m\n\u001b[0m",
      "\u001b[0;32m~/.virtualenvs/metis-IwMQzmtF/lib/python3.6/site-packages/pandas/core/tools/numeric.py\u001b[0m in \u001b[0;36mto_numeric\u001b[0;34m(arg, errors, downcast)\u001b[0m\n\u001b[1;32m    131\u001b[0m             \u001b[0mcoerce_numeric\u001b[0m \u001b[0;34m=\u001b[0m \u001b[0;32mFalse\u001b[0m \u001b[0;32mif\u001b[0m \u001b[0merrors\u001b[0m \u001b[0;32min\u001b[0m \u001b[0;34m(\u001b[0m\u001b[0;34m'ignore'\u001b[0m\u001b[0;34m,\u001b[0m \u001b[0;34m'raise'\u001b[0m\u001b[0;34m)\u001b[0m \u001b[0;32melse\u001b[0m \u001b[0;32mTrue\u001b[0m\u001b[0;34m\u001b[0m\u001b[0m\n\u001b[1;32m    132\u001b[0m             values = lib.maybe_convert_numeric(values, set(),\n\u001b[0;32m--> 133\u001b[0;31m                                                coerce_numeric=coerce_numeric)\n\u001b[0m\u001b[1;32m    134\u001b[0m \u001b[0;34m\u001b[0m\u001b[0m\n\u001b[1;32m    135\u001b[0m     \u001b[0;32mexcept\u001b[0m \u001b[0mException\u001b[0m\u001b[0;34m:\u001b[0m\u001b[0;34m\u001b[0m\u001b[0m\n",
      "\u001b[0;32mpandas/_libs/src/inference.pyx\u001b[0m in \u001b[0;36mpandas._libs.lib.maybe_convert_numeric\u001b[0;34m()\u001b[0m\n",
      "\u001b[0;31mValueError\u001b[0m: Unable to parse string \"None\" at position 55"
     ]
    }
   ],
   "source": [
    "#df['show_number'] = \n",
    "pd.to_numeric(df.dollar_amt)#, errors=\"coerce\")"
   ]
  },
  {
   "cell_type": "code",
   "execution_count": 144,
   "metadata": {},
   "outputs": [
    {
     "data": {
      "text/plain": [
       "'None'"
      ]
     },
     "execution_count": 144,
     "metadata": {},
     "output_type": "execute_result"
    }
   ],
   "source": [
    "df.dollar_amt.iloc[55]"
   ]
  },
  {
   "cell_type": "code",
   "execution_count": 145,
   "metadata": {},
   "outputs": [],
   "source": [
    "df['dollar_amt'] = pd.to_numeric(df.dollar_amt, errors=\"coerce\")"
   ]
  },
  {
   "cell_type": "code",
   "execution_count": 146,
   "metadata": {},
   "outputs": [
    {
     "data": {
      "text/plain": [
       "count    10816.000\n",
       "mean       761.001\n",
       "std        643.154\n",
       "min        100.000\n",
       "25%        400.000\n",
       "50%        600.000\n",
       "75%       1000.000\n",
       "max      12000.000\n",
       "Name: dollar_amt, dtype: float64"
      ]
     },
     "execution_count": 146,
     "metadata": {},
     "output_type": "execute_result"
    }
   ],
   "source": [
    "df.dollar_amt.describe()"
   ]
  },
  {
   "cell_type": "markdown",
   "metadata": {},
   "source": [
    "# Barplot of categorical variable"
   ]
  },
  {
   "cell_type": "code",
   "execution_count": 147,
   "metadata": {},
   "outputs": [
    {
     "data": {
      "image/png": "[encoded data removed]",
      "text/plain": [
       "<matplotlib.figure.Figure at 0x10e1174e0>"
      ]
     },
     "metadata": {},
     "output_type": "display_data"
    }
   ],
   "source": [
    "# f, ax = plt.subplots(figsize=(8,7))\n",
    "df.jround.value_counts().plot(kind='barh', title=\"Number of Rounds\")\n",
    "plt.xlabel('Count')\n",
    "plt.show()"
   ]
  },
  {
   "cell_type": "markdown",
   "metadata": {},
   "source": [
    "# barplot of numeric variable"
   ]
  },
  {
   "cell_type": "code",
   "execution_count": 148,
   "metadata": {},
   "outputs": [
    {
     "data": {
      "image/png": "[encoded data removed]",
      "text/plain": [
       "<matplotlib.figure.Figure at 0x10e110d30>"
      ]
     },
     "metadata": {},
     "output_type": "display_data"
    }
   ],
   "source": [
    "fig = plt.figure(figsize=(12,8))\n",
    "df.dollar_amt.value_counts().plot('bar',                                   \n",
    "                                 fontsize=12)#,\n",
    "#                                  title=\"Count of questions by Dollar Value\",)\n",
    "plt.ylabel(\"Count\", fontsize=14)\n",
    "plt.xlabel(\"$ Value\", fontsize=14)\n",
    "plt.title(\"Count of Questions by Dollar Value\", fontsize=18)\n",
    "plt.show()"
   ]
  },
  {
   "cell_type": "markdown",
   "metadata": {},
   "source": [
    "# barplot of categorical variable"
   ]
  },
  {
   "cell_type": "code",
   "execution_count": 153,
   "metadata": {},
   "outputs": [
    {
     "data": {
      "text/plain": [
       "<matplotlib.axes._subplots.AxesSubplot at 0x10e0ce588>"
      ]
     },
     "execution_count": 153,
     "metadata": {},
     "output_type": "execute_result"
    },
    {
     "data": {
      "image/png": "[encoded data removed]",
      "text/plain": [
       "<matplotlib.figure.Figure at 0x10e3ff630>"
      ]
     },
     "metadata": {},
     "output_type": "display_data"
    }
   ],
   "source": [
    "# fig, ax = plt.figure(figsize=(12,5))\n",
    "\n",
    "fig = plt.figure(figsize=(12,5))\n",
    "df.value.value_counts().plot('bar')"
   ]
  },
  {
   "cell_type": "markdown",
   "metadata": {},
   "source": [
    "- below fails because it should be either\n",
    "\n",
    "`fig = plt.figure(figsize=(12,5))`\n",
    "\n",
    "OR\n",
    "\n",
    "`f, ax = plt.subplots(figsize=(12,5))`\n",
    "\n",
    "\n",
    "- if use plt.subplots, first argument determines shape of subplots; if single graph, can omit or write `1`; axes can be decoupled to begin with or done later but determines how you plot things onto it later on"
   ]
  },
  {
   "cell_type": "code",
   "execution_count": 150,
   "metadata": {
    "collapsed": true
   },
   "outputs": [
    {
     "ename": "TypeError",
     "evalue": "'Figure' object is not iterable",
     "output_type": "error",
     "traceback": [
      "\u001b[0;31m---------------------------------------------------------------------------\u001b[0m",
      "\u001b[0;31mTypeError\u001b[0m                                 Traceback (most recent call last)",
      "\u001b[0;32m<ipython-input-150-1e433a1ddd6b>\u001b[0m in \u001b[0;36m<module>\u001b[0;34m()\u001b[0m\n\u001b[1;32m      1\u001b[0m \u001b[0;31m# fig, ax = plt.figure(figsize=(12,5))\u001b[0m\u001b[0;34m\u001b[0m\u001b[0;34m\u001b[0m\u001b[0m\n\u001b[1;32m      2\u001b[0m \u001b[0;34m\u001b[0m\u001b[0m\n\u001b[0;32m----> 3\u001b[0;31m \u001b[0mf\u001b[0m\u001b[0;34m,\u001b[0m \u001b[0max\u001b[0m \u001b[0;34m=\u001b[0m \u001b[0mplt\u001b[0m\u001b[0;34m.\u001b[0m\u001b[0mfigure\u001b[0m\u001b[0;34m(\u001b[0m\u001b[0;36m1\u001b[0m\u001b[0;34m,\u001b[0m\u001b[0mfigsize\u001b[0m\u001b[0;34m=\u001b[0m\u001b[0;34m(\u001b[0m\u001b[0;36m12\u001b[0m\u001b[0;34m,\u001b[0m\u001b[0;36m5\u001b[0m\u001b[0;34m)\u001b[0m\u001b[0;34m,\u001b[0m\u001b[0;34m)\u001b[0m\u001b[0;34m\u001b[0m\u001b[0m\n\u001b[0m\u001b[1;32m      4\u001b[0m \u001b[0mdf\u001b[0m\u001b[0;34m.\u001b[0m\u001b[0mvalue\u001b[0m\u001b[0;34m.\u001b[0m\u001b[0mvalue_counts\u001b[0m\u001b[0;34m(\u001b[0m\u001b[0;34m)\u001b[0m\u001b[0;34m.\u001b[0m\u001b[0mplot\u001b[0m\u001b[0;34m(\u001b[0m\u001b[0;34m'bar'\u001b[0m\u001b[0;34m)\u001b[0m\u001b[0;34m\u001b[0m\u001b[0m\n",
      "\u001b[0;31mTypeError\u001b[0m: 'Figure' object is not iterable"
     ]
    },
    {
     "data": {
      "text/plain": [
       "<matplotlib.figure.Figure at 0x10e40ca20>"
      ]
     },
     "metadata": {},
     "output_type": "display_data"
    }
   ],
   "source": [
    "# fig, ax = plt.figure(figsize=(12,5))\n",
    "\n",
    "f, ax = plt.figure(1,figsize=(12,5),)\n",
    "df.value.value_counts().plot('bar')"
   ]
  },
  {
   "cell_type": "code",
   "execution_count": 152,
   "metadata": {},
   "outputs": [
    {
     "data": {
      "image/png": "[encoded data removed]",
      "text/plain": [
       "<matplotlib.figure.Figure at 0x10e4be4a8>"
      ]
     },
     "metadata": {},
     "output_type": "display_data"
    }
   ],
   "source": [
    "# fig, ax = plt.figure(figsize=(12,5))\n",
    "\n",
    "f, ax = plt.subplots(1,figsize=(12,5))\n",
    "df.value.value_counts().plot('bar')\n",
    "plt.show()"
   ]
  },
  {
   "cell_type": "markdown",
   "metadata": {},
   "source": [
    "# FUN JEOPARDY"
   ]
  },
  {
   "cell_type": "code",
   "execution_count": 158,
   "metadata": {},
   "outputs": [],
   "source": [
    "df.category = df.category.str.title()    "
   ]
  },
  {
   "cell_type": "code",
   "execution_count": 159,
   "metadata": {},
   "outputs": [
    {
     "data": {
      "text/html": [
       "<div>\n",
       "<style scoped>\n",
       "    .dataframe tbody tr th:only-of-type {\n",
       "        vertical-align: middle;\n",
       "    }\n",
       "\n",
       "    .dataframe tbody tr th {\n",
       "        vertical-align: top;\n",
       "    }\n",
       "\n",
       "    .dataframe thead th {\n",
       "        text-align: right;\n",
       "    }\n",
       "</style>\n",
       "<table border=\"1\" class=\"dataframe\">\n",
       "  <thead>\n",
       "    <tr style=\"text-align: right;\">\n",
       "      <th></th>\n",
       "      <th>show_number</th>\n",
       "      <th>air_date</th>\n",
       "      <th>jround</th>\n",
       "      <th>category</th>\n",
       "      <th>value</th>\n",
       "      <th>question</th>\n",
       "      <th>answer</th>\n",
       "      <th>dollar_amt</th>\n",
       "    </tr>\n",
       "  </thead>\n",
       "  <tbody>\n",
       "    <tr>\n",
       "      <th>0</th>\n",
       "      <td>4680</td>\n",
       "      <td>12/31/04</td>\n",
       "      <td>Jeopardy!</td>\n",
       "      <td>History</td>\n",
       "      <td>$200</td>\n",
       "      <td>For the last 8 years of his life, Galileo was ...</td>\n",
       "      <td>Copernicus</td>\n",
       "      <td>200.0</td>\n",
       "    </tr>\n",
       "    <tr>\n",
       "      <th>1</th>\n",
       "      <td>4680</td>\n",
       "      <td>12/31/04</td>\n",
       "      <td>Jeopardy!</td>\n",
       "      <td>Espn'S Top 10 All-Time Athletes</td>\n",
       "      <td>$200</td>\n",
       "      <td>No. 2: 1912 Olympian; football star at Carlisl...</td>\n",
       "      <td>Jim Thorpe</td>\n",
       "      <td>200.0</td>\n",
       "    </tr>\n",
       "    <tr>\n",
       "      <th>2</th>\n",
       "      <td>4680</td>\n",
       "      <td>12/31/04</td>\n",
       "      <td>Jeopardy!</td>\n",
       "      <td>Everybody Talks About It...</td>\n",
       "      <td>$200</td>\n",
       "      <td>The city of Yuma in this state has a record av...</td>\n",
       "      <td>Arizona</td>\n",
       "      <td>200.0</td>\n",
       "    </tr>\n",
       "    <tr>\n",
       "      <th>3</th>\n",
       "      <td>4680</td>\n",
       "      <td>12/31/04</td>\n",
       "      <td>Jeopardy!</td>\n",
       "      <td>The Company Line</td>\n",
       "      <td>$200</td>\n",
       "      <td>In 1963, live on \"The Art Linkletter Show\", th...</td>\n",
       "      <td>McDonald's</td>\n",
       "      <td>200.0</td>\n",
       "    </tr>\n",
       "    <tr>\n",
       "      <th>4</th>\n",
       "      <td>4680</td>\n",
       "      <td>12/31/04</td>\n",
       "      <td>Jeopardy!</td>\n",
       "      <td>Epitaphs &amp; Tributes</td>\n",
       "      <td>$200</td>\n",
       "      <td>Signer of the Dec. of Indep., framer of the Co...</td>\n",
       "      <td>John Adams</td>\n",
       "      <td>200.0</td>\n",
       "    </tr>\n",
       "    <tr>\n",
       "      <th>5</th>\n",
       "      <td>4680</td>\n",
       "      <td>12/31/04</td>\n",
       "      <td>Jeopardy!</td>\n",
       "      <td>3-Letter Words</td>\n",
       "      <td>$200</td>\n",
       "      <td>In the title of an Aesop fable, this insect sh...</td>\n",
       "      <td>the ant</td>\n",
       "      <td>200.0</td>\n",
       "    </tr>\n",
       "    <tr>\n",
       "      <th>6</th>\n",
       "      <td>4680</td>\n",
       "      <td>12/31/04</td>\n",
       "      <td>Jeopardy!</td>\n",
       "      <td>History</td>\n",
       "      <td>$400</td>\n",
       "      <td>Built in 312 B.C. to link Rome &amp; the South of ...</td>\n",
       "      <td>the Appian Way</td>\n",
       "      <td>400.0</td>\n",
       "    </tr>\n",
       "    <tr>\n",
       "      <th>7</th>\n",
       "      <td>4680</td>\n",
       "      <td>12/31/04</td>\n",
       "      <td>Jeopardy!</td>\n",
       "      <td>Espn'S Top 10 All-Time Athletes</td>\n",
       "      <td>$400</td>\n",
       "      <td>No. 8: 30 steals for the Birmingham Barons; 2,...</td>\n",
       "      <td>Michael Jordan</td>\n",
       "      <td>400.0</td>\n",
       "    </tr>\n",
       "    <tr>\n",
       "      <th>8</th>\n",
       "      <td>4680</td>\n",
       "      <td>12/31/04</td>\n",
       "      <td>Jeopardy!</td>\n",
       "      <td>Everybody Talks About It...</td>\n",
       "      <td>$400</td>\n",
       "      <td>In the winter of 1971-72, a record 1,122 inche...</td>\n",
       "      <td>Washington</td>\n",
       "      <td>400.0</td>\n",
       "    </tr>\n",
       "    <tr>\n",
       "      <th>9</th>\n",
       "      <td>4680</td>\n",
       "      <td>12/31/04</td>\n",
       "      <td>Jeopardy!</td>\n",
       "      <td>The Company Line</td>\n",
       "      <td>$400</td>\n",
       "      <td>This housewares store was named for the packag...</td>\n",
       "      <td>Crate &amp; Barrel</td>\n",
       "      <td>400.0</td>\n",
       "    </tr>\n",
       "  </tbody>\n",
       "</table>\n",
       "</div>"
      ],
      "text/plain": [
       "   show_number  air_date     jround                         category value  \\\n",
       "0         4680  12/31/04  Jeopardy!                          History  $200   \n",
       "1         4680  12/31/04  Jeopardy!  Espn'S Top 10 All-Time Athletes  $200   \n",
       "2         4680  12/31/04  Jeopardy!      Everybody Talks About It...  $200   \n",
       "3         4680  12/31/04  Jeopardy!                 The Company Line  $200   \n",
       "4         4680  12/31/04  Jeopardy!              Epitaphs & Tributes  $200   \n",
       "5         4680  12/31/04  Jeopardy!                   3-Letter Words  $200   \n",
       "6         4680  12/31/04  Jeopardy!                          History  $400   \n",
       "7         4680  12/31/04  Jeopardy!  Espn'S Top 10 All-Time Athletes  $400   \n",
       "8         4680  12/31/04  Jeopardy!      Everybody Talks About It...  $400   \n",
       "9         4680  12/31/04  Jeopardy!                 The Company Line  $400   \n",
       "\n",
       "                                            question          answer  \\\n",
       "0  For the last 8 years of his life, Galileo was ...      Copernicus   \n",
       "1  No. 2: 1912 Olympian; football star at Carlisl...      Jim Thorpe   \n",
       "2  The city of Yuma in this state has a record av...         Arizona   \n",
       "3  In 1963, live on \"The Art Linkletter Show\", th...      McDonald's   \n",
       "4  Signer of the Dec. of Indep., framer of the Co...      John Adams   \n",
       "5  In the title of an Aesop fable, this insect sh...         the ant   \n",
       "6  Built in 312 B.C. to link Rome & the South of ...  the Appian Way   \n",
       "7  No. 8: 30 steals for the Birmingham Barons; 2,...  Michael Jordan   \n",
       "8  In the winter of 1971-72, a record 1,122 inche...      Washington   \n",
       "9  This housewares store was named for the packag...  Crate & Barrel   \n",
       "\n",
       "   dollar_amt  \n",
       "0       200.0  \n",
       "1       200.0  \n",
       "2       200.0  \n",
       "3       200.0  \n",
       "4       200.0  \n",
       "5       200.0  \n",
       "6       400.0  \n",
       "7       400.0  \n",
       "8       400.0  \n",
       "9       400.0  "
      ]
     },
     "execution_count": 159,
     "metadata": {},
     "output_type": "execute_result"
    }
   ],
   "source": [
    "df.head(10)"
   ]
  },
  {
   "cell_type": "code",
   "execution_count": 165,
   "metadata": {},
   "outputs": [],
   "source": [
    "df['air_date'] = pd.to_datetime(df.air_date)"
   ]
  },
  {
   "cell_type": "code",
   "execution_count": 166,
   "metadata": {},
   "outputs": [
    {
     "data": {
      "text/plain": [
       "show_number             int64\n",
       "air_date       datetime64[ns]\n",
       "jround                 object\n",
       "category               object\n",
       "value                  object\n",
       "question               object\n",
       "answer                 object\n",
       "dollar_amt            float64\n",
       "dtype: object"
      ]
     },
     "execution_count": 166,
     "metadata": {},
     "output_type": "execute_result"
    }
   ],
   "source": [
    "df.dtypes"
   ]
  },
  {
   "cell_type": "code",
   "execution_count": 172,
   "metadata": {},
   "outputs": [
    {
     "name": "stdout",
     "output_type": "stream",
     "text": [
      "\n",
      " 1984-12-04 00:00:00 \n",
      " 2012-01-19 00:00:00\n"
     ]
    }
   ],
   "source": [
    "print(\"\\n\",df.air_date.min(),\"\\n\", df.air_date.max())"
   ]
  },
  {
   "cell_type": "code",
   "execution_count": 173,
   "metadata": {},
   "outputs": [
    {
     "data": {
      "text/plain": [
       "1999    936\n",
       "2007    777\n",
       "2010    773\n",
       "2006    729\n",
       "2008    726\n",
       "2009    671\n",
       "2000    665\n",
       "2004    654\n",
       "2011    605\n",
       "1998    591\n",
       "2002    545\n",
       "2005    541\n",
       "       ... \n",
       "1996    244\n",
       "2012    237\n",
       "1992    122\n",
       "1993    122\n",
       "1988    114\n",
       "1994     61\n",
       "1991     61\n",
       "1987     61\n",
       "1995     57\n",
       "1986     55\n",
       "1984     55\n",
       "1985     54\n",
       "Name: air_date, Length: 28, dtype: int64"
      ]
     },
     "execution_count": 173,
     "metadata": {},
     "output_type": "execute_result"
    }
   ],
   "source": [
    "df.air_date.dt.year.value_counts()"
   ]
  },
  {
   "cell_type": "code",
   "execution_count": 163,
   "metadata": {},
   "outputs": [
    {
     "data": {
      "text/plain": [
       "<matplotlib.axes._subplots.AxesSubplot at 0x10a8616d8>"
      ]
     },
     "execution_count": 163,
     "metadata": {},
     "output_type": "execute_result"
    },
    {
     "data": {
      "image/png": "[encoded data removed]",
      "text/plain": [
       "<matplotlib.figure.Figure at 0x109c416a0>"
      ]
     },
     "metadata": {},
     "output_type": "display_data"
    }
   ],
   "source": [
    "df.category.value_counts().plot(kind=\"barh\")"
   ]
  },
  {
   "cell_type": "code",
   "execution_count": 162,
   "metadata": {},
   "outputs": [
    {
     "data": {
      "text/plain": [
       "['History',\n",
       " \"Espn'S Top 10 All-Time Athletes\",\n",
       " 'Everybody Talks About It...',\n",
       " 'The Company Line',\n",
       " 'Epitaphs & Tributes',\n",
       " '3-Letter Words',\n",
       " 'Dr. Seuss At The Multiplex',\n",
       " 'Presidential States Of Birth',\n",
       " 'Airline Travel',\n",
       " 'That Old-Time Religion',\n",
       " 'Musical Trains',\n",
       " '\"X\"S & \"O\"S',\n",
       " 'The Solar System',\n",
       " 'Geography \"E\"',\n",
       " 'Radio Disney',\n",
       " 'Parts Of Peach',\n",
       " 'Be Fruitful & Multiply',\n",
       " \"Let'S Bounce\",\n",
       " 'Rhymes With Smart',\n",
       " 'Science Class',\n",
       " 'Kids In Sports',\n",
       " 'Just The Facts',\n",
       " 'See & Say',\n",
       " 'News To Me',\n",
       " 'In The Dictionary',\n",
       " 'Historic Women',\n",
       " 'Royal Female Nicknames',\n",
       " 'Tv Actors & Roles',\n",
       " 'Travel & Tourism',\n",
       " '\"I\" Lads',\n",
       " 'Forewords',\n",
       " 'Backwords',\n",
       " 'People In History',\n",
       " 'Cinematic Dictionary',\n",
       " \"It'S Ours!\",\n",
       " 'British Fashion',\n",
       " 'Andy Warhol',\n",
       " 'Theatre Crossword Clues \"M\"',\n",
       " 'Sports Legends',\n",
       " 'General Science',\n",
       " 'Getting Possessive',\n",
       " 'Flags Of The World',\n",
       " 'Architects',\n",
       " '1994 Films',\n",
       " 'The Eyes Have It',\n",
       " 'Alaska',\n",
       " 'International Sportsmen',\n",
       " 'Drama Queens',\n",
       " 'Angels',\n",
       " 'In Exile',\n",
       " 'The \"I\"S Have It',\n",
       " 'The Map Of Europe',\n",
       " 'The Civil War',\n",
       " 'Celebs',\n",
       " \"What'S In A Name?\",\n",
       " 'Emoticons',\n",
       " \"Flag 'Em Down\",\n",
       " '\"Teen\" Scene',\n",
       " 'Not A Current National Capital',\n",
       " 'U.S. Winter Olympians',\n",
       " 'Science',\n",
       " 'Words Of The Writer',\n",
       " 'At The Mall',\n",
       " 'From The Greek',\n",
       " 'Famous Ships',\n",
       " 'Old Folks In Their 30S',\n",
       " 'Movies & Tv',\n",
       " 'A State Of College-Ness',\n",
       " 'Animal Collective',\n",
       " \"I'D Rather Be Skiing\",\n",
       " 'Parlez Vous?',\n",
       " 'American Authors',\n",
       " 'Albums That Rock',\n",
       " 'Anatomy',\n",
       " 'Mathem-Attack!',\n",
       " 'Name The Decade',\n",
       " 'Word Origins',\n",
       " 'European History',\n",
       " 'American Explorers',\n",
       " 'Measuring Devices',\n",
       " 'Mythology',\n",
       " 'Television',\n",
       " 'Annual Events',\n",
       " 'Homophonic Pairs',\n",
       " 'Notable Nonhumans',\n",
       " 'World Facts',\n",
       " 'Art & Artists',\n",
       " 'Business & Industry',\n",
       " 'Poets',\n",
       " 'British Novels',\n",
       " 'Lost In Space',\n",
       " 'Timeless Tv',\n",
       " \"Let'S Hit It\",\n",
       " 'World Book Describes The \"G\" Man',\n",
       " 'Money Slang',\n",
       " 'Rvs',\n",
       " 'Play Heroines',\n",
       " 'Defenestration In Cinema',\n",
       " 'A Massive \"M\"Etropolis',\n",
       " 'Tainted Gov',\n",
       " 'Medicine',\n",
       " '4 Consonants In A Row',\n",
       " 'Beginning & End',\n",
       " 'State Superlatives',\n",
       " '3 Little Letters',\n",
       " 'Call Out The Voice Squad',\n",
       " 'You\\'Re Under A \"Rest\"',\n",
       " 'Early America',\n",
       " 'Best Picture Oscar-Winners In Other Words',\n",
       " 'Down Mexico Way',\n",
       " 'Take A Pill',\n",
       " 'Transportation',\n",
       " 'An E For An I',\n",
       " 'The British Theatre',\n",
       " 'At The Kennedy Center',\n",
       " 'National Monuments',\n",
       " 'The Circus',\n",
       " 'On The Radio',\n",
       " 'Celeb Stuff',\n",
       " 'Common Bonds',\n",
       " 'The Obligatory Poetry Category',\n",
       " 'Art',\n",
       " 'The Redcoats Are Coming!',\n",
       " '\"High\" School',\n",
       " 'Off To A Good Start',\n",
       " 'College Mascots',\n",
       " 'The Constitution',\n",
       " 'Thriller',\n",
       " 'Ben',\n",
       " '\"Black\" Or \"White\"',\n",
       " 'Remember The Time',\n",
       " 'Rock With You',\n",
       " 'Eat It!',\n",
       " 'Scotland',\n",
       " 'Baby Boomer Memories',\n",
       " \"Something'S Fishy\",\n",
       " '\"T\"Elevision',\n",
       " 'World Religion',\n",
       " 'Sorta Sounds Like Oprah?',\n",
       " 'Geographic Phrases',\n",
       " \"Actresses' First Films\",\n",
       " 'Libraries',\n",
       " 'Telephone History',\n",
       " 'Vermonters',\n",
       " '\"X\", \"Y\", \"Z\"',\n",
       " 'Shakespearean Last Scenes',\n",
       " 'Medical Milestones',\n",
       " 'Poets & Poetry',\n",
       " 'World Geography',\n",
       " 'Mixed Drinks',\n",
       " 'The 1930S',\n",
       " 'Pop Music',\n",
       " 'American History',\n",
       " 'Canadian Geography, Eh?',\n",
       " 'On His Baseball Hall Of Fame Plaque',\n",
       " 'Stamps',\n",
       " 'The Killers',\n",
       " 'Spott Tha Mispeled Wurd',\n",
       " 'The Big 10',\n",
       " 'Instrument Etymology',\n",
       " 'Facial Expressions',\n",
       " 'Lit My Fire',\n",
       " \"The Star'S Tv Show & Movie\",\n",
       " 'The Big 10-Letter Words',\n",
       " 'Ranks & Titles',\n",
       " 'Weather World',\n",
       " 'On The Cover Of Sgt. Pepper',\n",
       " 'Clothing Words',\n",
       " 'My Place?',\n",
       " \"It'S A Date!\",\n",
       " '\"J\" Whiz',\n",
       " 'Playwrights',\n",
       " 'The 1890S',\n",
       " 'American Nicknames',\n",
       " '\"S\"-Oterica',\n",
       " 'Vietnam',\n",
       " 'Tour Of Judy',\n",
       " 'Candy',\n",
       " 'Historic Nicknames',\n",
       " 'Big, Really Big!',\n",
       " 'Political Movies',\n",
       " 'The 1990S',\n",
       " 'U.S. States',\n",
       " 'Crossword Clues \"D\"',\n",
       " 'Capitol Thinkers',\n",
       " 'Meet The Parents',\n",
       " 'You Should Be In A Ballet!',\n",
       " 'Gross National Products',\n",
       " 'Potpourri',\n",
       " 'The Presidency',\n",
       " 'African Geography',\n",
       " 'Bon Appe-\"T\"',\n",
       " \"Ain'T That America\",\n",
       " 'Why?',\n",
       " 'The Butler Did It',\n",
       " 'Science & Nature',\n",
       " 'The Melbourne Olympics, 1956',\n",
       " 'Writers Cubed',\n",
       " 'British Royal Houses',\n",
       " 'And I Quote',\n",
       " 'The \"Butler\" Did It',\n",
       " 'Theatre',\n",
       " '20Th Century Quotes',\n",
       " 'All Aboard The Soul Train',\n",
       " 'War Stories',\n",
       " 'Europe',\n",
       " 'Weeds',\n",
       " 'Seeing \"Red\"',\n",
       " 'Initial T.V.',\n",
       " 'Saints Be Praised',\n",
       " 'Mr. Or Ms. Williams',\n",
       " 'Somethin\\' To \"C\"',\n",
       " 'Physical Science',\n",
       " 'Film Classics',\n",
       " 'Numbers',\n",
       " \"'65\",\n",
       " 'Fore!',\n",
       " 'Three',\n",
       " 'Two',\n",
       " 'Juan',\n",
       " 'Korea',\n",
       " '\"Never\" At The Movies',\n",
       " 'Polar Exploration',\n",
       " 'Airport Codes',\n",
       " \"That'S No Lady...\",\n",
       " 'Double A',\n",
       " 'Nonfiction Authors',\n",
       " 'Those Darn Etruscans',\n",
       " 'People',\n",
       " 'So You Want To Be A 19Th Century Heroine',\n",
       " 'Central Park',\n",
       " 'This Category Stinks!',\n",
       " 'Abbreviated States',\n",
       " 'Colonial Arts',\n",
       " 'International Cuisine',\n",
       " 'We Are The Champions',\n",
       " 'Religion',\n",
       " 'Problems, Problems',\n",
       " '\"En\" The Beginning',\n",
       " 'Knowledge By The Numbers',\n",
       " 'The Middle Ages',\n",
       " 'Manias',\n",
       " 'Jewelry',\n",
       " 'Australia',\n",
       " 'Sports Equipment',\n",
       " 'Peanuts',\n",
       " 'U.S.A.',\n",
       " 'Pen Names',\n",
       " 'Mythological Pairs',\n",
       " '11-Letter Words',\n",
       " 'Musicals',\n",
       " 'Famous Names',\n",
       " 'Advertising Slogans',\n",
       " 'The Bible',\n",
       " 'Weather',\n",
       " '4-Letter Words',\n",
       " 'Presidential Astrology',\n",
       " 'Pirate Movies',\n",
       " 'Authors',\n",
       " 'Wine',\n",
       " 'Cable Television',\n",
       " \"Teacher'S Pet\",\n",
       " 'Music Videos',\n",
       " 'How Do You...',\n",
       " \"Tell 'Em What They'Ve Won, Johnny\",\n",
       " 'Pizza Toppings',\n",
       " 'Alliteration Station',\n",
       " 'Women On U.S. Stamps',\n",
       " 'Movie Title Translations',\n",
       " 'National Inventors Hall Of Fame',\n",
       " 'Julius Caesar',\n",
       " 'Love Poetry',\n",
       " 'Words In (The) Encyclopedia',\n",
       " 'The 50 States',\n",
       " 'First Novels',\n",
       " 'Classic Ad Lines',\n",
       " 'Lesser-Known Musicals',\n",
       " 'Horns',\n",
       " \"It'S A Doggy Dog World\",\n",
       " '\"Mum\"S The Word',\n",
       " 'License Plate Mottos',\n",
       " 'Big Mergers',\n",
       " '\"D\" In History',\n",
       " 'Adjectives',\n",
       " 'Asia',\n",
       " 'Trials Of The Century',\n",
       " \"Let'S Get M*A*S*Hed\",\n",
       " 'Valuable Places',\n",
       " 'Name The Automaker',\n",
       " 'Theatre Hodgepodge',\n",
       " '\"Pro\"Nouns',\n",
       " 'Heads Of State',\n",
       " 'Magazines',\n",
       " 'Rhymes With Stonehenge',\n",
       " 'Queen Victoria',\n",
       " 'We Are Amused',\n",
       " 'The Cast Of The Ten Commandments',\n",
       " 'Colleges & Universities',\n",
       " \"Si'S Signs Of The Apocalypse\",\n",
       " 'Literary Genres',\n",
       " 'Record Losses In 2005',\n",
       " 'So \"Long\"',\n",
       " '& Thanks For All The Fish',\n",
       " 'Canals',\n",
       " 'Nypd Tv',\n",
       " 'Hidden Books Of The Bible',\n",
       " 'Independence Days',\n",
       " 'Back In 1906',\n",
       " 'From The Latin',\n",
       " '20Th Century Books',\n",
       " 'Nonfiction People',\n",
       " 'What A Week',\n",
       " 'The Silver Screen',\n",
       " 'England, Scotland Or Wales',\n",
       " 'The Titanic',\n",
       " '\"Too\" Much',\n",
       " 'Hispanic History',\n",
       " 'The Last Pope Of This Name',\n",
       " '\"Ible\"S & Bits',\n",
       " 'Science Guys',\n",
       " \"Funny For Nothin'\",\n",
       " 'Chickens For Free',\n",
       " '19Th Century Politicians',\n",
       " 'It Happened In November',\n",
       " 'Instruments Of Change',\n",
       " 'Book Names',\n",
       " 'What Are You Doing?',\n",
       " 'Cover Me!',\n",
       " 'I\\'M Going \"Inn\"',\n",
       " 'Asian Capitals',\n",
       " 'I Love L.A. Kers',\n",
       " 'Cooking Equipment Food',\n",
       " 'International Names',\n",
       " 'Mythical Creatures',\n",
       " 'The \"Co\"-Category',\n",
       " 'Presidential Elections',\n",
       " 'A Dickensian Nightmare',\n",
       " 'University Sports Teams',\n",
       " '\"General\" Job Information',\n",
       " 'Battle To Name The War',\n",
       " 'Magazine Features',\n",
       " '3-Letter Abbrev.',\n",
       " 'Biblical People & Places',\n",
       " 'Philmographies',\n",
       " \"Artists' Retreats\",\n",
       " 'Get Smart',\n",
       " 'U.S. Geography',\n",
       " '\"Ch\"Ill Out!',\n",
       " 'Influential 19Th Century Thinkers',\n",
       " 'State Of The Union',\n",
       " 'Celebrity Rhyme Time',\n",
       " 'Norm!',\n",
       " 'Ipod, Youtube Or Wii',\n",
       " 'All Ashore For Bird Lore',\n",
       " 'The English Top 100',\n",
       " 'Brass',\n",
       " 'Strings',\n",
       " 'Wood & Wind',\n",
       " '\"Per\"Cussion',\n",
       " 'Conductors',\n",
       " 'Symphonies On Film',\n",
       " 'Historic Property Transactions',\n",
       " \"First Name'S The Same\",\n",
       " 'Novels',\n",
       " 'Bright Ideas',\n",
       " 'Teens In History',\n",
       " 'Rhyme Time',\n",
       " 'Constitutional Amendments',\n",
       " 'Sports Of The Female Olympians',\n",
       " 'Low Cut Genes',\n",
       " 'Fine Dining',\n",
       " 'Take Out',\n",
       " 'Mountains',\n",
       " 'Simple Science',\n",
       " 'Rock Music',\n",
       " 'At The Building Site',\n",
       " \"Hey, Good-Lookin'\",\n",
       " \"What'Cha Got Cookin'?\",\n",
       " 'Literary Houses',\n",
       " 'The Maine Attraction',\n",
       " 'Actresses',\n",
       " 'Crossword Clues \"M\"',\n",
       " \"It'S Greek Mythology To Me\",\n",
       " 'Take A Guess',\n",
       " 'Faraway Places',\n",
       " 'Birds!  Birds!  Birds!',\n",
       " 'Candy & Gum Slogans',\n",
       " 'Those Wacky Germans',\n",
       " 'Cartoons',\n",
       " 'The \"X\" Files',\n",
       " 'Languages',\n",
       " 'Nursery Rhymes',\n",
       " 'Are We There Yet?',\n",
       " 'Classical Music',\n",
       " 'Whose Is It?',\n",
       " 'Empires',\n",
       " 'A Shakespeare Play, For Openers',\n",
       " \"That'S Business\",\n",
       " 'Inlets',\n",
       " 'The Evolution Of \"M\"Usic',\n",
       " 'Foreign',\n",
       " \"What'S Your Beef?\",\n",
       " 'Weapons Of World War Ii',\n",
       " 'The Living Planet',\n",
       " 'Acting Presidents On Tv',\n",
       " '4 N',\n",
       " 'Sports & The Movies',\n",
       " 'Warner Bros.',\n",
       " 'Mortal Matters',\n",
       " 'Birds',\n",
       " 'Leviticus',\n",
       " \"Authors' Rhyme Time\",\n",
       " 'The \"W.B.\"',\n",
       " 'African Islands',\n",
       " 'Bills & Wills',\n",
       " 'U.S. Colleges',\n",
       " 'Classical Gases',\n",
       " 'Country Music',\n",
       " 'Fiction',\n",
       " 'Ships',\n",
       " 'Food Facts',\n",
       " 'King Arthur',\n",
       " 'Nature',\n",
       " 'Misc.',\n",
       " '\"Key\"S',\n",
       " \"Children'S  Literature\",\n",
       " 'Wyoming',\n",
       " 'Figure Skaters',\n",
       " 'Organized Labor',\n",
       " 'Vice Presidents',\n",
       " 'Your Honor, I Object!',\n",
       " 'Good Causes',\n",
       " 'Blarney',\n",
       " 'Lesser-Known Americans',\n",
       " 'The Loyola Opposition',\n",
       " 'Movie Cities',\n",
       " 'Women: Write On!',\n",
       " 'Goat-Pourri',\n",
       " 'Eponyms',\n",
       " '\"A\" Science Category',\n",
       " \"Last Name'S The Same\",\n",
       " 'The Western Hemisphere',\n",
       " 'The Director Speaks',\n",
       " 'Places',\n",
       " '\"Light\"S',\n",
       " 'Camera',\n",
       " 'Action!',\n",
       " \"Where'S My Coffee?\",\n",
       " 'Shakespearean Operas & Ballets',\n",
       " 'Backwards',\n",
       " '19Th Century America',\n",
       " 'Men Of The World',\n",
       " 'Famous Voyages',\n",
       " 'General Information',\n",
       " 'The Movies',\n",
       " 'Weaponry',\n",
       " 'Medical Talk',\n",
       " 'Fictional Characters',\n",
       " 'Crossword Clues \"F\"',\n",
       " 'Tv Producers',\n",
       " 'Tough Bodies Of Water',\n",
       " 'Hello, Deli!',\n",
       " 'Also A Book In The Bible',\n",
       " 'Is It \"Tea\" Time Yet?',\n",
       " 'Before They Were Senators',\n",
       " 'Cable Channels',\n",
       " 'Prophet Sharing',\n",
       " 'Women Of The World',\n",
       " 'Sweet!',\n",
       " '\"Ind\" The Know',\n",
       " 'Russian Scientists',\n",
       " 'Canadian Football',\n",
       " 'Guyanese Geography',\n",
       " 'Turkish Literature',\n",
       " 'Chinese Calendar Animals',\n",
       " 'Brazilian Words & Phrases',\n",
       " 'Classic Movie Characters',\n",
       " 'The Big Bangladesh',\n",
       " \"Who'S The Mrs.?\",\n",
       " 'Mythellaneous',\n",
       " \"Now You'Re Talking My Language\",\n",
       " 'Bird Hunting',\n",
       " \"Oscars Of The '70S\",\n",
       " 'The Sting',\n",
       " '\"Rock\"Y',\n",
       " 'The Godfather',\n",
       " 'Dear Junta',\n",
       " 'The French Connection',\n",
       " 'Shakespeare',\n",
       " '5-Letter Capitals',\n",
       " 'Sports',\n",
       " 'Pre-Columbian Cultures',\n",
       " '20Th Century Invention',\n",
       " 'On The Move',\n",
       " 'Double Talk',\n",
       " 'Diaries',\n",
       " 'Tough Movie Trivia',\n",
       " '\"O\" You Animal!',\n",
       " 'Interior Design',\n",
       " 'Name The Opera',\n",
       " 'People Who Became Words',\n",
       " 'Television & History',\n",
       " '5 Bands',\n",
       " 'The Replacements',\n",
       " 'The Fall',\n",
       " \"'Husker Do\",\n",
       " 'The English Beat',\n",
       " 'Big \"Star\"',\n",
       " \"Inside The Artist'S Studio With James Lipton\",\n",
       " 'Major League Baseball Nicknames',\n",
       " '\"O\"Pera',\n",
       " 'World Museums',\n",
       " 'Life Science',\n",
       " 'Double Meanings',\n",
       " 'Literary Titles',\n",
       " 'Presidential Libraries',\n",
       " 'Ballet',\n",
       " 'Check Out My Crib',\n",
       " 'Words',\n",
       " 'July',\n",
       " \"What'S On Tv?\",\n",
       " 'Law Enforcement',\n",
       " 'Literature',\n",
       " 'Companies Younger Than You',\n",
       " 'Synonyms',\n",
       " 'Animals',\n",
       " 'Historic Americans',\n",
       " 'National Foods',\n",
       " 'The Planet Uranus',\n",
       " 'Picture This',\n",
       " 'All My Xs',\n",
       " 'Live In Texas',\n",
       " 'French Art & Artists',\n",
       " 'On The Go',\n",
       " '3-Named Authors',\n",
       " 'Horse Sense',\n",
       " 'The Emperor Nero',\n",
       " '\"Boo\"!',\n",
       " 'It Borders Just One Other Country',\n",
       " '21St Century Music',\n",
       " 'Baby Names A La Shakespeare',\n",
       " 'Yes, That\\'S \"White\"',\n",
       " 'When The Saints',\n",
       " 'Come, Ho Chi Minh',\n",
       " \"Ballets We'Ve Never Asked About Before\",\n",
       " 'Best Movie Quotes Ever!',\n",
       " '6 Characters In Search Of An Author',\n",
       " \"Syria'S Eating\",\n",
       " 'Up In The Air',\n",
       " 'Abbrev.',\n",
       " 'The Metropolitan Museum Of Art',\n",
       " 'The 23Rd Psalm',\n",
       " 'Good Sportsmanship',\n",
       " 'Silence',\n",
       " '\"V\"',\n",
       " 'Push By Safire',\n",
       " 'Make It Right',\n",
       " 'World Leaders',\n",
       " 'The Trees Were Angry That Day, My Friends',\n",
       " 'Bestsellers',\n",
       " 'Dow Jones Industrial Average Companies',\n",
       " 'Photographers',\n",
       " 'Say \"Chi\"S',\n",
       " 'Word And Phrase Origins',\n",
       " \"Aye!  It'S Ireland\",\n",
       " 'Presidents In The Cabinet',\n",
       " 'Tv Casts',\n",
       " 'Grave Matters',\n",
       " 'Artists & Their Works',\n",
       " '\"Green\" Things',\n",
       " 'Literary Characters',\n",
       " 'Aviary',\n",
       " 'Nutrition',\n",
       " 'Movie Songs',\n",
       " 'Oxymorons',\n",
       " 'Sports Name Origins',\n",
       " 'Psychology',\n",
       " 'Minerals',\n",
       " '\"Moon\"S',\n",
       " 'Bicycles',\n",
       " 'Greece',\n",
       " 'Stupid Answers',\n",
       " 'The 1960S',\n",
       " 'Composers',\n",
       " 'Government',\n",
       " 'The Funnies',\n",
       " 'Insects',\n",
       " 'Gambling',\n",
       " 'The 1980S',\n",
       " 'Animated Films',\n",
       " 'Frog Anatomy',\n",
       " 'Sweet Treats',\n",
       " 'Law & Government',\n",
       " 'The Byrds & The Beas',\n",
       " 'Dance',\n",
       " 'Holidays & Observances',\n",
       " 'Shakespearean Characters',\n",
       " '20Th Century Vice Presidents',\n",
       " 'Geograph\"Y\"',\n",
       " 'Required Reading',\n",
       " 'Homophones',\n",
       " 'You Do The Math',\n",
       " 'Odds & Ends',\n",
       " 'History In Movies',\n",
       " 'The Spooky & The Mysterious',\n",
       " 'Quotations',\n",
       " 'Famous Teenagers',\n",
       " 'A Literary Tour',\n",
       " 'Colorful Groups',\n",
       " 'Unforeseen Finds',\n",
       " \"What'S That Sound?\",\n",
       " '\"B\" Prepared',\n",
       " 'Caesar',\n",
       " \"Newman'S Own\",\n",
       " 'Catalina',\n",
       " 'Craft',\n",
       " 'Italian',\n",
       " 'Dressing',\n",
       " 'World Capitals',\n",
       " 'Israel',\n",
       " 'Anagrammed Birds',\n",
       " 'Francis Scott Key',\n",
       " \"I'Ll Make A Note Of It\",\n",
       " 'Food Chain',\n",
       " 'Harrison Ford Movies',\n",
       " 'The Producers',\n",
       " 'Hairy',\n",
       " 'Lisa',\n",
       " 'Rock-Y',\n",
       " 'Gehry',\n",
       " 'I\\'M \"L__X\"',\n",
       " \"Dude, You'Re A Song!\",\n",
       " 'Always Say Never',\n",
       " 'L____O',\n",
       " 'An Arthur Bee',\n",
       " \"Then There'S Mauve\",\n",
       " 'Islands',\n",
       " 'Calendar Girls',\n",
       " '19Th Century Scrapbook',\n",
       " 'Political Talk',\n",
       " 'Born In Dublin',\n",
       " 'Call Me A\"Lex\"',\n",
       " 'Literature Of The 1800S',\n",
       " 'Sports Facts',\n",
       " 'Brand-Tastic',\n",
       " 'Apt Anagrams',\n",
       " 'A Thomas Guide',\n",
       " \"It'S An L.A. Thing\",\n",
       " \"Who'S On First?\",\n",
       " 'Norse Mythology',\n",
       " 'Give The Bucharest',\n",
       " \"It'S All About Me\",\n",
       " 'Bard Bits',\n",
       " 'Crossword Clues \"R\"',\n",
       " 'Civil War People',\n",
       " 'Noted Europeans',\n",
       " 'At The Movies',\n",
       " 'The Highest-Scoring Scrabble Word',\n",
       " 'American Counties',\n",
       " 'Saturday',\n",
       " '\"Night\"',\n",
       " 'The Musical Dr. Is In',\n",
       " 'Literary Crossword Clues \"L\"',\n",
       " '14:59',\n",
       " 'From The French',\n",
       " 'Sociology',\n",
       " 'The Starting Infield',\n",
       " 'Dictators & Tyrants',\n",
       " 'The Onion',\n",
       " 'World Authors',\n",
       " 'Crossword Clues \"J\"',\n",
       " 'Business Leaders',\n",
       " 'Radio',\n",
       " \"That'S Italian!\",\n",
       " 'Reduced Shakespeare',\n",
       " 'New Weapons',\n",
       " '5-Letter Words',\n",
       " 'Scientists',\n",
       " \"It'S Only Rock & Roll\",\n",
       " 'Also A Tool',\n",
       " 'Habeas Corpses',\n",
       " '\"Ira\"',\n",
       " 'Finance',\n",
       " 'War Movies',\n",
       " 'Historic Birth Announcements',\n",
       " 'The Rule Of Thirds',\n",
       " 'African Language Lab',\n",
       " 'Literary Before & After',\n",
       " 'The Big Apple',\n",
       " 'Composers On Film',\n",
       " 'A Shapely Category',\n",
       " 'Salmon',\n",
       " 'Chanted',\n",
       " '\"Eve\"Ning',\n",
       " 'Historic Names',\n",
       " 'What A Character!',\n",
       " 'Geology',\n",
       " 'Home, Sweet Home',\n",
       " 'Name The Poet',\n",
       " 'Crossword Clues \"B\"',\n",
       " 'U.S. Politics',\n",
       " 'Assassins',\n",
       " 'The Reel Story',\n",
       " 'Signs & Symbols',\n",
       " 'Visualize',\n",
       " 'World \"P\"S',\n",
       " \"Musicals Of The '20S\",\n",
       " 'Novels Of The Past',\n",
       " 'Transplants',\n",
       " 'City Of Birth',\n",
       " 'Crossword Clues \"K\"',\n",
       " \"Arlington'S Tomb Of Unknowns\",\n",
       " 'Luxembourg',\n",
       " 'The Cinema',\n",
       " 'What Am I Having?',\n",
       " 'Y-R',\n",
       " 'Hair Today',\n",
       " 'Gone Tomorrow?',\n",
       " 'Main Street U.S.A.',\n",
       " '\"A\"Ncient Greeks',\n",
       " 'Flowers',\n",
       " 'British Inventions',\n",
       " 'Before & After',\n",
       " 'Book Titles',\n",
       " 'U.S. Presidential Nicknames',\n",
       " 'Ballpark Figures',\n",
       " 'Weddings',\n",
       " 'Novel Quotes',\n",
       " 'Three Cheers!',\n",
       " 'Give Me An \"A\"!',\n",
       " 'Ruby',\n",
       " 'The Emerald Isle',\n",
       " 'Pearls Of Wisdom',\n",
       " 'Coral Reef Life',\n",
       " '\"Diamond\"S In The Rough',\n",
       " 'What A Gem!',\n",
       " 'Historic Englishmen',\n",
       " '1987',\n",
       " 'Snack Attack',\n",
       " \"First Ladies' Rhyme Time\",\n",
       " 'Munich',\n",
       " '\"Ai\"',\n",
       " 'The Color Purple',\n",
       " 'Minority Report',\n",
       " 'Close Encounters',\n",
       " 'Spielberg Movies',\n",
       " 'Shakespearean Tragedy Characters',\n",
       " 'Opera',\n",
       " 'A Tom Cruise Film Festival',\n",
       " 'Bodies Of Water',\n",
       " 'Occupation Hazards',\n",
       " 'Plant Parenthood',\n",
       " 'Presidential Rhyme Time',\n",
       " 'The Royals',\n",
       " 'The Tigers',\n",
       " 'The Giants',\n",
       " 'The Reds',\n",
       " 'The \"A\"S',\n",
       " 'Baseball History',\n",
       " '20Th Century Notables',\n",
       " 'Cinco De Mayo Birthdays',\n",
       " 'Same Title, Different Song',\n",
       " 'Low Tech',\n",
       " 'Politicians Make Me Cuss',\n",
       " 'All \"American\"',\n",
       " 'Elizabeth Taylor Films',\n",
       " 'Why So Blue?',\n",
       " 'Jury Duty',\n",
       " 'When In Rome?',\n",
       " 'I Have A Preposition For You',\n",
       " '2011 Movies',\n",
       " 'Going To Pieces',\n",
       " 'Group Countdown',\n",
       " 'The Last Battle',\n",
       " 'The Nobel Peace Prize',\n",
       " \"Who'S Afraid Of Virginia Woolf?\",\n",
       " 'Carbon Credits',\n",
       " \"Their 4Th Top 40 Hit Of The '60S\",\n",
       " '19Th Century Presidents',\n",
       " 'It Came From The New World',\n",
       " 'Translation Exercises',\n",
       " \"Countries' Highest Peaks\",\n",
       " 'Snl Celebrity Jeopardy!',\n",
       " 'States That End In Hampshire',\n",
       " 'What Color Is Green?',\n",
       " 'Current Black Presidents',\n",
       " 'Sounds That Kitties Make',\n",
       " 'Twinkle Twinkle Little Word That Rhymes With Star',\n",
       " 'Words Of Love',\n",
       " 'Needy No.1 Hitmakers',\n",
       " 'Fruit',\n",
       " 'Ends With 3 Vowels',\n",
       " \"Don'T Be A Pain\",\n",
       " 'A Journey Through Israel',\n",
       " 'Odd Titles',\n",
       " \"States' Former Capitals\",\n",
       " 'Nba Hall Of Famers',\n",
       " 'Secret Menus',\n",
       " 'Died On The Same Day',\n",
       " 'Let\\'S Call Triple \"A\"',\n",
       " 'String Theory 101',\n",
       " 'The Hound Of Music',\n",
       " 'Play Adjectives',\n",
       " 'Jersey Girls',\n",
       " 'Russian',\n",
       " 'String Theory 201',\n",
       " 'Prisons',\n",
       " 'Russia',\n",
       " 'Actors & Actresses',\n",
       " 'Biographies',\n",
       " 'Business',\n",
       " 'Classical Composers',\n",
       " 'Proverbs',\n",
       " 'The Supreme Court',\n",
       " 'Poetry',\n",
       " 'Rivers',\n",
       " 'Run, Run, Run',\n",
       " 'Military Slang',\n",
       " 'Sculpture',\n",
       " 'Business Buddies',\n",
       " 'Common Similes',\n",
       " 'Lyrics From Musicals',\n",
       " 'The New York Times 2009 Fiction Bestsellers',\n",
       " 'The Newseum',\n",
       " 'Papal Names',\n",
       " '\"Ph\"Un Words',\n",
       " 'The Virtues',\n",
       " '\"L.B.\"S',\n",
       " 'Sports Home Cities',\n",
       " 'Jubal Early',\n",
       " 'Worms',\n",
       " 'States Of The Union',\n",
       " 'Mud',\n",
       " '\"T\" Time At The Library',\n",
       " 'Julia Roberts Film Fest',\n",
       " \"Women'S Health\",\n",
       " 'Double Letters',\n",
       " '20Th Century U.S. Presidents',\n",
       " 'Mad',\n",
       " 'Who Is Theon Of Smyrna?',\n",
       " '\"Less\" Is More',\n",
       " 'Vegas, Baby',\n",
       " 'The Blue Angels',\n",
       " 'Tony-Winning Composers',\n",
       " 'Speech!  Speech!',\n",
       " 'Federal Aid Programs',\n",
       " '\"A\" Plus',\n",
       " \"All God'S Creatures\",\n",
       " '\"B\" In Geography',\n",
       " \"You'Re An Animal!\",\n",
       " 'World History',\n",
       " 'Fairy Tale Femmes',\n",
       " 'Anagrammed State Capitals',\n",
       " 'Tom Jones',\n",
       " 'Parisians',\n",
       " 'Shakespearean Operas',\n",
       " 'Word & Phrase Origins',\n",
       " 'Film Facts',\n",
       " '1950S Achievements',\n",
       " 'U.N. Secretaries-General',\n",
       " 'Songs',\n",
       " 'The New Car Lot',\n",
       " '\"Tu\"',\n",
       " 'Many Irons',\n",
       " 'In The Fire',\n",
       " 'Awards',\n",
       " 'Religion By The Numbers',\n",
       " \"Their Country'S Last Monarch\",\n",
       " 'Animal Groups',\n",
       " 'In The Bookstore',\n",
       " \"Women'S Fashion\",\n",
       " 'Starts With \"B\"',\n",
       " 'Celebrity Relatives',\n",
       " 'Sports Trivia',\n",
       " 'Say Cheese',\n",
       " 'Explorers',\n",
       " 'The Human Body',\n",
       " 'American Literature',\n",
       " 'The Planets',\n",
       " 'Antiques',\n",
       " 'Shakespearean Title Characters',\n",
       " 'The Revolutionary War',\n",
       " 'Game Shows',\n",
       " 'The Environment',\n",
       " 'Phrases That Sell',\n",
       " 'The \"Under\" World',\n",
       " 'The Evolutionary War',\n",
       " 'When They Were Teens',\n",
       " 'Famous Americans',\n",
       " 'Greek Mythology',\n",
       " 'You Had To Expect Opera',\n",
       " 'Long Words',\n",
       " 'The World Of Art',\n",
       " 'Travel',\n",
       " \"Celebrities' Middle Names\",\n",
       " 'Catholic Priests',\n",
       " 'Title 9',\n",
       " 'Come \"In\"',\n",
       " 'Want Ads',\n",
       " 'Go \"South\"',\n",
       " 'I Know That Word Backwards & Forwards',\n",
       " 'Mesopotamia',\n",
       " 'The De Niro Code',\n",
       " 'At The Cleveland Clinic',\n",
       " 'Food Etymology',\n",
       " 'Edgar Allan Poe-Pourri',\n",
       " 'Hop On Pop Culture',\n",
       " 'Ringing The Opening Bell At The Nyse',\n",
       " 'Nebraska, New York Or North Dakota',\n",
       " 'Mother Goose',\n",
       " 'Department \"S\"',\n",
       " 'State Fish',\n",
       " 'Movies By Roles',\n",
       " \"I'M Hungry!\",\n",
       " '\"V\" Have Maps',\n",
       " 'Sleep',\n",
       " 'U.S. Cities',\n",
       " \"Presidents' Monograms\",\n",
       " 'Some More Simian Cinema',\n",
       " 'True Lives',\n",
       " 'Hammers',\n",
       " 'Italian Art',\n",
       " 'Folkies',\n",
       " 'Days',\n",
       " 'Knights',\n",
       " 'Going Dutch',\n",
       " 'Brand Names',\n",
       " 'The Misfits',\n",
       " 'All My Sons',\n",
       " 'The Crucible',\n",
       " '\"Death\"',\n",
       " 'Of A Salesman',\n",
       " 'Arthur Miller',\n",
       " 'On The Big Screen',\n",
       " 'Making Pianos At Steinway',\n",
       " 'Get Your Facts Straight',\n",
       " 'Countries That End In \"O\"',\n",
       " '4-Letter Verbs',\n",
       " 'Name The Work',\n",
       " 'Heisman Winners',\n",
       " 'I Want To Ride That!',\n",
       " 'A Horse Is A Horse',\n",
       " 'The Fortune 500',\n",
       " 'Rhymes With Track',\n",
       " 'We Shall Remain: Geronimo',\n",
       " 'Taylor, Swift',\n",
       " 'Plant Life',\n",
       " 'Time To Convert',\n",
       " '\"V\" Is For',\n",
       " 'How To Be A Bad Sport',\n",
       " 'The 20Th Century',\n",
       " 'Classic Star Trek',\n",
       " 'Rhymes With Teen',\n",
       " 'College Football',\n",
       " 'Teens Of The Past',\n",
       " 'Opera & Ballet',\n",
       " 'Author!  Author!',\n",
       " '\"Knife\", \"Fork\" Or \"Spoon\"',\n",
       " 'George Washington',\n",
       " 'No. 1 Albums',\n",
       " 'The New Testament',\n",
       " 'Olympic Potpourri',\n",
       " 'Foreign Currency',\n",
       " 'Words Within Words',\n",
       " 'Being Thoreau',\n",
       " 'Off With Their Heads!',\n",
       " 'Asian Nations',\n",
       " 'Dice Roll Nicknames',\n",
       " 'Young Women Of Today',\n",
       " 'Acronym Excitement!',\n",
       " 'World Cities',\n",
       " 'Iraqnophobia',\n",
       " 'Ordinal Number, Please',\n",
       " 'What Ails You?',\n",
       " '1957',\n",
       " 'Really Big',\n",
       " 'Shoes',\n",
       " 'Politicians',\n",
       " 'Musical Theatre',\n",
       " '19Th Century Fiction',\n",
       " 'Rocks & Minerals',\n",
       " 'Double Double Letters',\n",
       " 'Ms.',\n",
       " 'Soda Pop Quiz',\n",
       " 'Hollywood Dogs',\n",
       " 'Political Slogans',\n",
       " 'Trees',\n",
       " 'Rodgers & Hammerstein',\n",
       " 'British History',\n",
       " 'Holidays',\n",
       " '_Ñòsaints_Ñ\\x9d',\n",
       " 'Biology',\n",
       " 'Boy Meets World',\n",
       " \"Who'S The Boss\",\n",
       " 'Seaquest',\n",
       " 'Everybody Loves Ray',\n",
       " 'Married With Children',\n",
       " 'Party Of \"Five\"',\n",
       " 'The Hayes Years',\n",
       " 'The Film Vault',\n",
       " ...]"
      ]
     },
     "execution_count": 162,
     "metadata": {},
     "output_type": "execute_result"
    }
   ],
   "source": [
    "list(df.category.unique())"
   ]
  },
  {
   "cell_type": "code",
   "execution_count": 176,
   "metadata": {},
   "outputs": [
    {
     "data": {
      "text/plain": [
       "2012"
      ]
     },
     "execution_count": 176,
     "metadata": {},
     "output_type": "execute_result"
    }
   ],
   "source": [
    "df.air_date.dt.year.max()"
   ]
  },
  {
   "cell_type": "code",
   "execution_count": 181,
   "metadata": {},
   "outputs": [
    {
     "data": {
      "text/html": [
       "<div>\n",
       "<style scoped>\n",
       "    .dataframe tbody tr th:only-of-type {\n",
       "        vertical-align: middle;\n",
       "    }\n",
       "\n",
       "    .dataframe tbody tr th {\n",
       "        vertical-align: top;\n",
       "    }\n",
       "\n",
       "    .dataframe thead th {\n",
       "        text-align: right;\n",
       "    }\n",
       "</style>\n",
       "<table border=\"1\" class=\"dataframe\">\n",
       "  <thead>\n",
       "    <tr style=\"text-align: right;\">\n",
       "      <th></th>\n",
       "      <th>show_number</th>\n",
       "      <th>air_date</th>\n",
       "      <th>jround</th>\n",
       "      <th>category</th>\n",
       "      <th>value</th>\n",
       "      <th>question</th>\n",
       "      <th>answer</th>\n",
       "      <th>dollar_amt</th>\n",
       "    </tr>\n",
       "  </thead>\n",
       "  <tbody>\n",
       "    <tr>\n",
       "      <th>1915</th>\n",
       "      <td>6294</td>\n",
       "      <td>2012-01-19</td>\n",
       "      <td>Jeopardy!</td>\n",
       "      <td>A Shakespeare Play, For Openers</td>\n",
       "      <td>$200</td>\n",
       "      <td>This play opens on the battlements of the cast...</td>\n",
       "      <td>Hamlet</td>\n",
       "      <td>200.0</td>\n",
       "    </tr>\n",
       "    <tr>\n",
       "      <th>1916</th>\n",
       "      <td>6294</td>\n",
       "      <td>2012-01-19</td>\n",
       "      <td>Jeopardy!</td>\n",
       "      <td>That'S Business</td>\n",
       "      <td>$200</td>\n",
       "      <td>He started a book business from his home in 18...</td>\n",
       "      <td>(Charles M.) Barnes</td>\n",
       "      <td>200.0</td>\n",
       "    </tr>\n",
       "    <tr>\n",
       "      <th>1917</th>\n",
       "      <td>6294</td>\n",
       "      <td>2012-01-19</td>\n",
       "      <td>Jeopardy!</td>\n",
       "      <td>Nursery Rhymes</td>\n",
       "      <td>$200</td>\n",
       "      <td>Peter, Peter was an eater of this; he kept his...</td>\n",
       "      <td>pumpkin</td>\n",
       "      <td>200.0</td>\n",
       "    </tr>\n",
       "    <tr>\n",
       "      <th>1918</th>\n",
       "      <td>6294</td>\n",
       "      <td>2012-01-19</td>\n",
       "      <td>Jeopardy!</td>\n",
       "      <td>Inlets</td>\n",
       "      <td>$200</td>\n",
       "      <td>This largest Alaskan city lies at the head of ...</td>\n",
       "      <td>Anchorage</td>\n",
       "      <td>200.0</td>\n",
       "    </tr>\n",
       "    <tr>\n",
       "      <th>1919</th>\n",
       "      <td>6294</td>\n",
       "      <td>2012-01-19</td>\n",
       "      <td>Jeopardy!</td>\n",
       "      <td>The Evolution Of \"M\"Usic</td>\n",
       "      <td>$200</td>\n",
       "      <td>This '60s \"Nights in White Satin\" band has ano...</td>\n",
       "      <td>Moody Blues</td>\n",
       "      <td>200.0</td>\n",
       "    </tr>\n",
       "  </tbody>\n",
       "</table>\n",
       "</div>"
      ],
      "text/plain": [
       "      show_number   air_date     jround                         category  \\\n",
       "1915         6294 2012-01-19  Jeopardy!  A Shakespeare Play, For Openers   \n",
       "1916         6294 2012-01-19  Jeopardy!                  That'S Business   \n",
       "1917         6294 2012-01-19  Jeopardy!                   Nursery Rhymes   \n",
       "1918         6294 2012-01-19  Jeopardy!                           Inlets   \n",
       "1919         6294 2012-01-19  Jeopardy!         The Evolution Of \"M\"Usic   \n",
       "\n",
       "     value                                           question  \\\n",
       "1915  $200  This play opens on the battlements of the cast...   \n",
       "1916  $200  He started a book business from his home in 18...   \n",
       "1917  $200  Peter, Peter was an eater of this; he kept his...   \n",
       "1918  $200  This largest Alaskan city lies at the head of ...   \n",
       "1919  $200  This '60s \"Nights in White Satin\" band has ano...   \n",
       "\n",
       "                   answer  dollar_amt  \n",
       "1915               Hamlet       200.0  \n",
       "1916  (Charles M.) Barnes       200.0  \n",
       "1917              pumpkin       200.0  \n",
       "1918            Anchorage       200.0  \n",
       "1919          Moody Blues       200.0  "
      ]
     },
     "execution_count": 181,
     "metadata": {},
     "output_type": "execute_result"
    }
   ],
   "source": [
    "most_recent = df.air_date.dt.year.max()\n",
    "df_all = df.copy()\n",
    "df = df.loc[df.air_date.dt.year == most_recent]\n",
    "df.head()"
   ]
  },
  {
   "cell_type": "code",
   "execution_count": 184,
   "metadata": {},
   "outputs": [
    {
     "data": {
      "text/plain": [
       "<matplotlib.axes._subplots.AxesSubplot at 0x10e945a58>"
      ]
     },
     "execution_count": 184,
     "metadata": {},
     "output_type": "execute_result"
    },
    {
     "data": {
      "image/png": "[encoded data removed]",
      "text/plain": [
       "<matplotlib.figure.Figure at 0x10bac91d0>"
      ]
     },
     "metadata": {},
     "output_type": "display_data"
    }
   ],
   "source": [
    "df.dollar_amt.value_counts().plot(kind=\"bar\")"
   ]
  },
  {
   "cell_type": "code",
   "execution_count": 218,
   "metadata": {
    "collapsed": true
   },
   "outputs": [
    {
     "data": {
      "text/plain": [
       "array([['A Shakespeare Play, For Openers',\n",
       "        'This play opens on the battlements of the castle at Elsinore as Barnardo asks, \"who\\'s there?\"',\n",
       "        'Hamlet'],\n",
       "       [\"That'S Business\",\n",
       "        'He started a book business from his home in 1873; his son William joined forces with G. Clifford Noble in 1917',\n",
       "        '(Charles M.) Barnes'],\n",
       "       ['Nursery Rhymes',\n",
       "        'Peter, Peter was an eater of this; he kept his wife in its shell',\n",
       "        'pumpkin'],\n",
       "       ['Inlets',\n",
       "        'This largest Alaskan city lies at the head of cook inlet on the Kenai peninsula',\n",
       "        'Anchorage'],\n",
       "       ['The Evolution Of \"M\"Usic',\n",
       "        'This \\'60s \"Nights in White Satin\" band has another color in its name',\n",
       "        'Moody Blues'],\n",
       "       ['Foreign', 'In Portuguese, domingo is this day of the week',\n",
       "        'Sunday'],\n",
       "       ['Art & Artists',\n",
       "        'In 1956 Time magazine dubbed this abstract expressionist \"Jack the Dripper\"',\n",
       "        'Pollock'],\n",
       "       ['Travel',\n",
       "        'This Rome landmark is 620 feet long by 513 wide-- plenty of room to run away from a wild beast',\n",
       "        'the Colosseum'],\n",
       "       [\"Celebrities' Middle Names\",\n",
       "        'The L. in Samuel L. Jackson stands for this, like a certain bad, bad Mr. Brown of song',\n",
       "        'Leroy'],\n",
       "       ['Catholic Priests',\n",
       "        'Served by priests, it may not exceed 18% alcohol',\n",
       "        'communion wine'],\n",
       "       ['Title 9',\n",
       "        'Daniel Okrent: \"Nine ___: The Anatomy of a Baseball Game\"',\n",
       "        'Innings'],\n",
       "       ['Come \"In\"',\n",
       "        'A new design or creation; necessity is often the mother of it',\n",
       "        'invention'],\n",
       "       ['Slim Volumes',\n",
       "        'This doctor\\'s \"Diet Revolution\" promised weight loss with a high-protein/low-carb diet (pass the steaki)',\n",
       "        'Dr. Atkins'],\n",
       "       ['State Of The Union',\n",
       "        \"This union state's 6th regiment was nicknamed the Minutemen; its 20th was the Harvard regiment\",\n",
       "        'Massachusetts'],\n",
       "       ['Going Too \"Fur\"',\n",
       "        'These electronic toys were a must-have item during the Christmas season of 1998',\n",
       "        'the Furby'],\n",
       "       ['It Might Surprise You',\n",
       "        'The actual quote from this star of gangster films was \"you dirty yellow-bellied rat!\"',\n",
       "        'Jimmy Cagney'],\n",
       "       ['Jonathan Swifties',\n",
       "        '\"He was a bold man that first ate\" this bivalve mollusk',\n",
       "        'an oyster'],\n",
       "       ['Comic Strips',\n",
       "        'Aaugh! This comic strip character was torn between a summer camp flame named Peggy Jean & the little red-haired girl',\n",
       "        'Charlie Brown'],\n",
       "       ['Historic Dates',\n",
       "        'He was shot on Sept. 6, 1901 while shaking hands with a crowd of well-wishers at the Pan-American Exposition',\n",
       "        'McKinley'],\n",
       "       ['Sports Shorts',\n",
       "        'In 2008 he swam 200 meters freestyle in a record 1 minute, 42.96 seconds',\n",
       "        'Michael Phelps'],\n",
       "       ['One Letter Different', 'A large sack', 'a big bag'],\n",
       "       ['The Land', 'This country is \"The Land of the Shamrock\"',\n",
       "        'Ireland'],\n",
       "       ['Of Milk', 'In mammals, milk is secreted by these glands',\n",
       "        'mammary glands'],\n",
       "       ['& Honey',\n",
       "        '& Honey, could you pick up some of the Huggies brand of these on the way home?',\n",
       "        'diapers']], dtype=object)"
      ]
     },
     "execution_count": 218,
     "metadata": {},
     "output_type": "execute_result"
    }
   ],
   "source": [
    "df200 = df.loc[df.dollar_amt == 200, ([\"category\", \"question\", \"answer\"])]#.items():\n",
    "df200 = df200.reset_index().drop(columns=[\"index\"])\n",
    "# df200.values"
   ]
  },
  {
   "cell_type": "code",
   "execution_count": 221,
   "metadata": {},
   "outputs": [
    {
     "data": {
      "text/plain": [
       "(10999, 8)"
      ]
     },
     "execution_count": 221,
     "metadata": {},
     "output_type": "execute_result"
    }
   ],
   "source": [
    "df_all.shape"
   ]
  },
  {
   "cell_type": "code",
   "execution_count": 225,
   "metadata": {},
   "outputs": [
    {
     "name": "stdout",
     "output_type": "stream",
     "text": [
      "1 :  A Shakespeare Play, For Openers\n",
      "2 :  That'S Business\n",
      "3 :  Nursery Rhymes\n",
      "4 :  Inlets\n",
      "5 :  The Evolution Of \"M\"Usic\n",
      "6 :  Foreign\n",
      "7 :  Art & Artists\n",
      "8 :  Travel\n",
      "9 :  Celebrities' Middle Names\n",
      "10 :  Catholic Priests\n",
      "11 :  Title 9\n",
      "12 :  Come \"In\"\n",
      "13 :  Slim Volumes\n",
      "14 :  State Of The Union\n",
      "15 :  Going Too \"Fur\"\n",
      "16 :  It Might Surprise You\n",
      "17 :  Jonathan Swifties\n",
      "18 :  Comic Strips\n",
      "19 :  Historic Dates\n",
      "20 :  Sports Shorts\n",
      "21 :  One Letter Different\n",
      "22 :  The Land\n",
      "23 :  Of Milk\n",
      "24 :  & Honey\n"
     ]
    }
   ],
   "source": [
    "for i, cat in enumerate(df200.category.unique()):\n",
    "    print(i+1, \": \", cat)"
   ]
  },
  {
   "cell_type": "code",
   "execution_count": 231,
   "metadata": {
    "collapsed": true
   },
   "outputs": [
    {
     "name": "stdout",
     "output_type": "stream",
     "text": [
      "\n",
      "\n",
      "Category: A Shakespeare Play, For Openers\n",
      "Q: This play opens on the battlements of the castle at Elsinore as Barnardo asks, \"who's there?\"\n",
      "A: Hamlet\n",
      "\n",
      "\n",
      "Category: That'S Business\n",
      "Q: He started a book business from his home in 1873; his son William joined forces with G. Clifford Noble in 1917\n",
      "A: (Charles M.) Barnes\n",
      "\n",
      "\n",
      "Category: Nursery Rhymes\n",
      "Q: Peter, Peter was an eater of this; he kept his wife in its shell\n",
      "A: pumpkin\n",
      "\n",
      "\n",
      "Category: Inlets\n",
      "Q: This largest Alaskan city lies at the head of cook inlet on the Kenai peninsula\n",
      "A: Anchorage\n",
      "\n",
      "\n",
      "Category: The Evolution Of \"M\"Usic\n",
      "Q: This '60s \"Nights in White Satin\" band has another color in its name\n",
      "A: Moody Blues\n",
      "\n",
      "\n",
      "Category: Foreign\n",
      "Q: In Portuguese, domingo is this day of the week\n",
      "A: Sunday\n",
      "\n",
      "\n",
      "Category: Art & Artists\n",
      "Q: In 1956 Time magazine dubbed this abstract expressionist \"Jack the Dripper\"\n",
      "A: Pollock\n",
      "\n",
      "\n",
      "Category: Travel\n",
      "Q: This Rome landmark is 620 feet long by 513 wide-- plenty of room to run away from a wild beast\n",
      "A: the Colosseum\n",
      "\n",
      "\n",
      "Category: Celebrities' Middle Names\n",
      "Q: The L. in Samuel L. Jackson stands for this, like a certain bad, bad Mr. Brown of song\n",
      "A: Leroy\n",
      "\n",
      "\n",
      "Category: Catholic Priests\n",
      "Q: Served by priests, it may not exceed 18% alcohol\n",
      "A: communion wine\n",
      "\n",
      "\n",
      "Category: Title 9\n",
      "Q: Daniel Okrent: \"Nine ___: The Anatomy of a Baseball Game\"\n",
      "A: Innings\n",
      "\n",
      "\n",
      "Category: Come \"In\"\n",
      "Q: A new design or creation; necessity is often the mother of it\n",
      "A: invention\n",
      "\n",
      "\n",
      "Category: Slim Volumes\n",
      "Q: This doctor's \"Diet Revolution\" promised weight loss with a high-protein/low-carb diet (pass the steaki)\n",
      "A: Dr. Atkins\n",
      "\n",
      "\n",
      "Category: State Of The Union\n",
      "Q: This union state's 6th regiment was nicknamed the Minutemen; its 20th was the Harvard regiment\n",
      "A: Massachusetts\n",
      "\n",
      "\n",
      "Category: Going Too \"Fur\"\n",
      "Q: These electronic toys were a must-have item during the Christmas season of 1998\n",
      "A: the Furby\n",
      "\n",
      "\n",
      "Category: It Might Surprise You\n",
      "Q: The actual quote from this star of gangster films was \"you dirty yellow-bellied rat!\"\n",
      "A: Jimmy Cagney\n",
      "\n",
      "\n",
      "Category: Jonathan Swifties\n",
      "Q: \"He was a bold man that first ate\" this bivalve mollusk\n",
      "A: an oyster\n",
      "\n",
      "\n",
      "Category: Comic Strips\n",
      "Q: Aaugh! This comic strip character was torn between a summer camp flame named Peggy Jean & the little red-haired girl\n",
      "A: Charlie Brown\n",
      "\n",
      "\n",
      "Category: Historic Dates\n",
      "Q: He was shot on Sept. 6, 1901 while shaking hands with a crowd of well-wishers at the Pan-American Exposition\n",
      "A: McKinley\n",
      "\n",
      "\n",
      "Category: Sports Shorts\n",
      "Q: In 2008 he swam 200 meters freestyle in a record 1 minute, 42.96 seconds\n",
      "A: Michael Phelps\n",
      "\n",
      "\n",
      "Category: One Letter Different\n",
      "Q: A large sack\n",
      "A: a big bag\n",
      "\n",
      "\n",
      "Category: The Land\n",
      "Q: This country is \"The Land of the Shamrock\"\n",
      "A: Ireland\n",
      "\n",
      "\n",
      "Category: Of Milk\n",
      "Q: In mammals, milk is secreted by these glands\n",
      "A: mammary glands\n",
      "\n",
      "\n",
      "Category: & Honey\n",
      "Q: & Honey, could you pick up some of the Huggies brand of these on the way home?\n",
      "A: diapers\n"
     ]
    }
   ],
   "source": [
    "for cat, q, ans in df.loc[df.dollar_amt == 200, ([\"category\",\"question\", \"answer\"])].values:\n",
    "    print(\"\\n\")\n",
    "    print(\"Category: {}\".format(cat))\n",
    "    print(\"Q: {}\".format(q))\n",
    "    print(\"A: {}\".format(ans))"
   ]
  },
  {
   "cell_type": "code",
   "execution_count": 220,
   "metadata": {
    "collapsed": true
   },
   "outputs": [
    {
     "name": "stdout",
     "output_type": "stream",
     "text": [
      "\n",
      "\n",
      "Category: A Shakespeare Play, For Openers\n",
      "Q: This play opens on the battlements of the castle at Elsinore as Barnardo asks, \"who's there?\"\n",
      "A: Hamlet\n",
      "\n",
      "\n",
      "Category: That'S Business\n",
      "Q: He started a book business from his home in 1873; his son William joined forces with G. Clifford Noble in 1917\n",
      "A: (Charles M.) Barnes\n",
      "\n",
      "\n",
      "Category: Nursery Rhymes\n",
      "Q: Peter, Peter was an eater of this; he kept his wife in its shell\n",
      "A: pumpkin\n",
      "\n",
      "\n",
      "Category: Inlets\n",
      "Q: This largest Alaskan city lies at the head of cook inlet on the Kenai peninsula\n",
      "A: Anchorage\n",
      "\n",
      "\n",
      "Category: The Evolution Of \"M\"Usic\n",
      "Q: This '60s \"Nights in White Satin\" band has another color in its name\n",
      "A: Moody Blues\n",
      "\n",
      "\n",
      "Category: Foreign\n",
      "Q: In Portuguese, domingo is this day of the week\n",
      "A: Sunday\n",
      "\n",
      "\n",
      "Category: Art & Artists\n",
      "Q: In 1956 Time magazine dubbed this abstract expressionist \"Jack the Dripper\"\n",
      "A: Pollock\n",
      "\n",
      "\n",
      "Category: Travel\n",
      "Q: This Rome landmark is 620 feet long by 513 wide-- plenty of room to run away from a wild beast\n",
      "A: the Colosseum\n",
      "\n",
      "\n",
      "Category: Celebrities' Middle Names\n",
      "Q: The L. in Samuel L. Jackson stands for this, like a certain bad, bad Mr. Brown of song\n",
      "A: Leroy\n",
      "\n",
      "\n",
      "Category: Catholic Priests\n",
      "Q: Served by priests, it may not exceed 18% alcohol\n",
      "A: communion wine\n",
      "\n",
      "\n",
      "Category: Title 9\n",
      "Q: Daniel Okrent: \"Nine ___: The Anatomy of a Baseball Game\"\n",
      "A: Innings\n",
      "\n",
      "\n",
      "Category: Come \"In\"\n",
      "Q: A new design or creation; necessity is often the mother of it\n",
      "A: invention\n",
      "\n",
      "\n",
      "Category: Slim Volumes\n",
      "Q: This doctor's \"Diet Revolution\" promised weight loss with a high-protein/low-carb diet (pass the steaki)\n",
      "A: Dr. Atkins\n",
      "\n",
      "\n",
      "Category: State Of The Union\n",
      "Q: This union state's 6th regiment was nicknamed the Minutemen; its 20th was the Harvard regiment\n",
      "A: Massachusetts\n",
      "\n",
      "\n",
      "Category: Going Too \"Fur\"\n",
      "Q: These electronic toys were a must-have item during the Christmas season of 1998\n",
      "A: the Furby\n",
      "\n",
      "\n",
      "Category: It Might Surprise You\n",
      "Q: The actual quote from this star of gangster films was \"you dirty yellow-bellied rat!\"\n",
      "A: Jimmy Cagney\n",
      "\n",
      "\n",
      "Category: Jonathan Swifties\n",
      "Q: \"He was a bold man that first ate\" this bivalve mollusk\n",
      "A: an oyster\n",
      "\n",
      "\n",
      "Category: Comic Strips\n",
      "Q: Aaugh! This comic strip character was torn between a summer camp flame named Peggy Jean & the little red-haired girl\n",
      "A: Charlie Brown\n",
      "\n",
      "\n",
      "Category: Historic Dates\n",
      "Q: He was shot on Sept. 6, 1901 while shaking hands with a crowd of well-wishers at the Pan-American Exposition\n",
      "A: McKinley\n",
      "\n",
      "\n",
      "Category: Sports Shorts\n",
      "Q: In 2008 he swam 200 meters freestyle in a record 1 minute, 42.96 seconds\n",
      "A: Michael Phelps\n",
      "\n",
      "\n",
      "Category: One Letter Different\n",
      "Q: A large sack\n",
      "A: a big bag\n",
      "\n",
      "\n",
      "Category: The Land\n",
      "Q: This country is \"The Land of the Shamrock\"\n",
      "A: Ireland\n",
      "\n",
      "\n",
      "Category: Of Milk\n",
      "Q: In mammals, milk is secreted by these glands\n",
      "A: mammary glands\n",
      "\n",
      "\n",
      "Category: & Honey\n",
      "Q: & Honey, could you pick up some of the Huggies brand of these on the way home?\n",
      "A: diapers\n"
     ]
    }
   ],
   "source": [
    "for cat, q, ans in df.loc[df.dollar_amt == 200, ([\"category\",\"question\", \"answer\"])].values:\n",
    "    print(\"\\n\")\n",
    "    print(\"Category: {}\".format(cat))\n",
    "    print(\"Q: {}\".format(q))\n",
    "    print(\"A: {}\".format(ans))"
   ]
  },
  {
   "cell_type": "code",
   "execution_count": 232,
   "metadata": {
    "collapsed": true
   },
   "outputs": [
    {
     "data": {
      "text/plain": [
       "0     A Shakespeare Play, For Openers\n",
       "1                     That'S Business\n",
       "2                      Nursery Rhymes\n",
       "3                              Inlets\n",
       "4            The Evolution Of \"M\"Usic\n",
       "5                             Foreign\n",
       "6                       Art & Artists\n",
       "7                              Travel\n",
       "8           Celebrities' Middle Names\n",
       "9                    Catholic Priests\n",
       "10                            Title 9\n",
       "11                          Come \"In\"\n",
       "12                       Slim Volumes\n",
       "13                 State Of The Union\n",
       "14                    Going Too \"Fur\"\n",
       "15              It Might Surprise You\n",
       "16                  Jonathan Swifties\n",
       "17                       Comic Strips\n",
       "18                     Historic Dates\n",
       "19                      Sports Shorts\n",
       "20               One Letter Different\n",
       "21                           The Land\n",
       "22                            Of Milk\n",
       "23                            & Honey\n",
       "Name: category, dtype: object"
      ]
     },
     "execution_count": 232,
     "metadata": {},
     "output_type": "execute_result"
    }
   ],
   "source": [
    "df200.category"
   ]
  },
  {
   "cell_type": "code",
   "execution_count": 236,
   "metadata": {},
   "outputs": [
    {
     "data": {
      "text/plain": [
       "Index(['show_number', 'air_date', 'jround', 'category', 'value', 'question',\n",
       "       'answer', 'dollar_amt'],\n",
       "      dtype='object')"
      ]
     },
     "execution_count": 236,
     "metadata": {},
     "output_type": "execute_result"
    }
   ],
   "source": [
    "df.columns"
   ]
  },
  {
   "cell_type": "code",
   "execution_count": 238,
   "metadata": {
    "collapsed": true
   },
   "outputs": [
    {
     "name": "stdout",
     "output_type": "stream",
     "text": [
      "\n",
      "\n",
      "Category: The Evolution Of \"M\"Usic for $200:\n",
      "Q: This '60s \"Nights in White Satin\" band has another color in its name\n",
      "A: Moody Blues\n",
      "\n",
      "\n",
      "Category: The Evolution Of \"M\"Usic for $400:\n",
      "Q: 1974's \"Mandy\" was his first Top 40 hit--& it reached No.1\n",
      "A: Barry Manilow\n",
      "\n",
      "\n",
      "Category: The Evolution Of \"M\"Usic for $600:\n",
      "Q: This singer of \"Jack & Diane\" had to fight to record under his own name\n",
      "A: John Mellencamp\n",
      "\n",
      "\n",
      "Category: The Evolution Of \"M\"Usic for $800:\n",
      "Q: In the '90s it was \"Enter Sandman\" with this group\n",
      "A: Metallica\n",
      "\n",
      "\n",
      "Category: The Evolution Of \"M\"Usic for $1000:\n",
      "Q: In the 2000s \"Makes Me Wonder\" got this group noticed\n",
      "A: Maroon 5\n"
     ]
    }
   ],
   "source": [
    "for cat,amt, q, ans, in df.loc[df.category=='The Evolution Of \"M\"Usic', ([\"category\",\"dollar_amt\",\"question\", \"answer\"])].values:\n",
    "#     if cat == \n",
    "    print(\"\\n\")\n",
    "    print(\"Category: {} for ${}:\".format(cat, int(amt)))\n",
    "    print(\"Q: {}\".format(q))\n",
    "    print(\"A: {}\".format(ans))"
   ]
  },
  {
   "cell_type": "code",
   "execution_count": 239,
   "metadata": {
    "collapsed": true
   },
   "outputs": [
    {
     "name": "stdout",
     "output_type": "stream",
     "text": [
      "\n",
      "\n",
      "Category: Going Too \"Fur\" for $200:\n",
      "Q: These electronic toys were a must-have item during the Christmas season of 1998\n",
      "A: the Furby\n",
      "\n",
      "\n",
      "Category: Going Too \"Fur\" for $400:\n",
      "Q: Rolled up, like a flag or a boat's sails\n",
      "A: furled\n",
      "\n",
      "\n",
      "Category: Going Too \"Fur\" for $600:\n",
      "Q: To provide & install housewares to a dwelling\n",
      "A: furnish\n",
      "\n",
      "\n",
      "Category: Going Too \"Fur\" for $800:\n",
      "Q: A smelter, for example\n",
      "A: a furnace\n",
      "\n",
      "\n",
      "Category: Going Too \"Fur\" for $1000:\n",
      "Q: Popular composition from around 1810 heard <a href=\"http://www.j-archive.com/media/2012-01-10_J_05.mp3\">here</a>\n",
      "A: FÕ_r Elise\n"
     ]
    }
   ],
   "source": [
    "for cat,amt, q, ans, in df.loc[df.category=='Going Too \"Fur\"', ([\"category\",\"dollar_amt\",\"question\", \"answer\"])].values:\n",
    "#     if cat == \n",
    "    print(\"\\n\")\n",
    "    print(\"Category: {} for ${}:\".format(cat, int(amt)))\n",
    "    print(\"Q: {}\".format(q))\n",
    "    print(\"A: {}\".format(ans))"
   ]
  },
  {
   "cell_type": "code",
   "execution_count": 240,
   "metadata": {
    "collapsed": true
   },
   "outputs": [
    {
     "name": "stdout",
     "output_type": "stream",
     "text": [
      "\n",
      "\n",
      "Category: Come \"In\" for $200:\n",
      "Q: A new design or creation; necessity is often the mother of it\n",
      "A: invention\n",
      "\n",
      "\n",
      "Category: Come \"In\" for $400:\n",
      "Q: Be it a stick or cone, strawberry & sandalwood are popular fragrances of this\n",
      "A: incense\n",
      "\n",
      "\n",
      "Category: Come \"In\" for $600:\n",
      "Q: A military badge of rank or qualification\n",
      "A: insignia\n",
      "\n",
      "\n",
      "Category: Come \"In\" for $800:\n",
      "Q: Each Latin verb has 6 of these, including the perfect passive one, like optatus esse, \"to have been desired\"\n",
      "A: infinitive\n",
      "\n",
      "\n",
      "Category: Come \"In\" for $1000:\n",
      "Q: Paul Apak Angilirq was a producer as Canada's IBC, this Broadcasting Corporation\n",
      "A: Inuit\n"
     ]
    }
   ],
   "source": [
    "for cat,amt, q, ans, in df.loc[df.category=='Come \"In\"', ([\"category\",\"dollar_amt\",\"question\", \"answer\"])].values:\n",
    "#     if cat == \n",
    "    print(\"\\n\")\n",
    "    print(\"Category: {} for ${}:\".format(cat, int(amt)))\n",
    "    print(\"Q: {}\".format(q))\n",
    "    print(\"A: {}\".format(ans))"
   ]
  },
  {
   "cell_type": "code",
   "execution_count": 241,
   "metadata": {
    "collapsed": true
   },
   "outputs": [
    {
     "name": "stdout",
     "output_type": "stream",
     "text": [
      "\n",
      "\n",
      "Category: Title 9 for $200:\n",
      "Q: Daniel Okrent: \"Nine ___: The Anatomy of a Baseball Game\"\n",
      "A: Innings\n",
      "\n",
      "\n",
      "Category: Title 9 for $400:\n",
      "Q: John Buchan, filmed by Hitchcock: \"The Thirty-Nine ___\"\n",
      "A: Steps\n",
      "\n",
      "\n",
      "Category: Title 9 for $600:\n",
      "Q: Elizabeth McNeill: \"Nine and a Half ___\"\n",
      "A: Weeks\n",
      "\n",
      "\n",
      "Category: Title 9 for $800:\n",
      "Q: Jeffrey Toobin: \"The Nine: Inside the Secret World of the ___ ___\"\n",
      "A: Supreme Court\n",
      "\n",
      "\n",
      "Category: Title 9 for $1000:\n",
      "Q: J.D. Salinger: \"Nine ___\"\n",
      "A: Stories\n"
     ]
    }
   ],
   "source": [
    "for cat,amt, q, ans, in df.loc[df.category=='Title 9', ([\"category\",\"dollar_amt\",\"question\", \"answer\"])].values:\n",
    "#     if cat == \n",
    "    print(\"\\n\")\n",
    "    print(\"Category: {} for ${}:\".format(cat, int(amt)))\n",
    "    print(\"Q: {}\".format(q))\n",
    "    print(\"A: {}\".format(ans))"
   ]
  },
  {
   "cell_type": "code",
   "execution_count": 242,
   "metadata": {
    "collapsed": true
   },
   "outputs": [
    {
     "name": "stdout",
     "output_type": "stream",
     "text": [
      "\n",
      "\n",
      "Category: A Shakespeare Play, For Openers for $200:\n",
      "Q: This play opens on the battlements of the castle at Elsinore as Barnardo asks, \"who's there?\"\n",
      "A: Hamlet\n",
      "\n",
      "\n",
      "Category: A Shakespeare Play, For Openers for $400:\n",
      "Q: \"Othello\" opens with Roderigo addressing this villain: \"Tush, never tell me; I take it much unkindly\"\n",
      "A: Iago\n",
      "\n",
      "\n",
      "Category: A Shakespeare Play, For Openers for $600:\n",
      "Q: The chorus of \"Romeo & Juliet\" tells us it's in this city \"where we lay our scene\"\n",
      "A: Verona\n",
      "\n",
      "\n",
      "Category: A Shakespeare Play, For Openers for $800:\n",
      "Q: Completes the opening sentence \"Now is the winter of our discontent made glorious summer by this sun of...\"\n",
      "A: York\n",
      "\n",
      "\n",
      "Category: A Shakespeare Play, For Openers for $1000:\n",
      "Q: This play opens most dramatically with thunder & lightning. A ship is seen. Then a cry of \"bos'n!\"\n",
      "A: The Tempest\n"
     ]
    }
   ],
   "source": [
    "for cat,amt, q, ans, in df.loc[df.category=='A Shakespeare Play, For Openers', ([\"category\",\"dollar_amt\",\"question\", \"answer\"])].values:\n",
    "#     if cat == \n",
    "    print(\"\\n\")\n",
    "    print(\"Category: {} for ${}:\".format(cat, int(amt)))\n",
    "    print(\"Q: {}\".format(q))\n",
    "    print(\"A: {}\".format(ans))"
   ]
  },
  {
   "cell_type": "markdown",
   "metadata": {},
   "source": [
    "##### proctor_and_gamble_logo \n",
    "\n",
    "- image: https://www.google.com/search?q=procter+and+gamble+logo&tbm=isch&source=iu&ictx=1&fir=PG9-vP9uXojiNM%253A%252CPiaop9T2LepunM%252C_&usg=__zqIb2anXGQHzn6j7SIVdRbtnt20%3D&sa=X&ved=0ahUKEwitgrq_zsfYAhUrw4MKHeb7C6cQ9QEINTAF#imgrc=PG9-vP9uXojiNM:\n",
    "\n",
    "- story: http://www.corporate-eye.com/main/the-procter-gamble-logo-then-and-now/"
   ]
  },
  {
   "cell_type": "code",
   "execution_count": 243,
   "metadata": {
    "collapsed": true
   },
   "outputs": [
    {
     "name": "stdout",
     "output_type": "stream",
     "text": [
      "\n",
      "\n",
      "Category: That'S Business for $200:\n",
      "Q: He started a book business from his home in 1873; his son William joined forces with G. Clifford Noble in 1917\n",
      "A: (Charles M.) Barnes\n",
      "\n",
      "\n",
      "Category: That'S Business for $400:\n",
      "Q: In 1997 Tyco International moved to this U.K. territory in the Atlantic for tax purposes\n",
      "A: Bermuda\n",
      "\n",
      "\n",
      "Category: That'S Business for $600:\n",
      "Q: An Italian clothier is known as the United Colors of this\n",
      "A: Benetton\n",
      "\n",
      "\n",
      "Category: That'S Business for $800:\n",
      "Q: In 1851 this company started using a logo with a man in the moon & 13 stars; now it uses its initials\n",
      "A: Proctor & Gamble\n",
      "\n",
      "\n",
      "Category: That'S Business for $1000:\n",
      "Q: In 1927 this brand name first appeared on a Sears washing machine\n",
      "A: Kenmore\n"
     ]
    }
   ],
   "source": [
    "for cat,amt, q, ans, in df.loc[df.category==\"That'S Business\", ([\"category\",\"dollar_amt\",\"question\", \"answer\"])].values:\n",
    "#     if cat == \n",
    "    print(\"\\n\")\n",
    "    print(\"Category: {} for ${}:\".format(cat, int(amt)))\n",
    "    print(\"Q: {}\".format(q))\n",
    "    print(\"A: {}\".format(ans))"
   ]
  },
  {
   "cell_type": "code",
   "execution_count": 244,
   "metadata": {},
   "outputs": [
    {
     "name": "stdout",
     "output_type": "stream",
     "text": [
      "\n",
      "\n",
      "Category: Nursery Rhymes for $200:\n",
      "Q: Peter, Peter was an eater of this; he kept his wife in its shell\n",
      "A: pumpkin\n",
      "\n",
      "\n",
      "Category: Nursery Rhymes for $400:\n",
      "Q: \"I had a little hobby-horse and it was dapple gray; its head was made of pea-straw, its tail was made of\" this\n",
      "A: hay\n",
      "\n",
      "\n",
      "Category: Nursery Rhymes for $600:\n",
      "Q: In a counting nursery rhyme, they were \"a-courting\", \"in the kitchen\" & \"a-waiting\"\n",
      "A: maids\n",
      "\n",
      "\n",
      "Category: Nursery Rhymes for $800:\n",
      "Q: While \"January brings the snow\", \"may brings flocks of pretty\" these, \"skipping by their fleecy dams\"\n",
      "A: lambs\n",
      "\n",
      "\n",
      "Category: Nursery Rhymes for $1000:\n",
      "Q: \"Here we go round\" this bush \"on a cold and frosty morning\"\n",
      "A: the mulberry bush\n"
     ]
    }
   ],
   "source": [
    "for cat,amt, q, ans, in df.loc[df.category=='Nursery Rhymes', ([\"category\",\"dollar_amt\",\"question\", \"answer\"])].values:\n",
    "    print(\"\\n\")\n",
    "    print(\"Category: {} for ${}:\".format(cat, int(amt)))\n",
    "    print(\"Q: {}\".format(q))\n",
    "    print(\"A: {}\".format(ans))"
   ]
  },
  {
   "cell_type": "code",
   "execution_count": 245,
   "metadata": {},
   "outputs": [
    {
     "name": "stdout",
     "output_type": "stream",
     "text": [
      "\n",
      "\n",
      "Category: Inlets for $200:\n",
      "Q: This largest Alaskan city lies at the head of cook inlet on the Kenai peninsula\n",
      "A: Anchorage\n",
      "\n",
      "\n",
      "Category: Inlets for $400:\n",
      "Q: Big ships must pass through Admiralty Inlet to enter or leave this Washington State sound\n",
      "A: Puget Sound\n",
      "\n",
      "\n",
      "Category: Inlets for $1000:\n",
      "Q: Faxa Bay in the North Atlantic is between this country's Snaefells & Reykjanes peninsulas\n",
      "A: Iceland\n",
      "\n",
      "\n",
      "Category: Inlets for $800:\n",
      "Q: This Chilean city whose name means \"valley of paradise\" lies on a wide inlet of the Pacific\n",
      "A: Valparaiso\n",
      "\n",
      "\n",
      "Category: Inlets for $1000:\n",
      "Q: North Carolina's Albemarle Sound is no deeper than 25 feet & is protected from the Atlantic by this island chain\n",
      "A: the Outer Banks\n"
     ]
    }
   ],
   "source": [
    "for cat,amt, q, ans, in df.loc[df.category=='Inlets', ([\"category\",\"dollar_amt\",\"question\", \"answer\"])].values:\n",
    "    print(\"\\n\")\n",
    "    print(\"Category: {} for ${}:\".format(cat, int(amt)))\n",
    "    print(\"Q: {}\".format(q))\n",
    "    print(\"A: {}\".format(ans))"
   ]
  },
  {
   "cell_type": "code",
   "execution_count": 246,
   "metadata": {
    "collapsed": true
   },
   "outputs": [
    {
     "name": "stdout",
     "output_type": "stream",
     "text": [
      "\n",
      "\n",
      "Category: Foreign for $200:\n",
      "Q: In Portuguese, domingo is this day of the week\n",
      "A: Sunday\n",
      "\n",
      "\n",
      "Category: Foreign for $400:\n",
      "Q: In French, l'oiseau is this; it sports les plumes\n",
      "A: a bird\n",
      "\n",
      "\n",
      "Category: Foreign for $600:\n",
      "Q: If Popeye spoke Hebrew he'd ask for tered, this\n",
      "A: spinach\n",
      "\n",
      "\n",
      "Category: Foreign for $800:\n",
      "Q: Tredici is Italian for this symbol of bad luck\n",
      "A: thirteen\n",
      "\n",
      "\n",
      "Category: Foreign for $1000:\n",
      "Q: In German, berg is this topographical feature on a map\n",
      "A: a mountain\n"
     ]
    }
   ],
   "source": [
    "for cat,amt, q, ans, in df.loc[df.category=='Foreign', ([\"category\",\"dollar_amt\",\"question\", \"answer\"])].values:\n",
    "    print(\"\\n\")\n",
    "    print(\"Category: {} for ${}:\".format(cat, int(amt)))\n",
    "    print(\"Q: {}\".format(q))\n",
    "    print(\"A: {}\".format(ans))"
   ]
  },
  {
   "cell_type": "code",
   "execution_count": 255,
   "metadata": {},
   "outputs": [
    {
     "name": "stdout",
     "output_type": "stream",
     "text": [
      "$400\n",
      "     Q: In December 1974 this former New York governor was sworn in as Vice President\n",
      "     A: Rockefeller\n",
      "$800\n",
      "     Q: In 1951 he told a joint session of congress that he \"tried to do his duty as god gave him the light to see that duty\"\n",
      "     A: (Douglas) McArthur\n",
      "$1800\n",
      "     Q: This political party founded around 1789 stood for a strong central government\n",
      "     A: the Federalists\n",
      "$1600\n",
      "     Q: His foes said that in 1877 he agreed to withdraw remaining federal troops from the south in return for electoral support\n",
      "     A: (Rutherford B.) Hayes\n",
      "$2000\n",
      "     Q: In 1917 the U.S. purchased the islands of St. Croix, St. John & St. Thomas from this country for $25 million\n",
      "     A: Denmark\n"
     ]
    }
   ],
   "source": [
    "for cat,amt, q, ans, in df.loc[df.category=='American History', ([\"category\",\"dollar_amt\",\"question\", \"answer\"])].values:\n",
    "#     print(\"\\n\")\n",
    "    print(\"${}\".format(int(amt)))#, cat, int(amt)))\n",
    "#     print(\"${} : Category: {} for ${}:\".format(int(amt), cat, int(amt)))\n",
    "    print(\"     Q: {}\".format(q))\n",
    "    print(\"     A: {}\".format(ans))"
   ]
  },
  {
   "cell_type": "markdown",
   "metadata": {},
   "source": [
    "### jeopardy"
   ]
  },
  {
   "cell_type": "code",
   "execution_count": 265,
   "metadata": {},
   "outputs": [
    {
     "name": "stdout",
     "output_type": "stream",
     "text": [
      "[ 200  400  600  800 1000]\n"
     ]
    }
   ],
   "source": [
    "x = np.array([200,400,600,800,1000])\n",
    "print(x)\n",
    "going_to_fur = [1,1,1,0,1]\n",
    "come_in = [1,1,1,0,0]\n",
    "title_nine = [1,1,1,1,0]\n",
    "##################\n",
    "shakespeare_play = [1,1,1,1,1]\n",
    "thats_business = [1,0,1,0,0]\n",
    "###################\n",
    "nursery_rhymes = [1,1,0,-1,1]\n",
    "inlets = [1,1,1,0,0]\n",
    "evolution_music = [1,1,1,1,0] #\n",
    "foreign = [1,-1,1,0,1]\n",
    "\n"
   ]
  },
  {
   "cell_type": "code",
   "execution_count": 282,
   "metadata": {},
   "outputs": [
    {
     "data": {
      "text/plain": [
       "array([ 200,  400,  600,    0, 1000])"
      ]
     },
     "execution_count": 282,
     "metadata": {},
     "output_type": "execute_result"
    }
   ],
   "source": [
    "np.asarray(going_to_fur)*x"
   ]
  },
  {
   "cell_type": "code",
   "execution_count": 319,
   "metadata": {},
   "outputs": [
    {
     "name": "stdout",
     "output_type": "stream",
     "text": [
      "[1800 2400 4800 1600 4000]\n",
      "jeopardy total including 3 categories from a different jeopardy round: $14,600\n"
     ]
    }
   ],
   "source": [
    "total = np.asarray([0,0,0,0,0])\n",
    "for scores in [going_to_fur, come_in, title_nine, shakespeare_play, \n",
    "            thats_business, nursery_rhymes, inlets, evolution_music, foreign]:\n",
    "    total += np.asarray(scores)*x\n",
    "print(total)    \n",
    "print(\"jeopardy total including 3 categories from a different jeopardy round: ${:,g}\".format(sum(total)))"
   ]
  },
  {
   "cell_type": "code",
   "execution_count": 321,
   "metadata": {},
   "outputs": [],
   "source": [
    "total = np.asarray([0,0,0,0,0])\n",
    "for scores in [shakespeare_play, \n",
    "            thats_business, nursery_rhymes, inlets, evolution_music, foreign]:\n",
    "    total += np.asarray(scores)*x"
   ]
  },
  {
   "cell_type": "code",
   "execution_count": 322,
   "metadata": {},
   "outputs": [
    {
     "name": "stdout",
     "output_type": "stream",
     "text": [
      "[1200 1200 3000  800 3000]\n",
      "jeopardy total: $9,200\n"
     ]
    }
   ],
   "source": [
    "print(total)\n",
    "jeopardy_total = sum(total)\n",
    "print(\"jeopardy total: ${:,g}\".format(jeopardy_total))"
   ]
  },
  {
   "cell_type": "markdown",
   "metadata": {},
   "source": [
    "### double jeopardy"
   ]
  },
  {
   "cell_type": "code",
   "execution_count": 323,
   "metadata": {},
   "outputs": [
    {
     "name": "stdout",
     "output_type": "stream",
     "text": [
      "[ 400  800 1200 1600 2000]\n"
     ]
    }
   ],
   "source": [
    "x2 = x*2\n",
    "print(x2)\n",
    "american_history = [0,-1,1,-1,0]\n",
    "whats_your_beef = [0,0,1,1,-1]\n",
    "weopons_ww2 = [1,-1,1,-1,1]\n",
    "living_planet = [1,0,1,1,1]  # 0 --> missing 600\n",
    "acting_presidents = [-1,1,1,0,0]\n",
    "\n",
    "four_n = [1, 1, 1, 0, 1 ]  #order flip"
   ]
  },
  {
   "cell_type": "code",
   "execution_count": 324,
   "metadata": {},
   "outputs": [
    {
     "name": "stdout",
     "output_type": "stream",
     "text": [
      "[ 800    0 7200    0 4000]\n",
      "double jeopardy total: 12000\n"
     ]
    }
   ],
   "source": [
    "total_double = np.asarray([0,0,0,0,0])\n",
    "for scores in [american_history, whats_your_beef, weopons_ww2, living_planet, acting_presidents, four_n]:\n",
    "    total_double += np.asarray(scores)*x2\n",
    "print(total_double)    \n",
    "double_jeopardy_total = sum(total_double)\n",
    "print(\"double jeopardy total: {}\".format(double_jeopardy_total))"
   ]
  },
  {
   "cell_type": "code",
   "execution_count": 325,
   "metadata": {},
   "outputs": [
    {
     "name": "stdout",
     "output_type": "stream",
     "text": [
      "jeopardy + double jeopardy total: 21200\n"
     ]
    }
   ],
   "source": [
    "round_total = jeopardy_total + double_jeopardy_total\n",
    "print(\"jeopardy + double jeopardy total: {}\".format(round_total))"
   ]
  },
  {
   "cell_type": "markdown",
   "metadata": {},
   "source": [
    "### Final Jeopardy"
   ]
  },
  {
   "cell_type": "code",
   "execution_count": 326,
   "metadata": {},
   "outputs": [],
   "source": [
    "sports_and_the_movies = {'total': round_total, 'wager': round_total, \"score\": 1, \"dollars\": round_total+round_total} #doubled earnings\n"
   ]
  },
  {
   "cell_type": "code",
   "execution_count": 327,
   "metadata": {},
   "outputs": [
    {
     "name": "stdout",
     "output_type": "stream",
     "text": [
      "Brian, your score for Jeopardy #6294 is $42,400\n"
     ]
    }
   ],
   "source": [
    "print(\"Brian, your score for Jeopardy #6294 is ${:,g}\".format(sports_and_the_movies['dollars']))"
   ]
  },
  {
   "cell_type": "markdown",
   "metadata": {},
   "source": [
    "# Jeopardy Show Number 6294\n",
    "```python\n",
    "array(['A Shakespeare Play, For Openers', \"That'S Business\",\n",
    "       'Nursery Rhymes', 'Inlets', 'The Evolution Of \"M\"Usic', 'Foreign',\n",
    "       'American History', \"What'S Your Beef?\", 'Weapons Of World War Ii',\n",
    "       'The Living Planet', 'Acting Presidents On Tv', '4 N',\n",
    "       'Sports & The Movies'])\n",
    "```"
   ]
  },
  {
   "cell_type": "code",
   "execution_count": 277,
   "metadata": {},
   "outputs": [
    {
     "data": {
      "text/html": [
       "<div>\n",
       "<style scoped>\n",
       "    .dataframe tbody tr th:only-of-type {\n",
       "        vertical-align: middle;\n",
       "    }\n",
       "\n",
       "    .dataframe tbody tr th {\n",
       "        vertical-align: top;\n",
       "    }\n",
       "\n",
       "    .dataframe thead th {\n",
       "        text-align: right;\n",
       "    }\n",
       "</style>\n",
       "<table border=\"1\" class=\"dataframe\">\n",
       "  <thead>\n",
       "    <tr style=\"text-align: right;\">\n",
       "      <th></th>\n",
       "      <th>show_number</th>\n",
       "      <th>air_date</th>\n",
       "      <th>jround</th>\n",
       "      <th>category</th>\n",
       "      <th>value</th>\n",
       "      <th>question</th>\n",
       "      <th>answer</th>\n",
       "      <th>dollar_amt</th>\n",
       "    </tr>\n",
       "  </thead>\n",
       "  <tbody>\n",
       "    <tr>\n",
       "      <th>1974</th>\n",
       "      <td>6294</td>\n",
       "      <td>2012-01-19</td>\n",
       "      <td>Final Jeopardy!</td>\n",
       "      <td>Sports &amp; The Movies</td>\n",
       "      <td>None</td>\n",
       "      <td>When asked for a home address in \"The Blues Br...</td>\n",
       "      <td>Wrigley Field</td>\n",
       "      <td>NaN</td>\n",
       "    </tr>\n",
       "  </tbody>\n",
       "</table>\n",
       "</div>"
      ],
      "text/plain": [
       "      show_number   air_date           jround             category value  \\\n",
       "1974         6294 2012-01-19  Final Jeopardy!  Sports & The Movies  None   \n",
       "\n",
       "                                               question         answer  \\\n",
       "1974  When asked for a home address in \"The Blues Br...  Wrigley Field   \n",
       "\n",
       "      dollar_amt  \n",
       "1974         NaN  "
      ]
     },
     "execution_count": 277,
     "metadata": {},
     "output_type": "execute_result"
    }
   ],
   "source": [
    "df.loc[df.category=='Sports & The Movies']"
   ]
  },
  {
   "cell_type": "code",
   "execution_count": 300,
   "metadata": {
    "collapsed": true
   },
   "outputs": [
    {
     "data": {
      "text/html": [
       "<div>\n",
       "<style scoped>\n",
       "    .dataframe tbody tr th:only-of-type {\n",
       "        vertical-align: middle;\n",
       "    }\n",
       "\n",
       "    .dataframe tbody tr th {\n",
       "        vertical-align: top;\n",
       "    }\n",
       "\n",
       "    .dataframe thead th {\n",
       "        text-align: right;\n",
       "    }\n",
       "</style>\n",
       "<table border=\"1\" class=\"dataframe\">\n",
       "  <thead>\n",
       "    <tr style=\"text-align: right;\">\n",
       "      <th></th>\n",
       "      <th>show_number</th>\n",
       "      <th>air_date</th>\n",
       "      <th>jround</th>\n",
       "      <th>category</th>\n",
       "      <th>value</th>\n",
       "      <th>question</th>\n",
       "      <th>answer</th>\n",
       "      <th>dollar_amt</th>\n",
       "    </tr>\n",
       "  </thead>\n",
       "  <tbody>\n",
       "    <tr>\n",
       "      <th>1915</th>\n",
       "      <td>6294</td>\n",
       "      <td>2012-01-19</td>\n",
       "      <td>Jeopardy!</td>\n",
       "      <td>A Shakespeare Play, For Openers</td>\n",
       "      <td>$200</td>\n",
       "      <td>This play opens on the battlements of the cast...</td>\n",
       "      <td>Hamlet</td>\n",
       "      <td>200.0</td>\n",
       "    </tr>\n",
       "    <tr>\n",
       "      <th>1921</th>\n",
       "      <td>6294</td>\n",
       "      <td>2012-01-19</td>\n",
       "      <td>Jeopardy!</td>\n",
       "      <td>A Shakespeare Play, For Openers</td>\n",
       "      <td>$400</td>\n",
       "      <td>\"Othello\" opens with Roderigo addressing this ...</td>\n",
       "      <td>Iago</td>\n",
       "      <td>400.0</td>\n",
       "    </tr>\n",
       "    <tr>\n",
       "      <th>1927</th>\n",
       "      <td>6294</td>\n",
       "      <td>2012-01-19</td>\n",
       "      <td>Jeopardy!</td>\n",
       "      <td>A Shakespeare Play, For Openers</td>\n",
       "      <td>$600</td>\n",
       "      <td>The chorus of \"Romeo &amp; Juliet\" tells us it's i...</td>\n",
       "      <td>Verona</td>\n",
       "      <td>600.0</td>\n",
       "    </tr>\n",
       "    <tr>\n",
       "      <th>1933</th>\n",
       "      <td>6294</td>\n",
       "      <td>2012-01-19</td>\n",
       "      <td>Jeopardy!</td>\n",
       "      <td>A Shakespeare Play, For Openers</td>\n",
       "      <td>$800</td>\n",
       "      <td>Completes the opening sentence \"Now is the win...</td>\n",
       "      <td>York</td>\n",
       "      <td>800.0</td>\n",
       "    </tr>\n",
       "    <tr>\n",
       "      <th>1939</th>\n",
       "      <td>6294</td>\n",
       "      <td>2012-01-19</td>\n",
       "      <td>Jeopardy!</td>\n",
       "      <td>A Shakespeare Play, For Openers</td>\n",
       "      <td>$1,000</td>\n",
       "      <td>This play opens most dramatically with thunder...</td>\n",
       "      <td>The Tempest</td>\n",
       "      <td>1000.0</td>\n",
       "    </tr>\n",
       "    <tr>\n",
       "      <th>1950</th>\n",
       "      <td>6294</td>\n",
       "      <td>2012-01-19</td>\n",
       "      <td>Double Jeopardy!</td>\n",
       "      <td>4 N</td>\n",
       "      <td>$400</td>\n",
       "      <td>Number of \"beers on the wall\" at the beginning...</td>\n",
       "      <td>ninety-nine</td>\n",
       "      <td>400.0</td>\n",
       "    </tr>\n",
       "    <tr>\n",
       "      <th>1955</th>\n",
       "      <td>6294</td>\n",
       "      <td>2012-01-19</td>\n",
       "      <td>Double Jeopardy!</td>\n",
       "      <td>4 N</td>\n",
       "      <td>$800</td>\n",
       "      <td>\"U\" know it means not deliberate; I'm sorry, t...</td>\n",
       "      <td>unintentional</td>\n",
       "      <td>800.0</td>\n",
       "    </tr>\n",
       "    <tr>\n",
       "      <th>1961</th>\n",
       "      <td>6294</td>\n",
       "      <td>2012-01-19</td>\n",
       "      <td>Double Jeopardy!</td>\n",
       "      <td>4 N</td>\n",
       "      <td>$2,400</td>\n",
       "      <td>It's the church festival on March 25 commemora...</td>\n",
       "      <td>the annunciation</td>\n",
       "      <td>2400.0</td>\n",
       "    </tr>\n",
       "    <tr>\n",
       "      <th>1967</th>\n",
       "      <td>6294</td>\n",
       "      <td>2012-01-19</td>\n",
       "      <td>Double Jeopardy!</td>\n",
       "      <td>4 N</td>\n",
       "      <td>$1,600</td>\n",
       "      <td>Adjective preceding the railroad completed in ...</td>\n",
       "      <td>transcontinental</td>\n",
       "      <td>1600.0</td>\n",
       "    </tr>\n",
       "    <tr>\n",
       "      <th>1973</th>\n",
       "      <td>6294</td>\n",
       "      <td>2012-01-19</td>\n",
       "      <td>Double Jeopardy!</td>\n",
       "      <td>4 N</td>\n",
       "      <td>$2,000</td>\n",
       "      <td>Inopportune or untimely, like the title \"woman...</td>\n",
       "      <td>inconvenient</td>\n",
       "      <td>2000.0</td>\n",
       "    </tr>\n",
       "  </tbody>\n",
       "</table>\n",
       "</div>"
      ],
      "text/plain": [
       "      show_number   air_date            jround  \\\n",
       "1915         6294 2012-01-19         Jeopardy!   \n",
       "1921         6294 2012-01-19         Jeopardy!   \n",
       "1927         6294 2012-01-19         Jeopardy!   \n",
       "1933         6294 2012-01-19         Jeopardy!   \n",
       "1939         6294 2012-01-19         Jeopardy!   \n",
       "1950         6294 2012-01-19  Double Jeopardy!   \n",
       "1955         6294 2012-01-19  Double Jeopardy!   \n",
       "1961         6294 2012-01-19  Double Jeopardy!   \n",
       "1967         6294 2012-01-19  Double Jeopardy!   \n",
       "1973         6294 2012-01-19  Double Jeopardy!   \n",
       "\n",
       "                             category   value  \\\n",
       "1915  A Shakespeare Play, For Openers    $200   \n",
       "1921  A Shakespeare Play, For Openers    $400   \n",
       "1927  A Shakespeare Play, For Openers    $600   \n",
       "1933  A Shakespeare Play, For Openers    $800   \n",
       "1939  A Shakespeare Play, For Openers  $1,000   \n",
       "1950                              4 N    $400   \n",
       "1955                              4 N    $800   \n",
       "1961                              4 N  $2,400   \n",
       "1967                              4 N  $1,600   \n",
       "1973                              4 N  $2,000   \n",
       "\n",
       "                                               question            answer  \\\n",
       "1915  This play opens on the battlements of the cast...            Hamlet   \n",
       "1921  \"Othello\" opens with Roderigo addressing this ...              Iago   \n",
       "1927  The chorus of \"Romeo & Juliet\" tells us it's i...            Verona   \n",
       "1933  Completes the opening sentence \"Now is the win...              York   \n",
       "1939  This play opens most dramatically with thunder...       The Tempest   \n",
       "1950  Number of \"beers on the wall\" at the beginning...       ninety-nine   \n",
       "1955  \"U\" know it means not deliberate; I'm sorry, t...     unintentional   \n",
       "1961  It's the church festival on March 25 commemora...  the annunciation   \n",
       "1967  Adjective preceding the railroad completed in ...  transcontinental   \n",
       "1973  Inopportune or untimely, like the title \"woman...      inconvenient   \n",
       "\n",
       "      dollar_amt  \n",
       "1915       200.0  \n",
       "1921       400.0  \n",
       "1927       600.0  \n",
       "1933       800.0  \n",
       "1939      1000.0  \n",
       "1950       400.0  \n",
       "1955       800.0  \n",
       "1961      2400.0  \n",
       "1967      1600.0  \n",
       "1973      2000.0  "
      ]
     },
     "execution_count": 300,
     "metadata": {},
     "output_type": "execute_result"
    }
   ],
   "source": [
    "df.loc[(df.category=='A Shakespeare Play, For Openers') | (df.category=='4 N')]"
   ]
  },
  {
   "cell_type": "markdown",
   "metadata": {},
   "source": [
    "# Jeopardy Show Number 6288"
   ]
  },
  {
   "cell_type": "code",
   "execution_count": 294,
   "metadata": {},
   "outputs": [
    {
     "data": {
      "text/html": [
       "<div>\n",
       "<style scoped>\n",
       "    .dataframe tbody tr th:only-of-type {\n",
       "        vertical-align: middle;\n",
       "    }\n",
       "\n",
       "    .dataframe tbody tr th {\n",
       "        vertical-align: top;\n",
       "    }\n",
       "\n",
       "    .dataframe thead th {\n",
       "        text-align: right;\n",
       "    }\n",
       "</style>\n",
       "<table border=\"1\" class=\"dataframe\">\n",
       "  <thead>\n",
       "    <tr style=\"text-align: right;\">\n",
       "      <th></th>\n",
       "      <th>show_number</th>\n",
       "      <th>air_date</th>\n",
       "      <th>jround</th>\n",
       "      <th>category</th>\n",
       "      <th>value</th>\n",
       "      <th>question</th>\n",
       "      <th>answer</th>\n",
       "      <th>dollar_amt</th>\n",
       "    </tr>\n",
       "  </thead>\n",
       "  <tbody>\n",
       "    <tr>\n",
       "      <th>4495</th>\n",
       "      <td>6288</td>\n",
       "      <td>2012-01-11</td>\n",
       "      <td>Jeopardy!</td>\n",
       "      <td>Art &amp; Artists</td>\n",
       "      <td>$200</td>\n",
       "      <td>In 1956 Time magazine dubbed this abstract exp...</td>\n",
       "      <td>Pollock</td>\n",
       "      <td>200.0</td>\n",
       "    </tr>\n",
       "    <tr>\n",
       "      <th>4501</th>\n",
       "      <td>6288</td>\n",
       "      <td>2012-01-11</td>\n",
       "      <td>Jeopardy!</td>\n",
       "      <td>Art &amp; Artists</td>\n",
       "      <td>$400</td>\n",
       "      <td>This Dutch master served as chairman of the De...</td>\n",
       "      <td>Jan Vermeer</td>\n",
       "      <td>400.0</td>\n",
       "    </tr>\n",
       "    <tr>\n",
       "      <th>4507</th>\n",
       "      <td>6288</td>\n",
       "      <td>2012-01-11</td>\n",
       "      <td>Jeopardy!</td>\n",
       "      <td>Art &amp; Artists</td>\n",
       "      <td>$600</td>\n",
       "      <td>Aquarelle is a transparent, rather than opaque...</td>\n",
       "      <td>watercolor</td>\n",
       "      <td>600.0</td>\n",
       "    </tr>\n",
       "    <tr>\n",
       "      <th>4513</th>\n",
       "      <td>6288</td>\n",
       "      <td>2012-01-11</td>\n",
       "      <td>Jeopardy!</td>\n",
       "      <td>Art &amp; Artists</td>\n",
       "      <td>$800</td>\n",
       "      <td>Andre Breton anagrammed this surrealist's name...</td>\n",
       "      <td>Salvador Dali</td>\n",
       "      <td>800.0</td>\n",
       "    </tr>\n",
       "    <tr>\n",
       "      <th>4519</th>\n",
       "      <td>6288</td>\n",
       "      <td>2012-01-11</td>\n",
       "      <td>Jeopardy!</td>\n",
       "      <td>Art &amp; Artists</td>\n",
       "      <td>$1,000</td>\n",
       "      <td>This American female impressionist modeled for...</td>\n",
       "      <td>(Mary) Cassatt</td>\n",
       "      <td>1000.0</td>\n",
       "    </tr>\n",
       "  </tbody>\n",
       "</table>\n",
       "</div>"
      ],
      "text/plain": [
       "      show_number   air_date     jround       category   value  \\\n",
       "4495         6288 2012-01-11  Jeopardy!  Art & Artists    $200   \n",
       "4501         6288 2012-01-11  Jeopardy!  Art & Artists    $400   \n",
       "4507         6288 2012-01-11  Jeopardy!  Art & Artists    $600   \n",
       "4513         6288 2012-01-11  Jeopardy!  Art & Artists    $800   \n",
       "4519         6288 2012-01-11  Jeopardy!  Art & Artists  $1,000   \n",
       "\n",
       "                                               question          answer  \\\n",
       "4495  In 1956 Time magazine dubbed this abstract exp...         Pollock   \n",
       "4501  This Dutch master served as chairman of the De...     Jan Vermeer   \n",
       "4507  Aquarelle is a transparent, rather than opaque...      watercolor   \n",
       "4513  Andre Breton anagrammed this surrealist's name...   Salvador Dali   \n",
       "4519  This American female impressionist modeled for...  (Mary) Cassatt   \n",
       "\n",
       "      dollar_amt  \n",
       "4495       200.0  \n",
       "4501       400.0  \n",
       "4507       600.0  \n",
       "4513       800.0  \n",
       "4519      1000.0  "
      ]
     },
     "execution_count": 294,
     "metadata": {},
     "output_type": "execute_result"
    }
   ],
   "source": [
    "df.loc[df.category=='Art & Artists']"
   ]
  },
  {
   "cell_type": "code",
   "execution_count": 185,
   "metadata": {},
   "outputs": [
    {
     "data": {
      "text/plain": [
       "array(['A Shakespeare Play, For Openers', \"That'S Business\",\n",
       "       'Nursery Rhymes', 'Inlets', 'The Evolution Of \"M\"Usic', 'Foreign',\n",
       "       'American History', \"What'S Your Beef?\", 'Weapons Of World War Ii',\n",
       "       'The Living Planet', 'Acting Presidents On Tv', '4 N',\n",
       "       'Sports & The Movies', 'Art & Artists', 'Travel',\n",
       "       \"Celebrities' Middle Names\", 'Catholic Priests', 'Title 9',\n",
       "       'Come \"In\"', 'Want Ads', 'Go \"South\"',\n",
       "       'I Know That Word Backwards & Forwards', 'Mesopotamia',\n",
       "       'The De Niro Code', 'At The Cleveland Clinic', 'Food Etymology',\n",
       "       'Slim Volumes', 'State Of The Union', 'Going Too \"Fur\"',\n",
       "       'It Might Surprise You', 'Jonathan Swifties', 'Comic Strips',\n",
       "       'Architecture', 'Sounds Like A Capital City', 'Motorcycle Makers',\n",
       "       'Missing Links', 'Plate Tectonics', 'Comics Strip',\n",
       "       'Rulers In History', 'Historic Dates', 'Sports Shorts',\n",
       "       'One Letter Different', 'The Land', 'Of Milk', '& Honey',\n",
       "       'Any First Words?', 'Symbology', 'Pop Culture', 'Miscellan\"Ium\"',\n",
       "       'Old Virginia', \"Bartlett'S Pairs\", 'Fathers & Sons'], dtype=object)"
      ]
     },
     "execution_count": 185,
     "metadata": {},
     "output_type": "execute_result"
    }
   ],
   "source": [
    "df.category.unique()"
   ]
  },
  {
   "cell_type": "code",
   "execution_count": 293,
   "metadata": {},
   "outputs": [
    {
     "name": "stdout",
     "output_type": "stream",
     "text": [
      "$200\n",
      "       Q: In 1956 Time magazine dubbed this abstract expressionist \"Jack the Dripper\"\n",
      "       A: Pollock\n",
      "$400\n",
      "       Q: This Dutch master served as chairman of the Delft Artists' Guild from 1662-63 & 1670-71\n",
      "       A: Jan Vermeer\n",
      "$600\n",
      "       Q: Aquarelle is a transparent, rather than opaque, type of this painting, as seen in Paul Klee's work \"Quarry\"\n",
      "       A: watercolor\n",
      "$800\n",
      "       Q: Andre Breton anagrammed this surrealist's name as \"Avida Dollars\"\n",
      "       A: Salvador Dali\n",
      "$1000\n",
      "       Q: This American female impressionist modeled for many of Degas' works, including \"At the Milliner's\"\n",
      "       A: (Mary) Cassatt\n"
     ]
    }
   ],
   "source": [
    "for cat,amt, q, ans, in df.loc[df.category=='Art & Artists', \n",
    "                               ([\"category\",\"dollar_amt\",\"question\", \"answer\"])].values:\n",
    "    try:\n",
    "        print(\"${}\".format(int(amt)))\n",
    "    except ValueError:\n",
    "        print(\"Final Jeopardy: How much $ will you wager?\")\n",
    "    print(\"       Q: {}\".format(q))\n",
    "    print(\"       A: {}\".format(ans))"
   ]
  },
  {
   "cell_type": "code",
   "execution_count": 264,
   "metadata": {},
   "outputs": [
    {
     "data": {
      "text/html": [
       "<div>\n",
       "<style scoped>\n",
       "    .dataframe tbody tr th:only-of-type {\n",
       "        vertical-align: middle;\n",
       "    }\n",
       "\n",
       "    .dataframe tbody tr th {\n",
       "        vertical-align: top;\n",
       "    }\n",
       "\n",
       "    .dataframe thead th {\n",
       "        text-align: right;\n",
       "    }\n",
       "</style>\n",
       "<table border=\"1\" class=\"dataframe\">\n",
       "  <thead>\n",
       "    <tr style=\"text-align: right;\">\n",
       "      <th></th>\n",
       "      <th>show_number</th>\n",
       "      <th>air_date</th>\n",
       "      <th>jround</th>\n",
       "      <th>category</th>\n",
       "      <th>value</th>\n",
       "      <th>question</th>\n",
       "      <th>answer</th>\n",
       "      <th>dollar_amt</th>\n",
       "    </tr>\n",
       "  </thead>\n",
       "  <tbody>\n",
       "    <tr>\n",
       "      <th>1915</th>\n",
       "      <td>6294</td>\n",
       "      <td>2012-01-19</td>\n",
       "      <td>Jeopardy!</td>\n",
       "      <td>A Shakespeare Play, For Openers</td>\n",
       "      <td>$200</td>\n",
       "      <td>This play opens on the battlements of the cast...</td>\n",
       "      <td>Hamlet</td>\n",
       "      <td>200.0</td>\n",
       "    </tr>\n",
       "    <tr>\n",
       "      <th>1916</th>\n",
       "      <td>6294</td>\n",
       "      <td>2012-01-19</td>\n",
       "      <td>Jeopardy!</td>\n",
       "      <td>That'S Business</td>\n",
       "      <td>$200</td>\n",
       "      <td>He started a book business from his home in 18...</td>\n",
       "      <td>(Charles M.) Barnes</td>\n",
       "      <td>200.0</td>\n",
       "    </tr>\n",
       "    <tr>\n",
       "      <th>1917</th>\n",
       "      <td>6294</td>\n",
       "      <td>2012-01-19</td>\n",
       "      <td>Jeopardy!</td>\n",
       "      <td>Nursery Rhymes</td>\n",
       "      <td>$200</td>\n",
       "      <td>Peter, Peter was an eater of this; he kept his...</td>\n",
       "      <td>pumpkin</td>\n",
       "      <td>200.0</td>\n",
       "    </tr>\n",
       "    <tr>\n",
       "      <th>1918</th>\n",
       "      <td>6294</td>\n",
       "      <td>2012-01-19</td>\n",
       "      <td>Jeopardy!</td>\n",
       "      <td>Inlets</td>\n",
       "      <td>$200</td>\n",
       "      <td>This largest Alaskan city lies at the head of ...</td>\n",
       "      <td>Anchorage</td>\n",
       "      <td>200.0</td>\n",
       "    </tr>\n",
       "    <tr>\n",
       "      <th>1919</th>\n",
       "      <td>6294</td>\n",
       "      <td>2012-01-19</td>\n",
       "      <td>Jeopardy!</td>\n",
       "      <td>The Evolution Of \"M\"Usic</td>\n",
       "      <td>$200</td>\n",
       "      <td>This '60s \"Nights in White Satin\" band has ano...</td>\n",
       "      <td>Moody Blues</td>\n",
       "      <td>200.0</td>\n",
       "    </tr>\n",
       "  </tbody>\n",
       "</table>\n",
       "</div>"
      ],
      "text/plain": [
       "      show_number   air_date     jround                         category  \\\n",
       "1915         6294 2012-01-19  Jeopardy!  A Shakespeare Play, For Openers   \n",
       "1916         6294 2012-01-19  Jeopardy!                  That'S Business   \n",
       "1917         6294 2012-01-19  Jeopardy!                   Nursery Rhymes   \n",
       "1918         6294 2012-01-19  Jeopardy!                           Inlets   \n",
       "1919         6294 2012-01-19  Jeopardy!         The Evolution Of \"M\"Usic   \n",
       "\n",
       "     value                                           question  \\\n",
       "1915  $200  This play opens on the battlements of the cast...   \n",
       "1916  $200  He started a book business from his home in 18...   \n",
       "1917  $200  Peter, Peter was an eater of this; he kept his...   \n",
       "1918  $200  This largest Alaskan city lies at the head of ...   \n",
       "1919  $200  This '60s \"Nights in White Satin\" band has ano...   \n",
       "\n",
       "                   answer  dollar_amt  \n",
       "1915               Hamlet       200.0  \n",
       "1916  (Charles M.) Barnes       200.0  \n",
       "1917              pumpkin       200.0  \n",
       "1918            Anchorage       200.0  \n",
       "1919          Moody Blues       200.0  "
      ]
     },
     "execution_count": 264,
     "metadata": {},
     "output_type": "execute_result"
    }
   ],
   "source": [
    "df.jround.unique()\n",
    "df.head()"
   ]
  },
  {
   "cell_type": "code",
   "execution_count": 198,
   "metadata": {},
   "outputs": [
    {
     "data": {
      "text/plain": [
       "Text(3.2,0.5,'category')"
      ]
     },
     "execution_count": 198,
     "metadata": {},
     "output_type": "execute_result"
    },
    {
     "data": {
      "image/png": "[encoded data removed]",
      "text/plain": [
       "<matplotlib.figure.Figure at 0x113210748>"
      ]
     },
     "metadata": {},
     "output_type": "display_data"
    }
   ],
   "source": [
    "import seaborn as sns\n",
    "fig = plt.figure(figsize=(20,10))\n",
    "g = sns.barplot(x='dollar_amt', y='category', data=df)# size=12)\n",
    "# ax.set_ylabel(\"category\", fontsize=24)"
   ]
  },
  {
   "cell_type": "code",
   "execution_count": 328,
   "metadata": {},
   "outputs": [
    {
     "data": {
      "text/plain": [
       "array([6294, 6288, 6287, 6293])"
      ]
     },
     "execution_count": 328,
     "metadata": {},
     "output_type": "execute_result"
    }
   ],
   "source": [
    "df.show_number.unique()"
   ]
  },
  {
   "cell_type": "markdown",
   "metadata": {},
   "source": [
    "# END JEOPARDY"
   ]
  },
  {
   "cell_type": "markdown",
   "metadata": {},
   "source": [
    "# Python Part 3:  Pandas Exercises\n",
    "---"
   ]
  },
  {
   "cell_type": "markdown",
   "metadata": {},
   "source": [
    "# Olive"
   ]
  },
  {
   "cell_type": "code",
   "execution_count": 83,
   "metadata": {},
   "outputs": [
    {
     "name": "stdout",
     "output_type": "stream",
     "text": [
      "10    11.North-Apulia\n",
      "11    12.North-Apulia\n",
      "12    13.North-Apulia\n",
      "13    14.North-Apulia\n",
      "14    15.North-Apulia\n",
      "15    16.North-Apulia\n",
      "16    17.North-Apulia\n",
      "17    18.North-Apulia\n",
      "18    19.North-Apulia\n",
      "19    20.North-Apulia\n",
      "Name: sub_region_desc, dtype: object\n",
      "\n",
      "\n"
     ]
    }
   ],
   "source": [
    "df = pd.read_csv(os.path.join(DATA_DIR,'olive.csv'))\n",
    "df.rename({'Unnamed: 0': 'sub_region_desc'}, axis=1, inplace=True)\n",
    "print(df.sub_region_desc[10:20])\n",
    "print(\"\\n\")\n",
    "df['sub_region_desc_raw'] = df.sub_region_desc"
   ]
  },
  {
   "cell_type": "markdown",
   "metadata": {},
   "source": [
    "### 3 ways to remove part of text --->  remove line numbers appended to region names:\n",
    "- `apply` with string manipulation;\n",
    "- `str.replace()` with regex;\n",
    "- `.extract(pat,flags=0,expand=True)`  expand=False by default; True ensures returns DataFrame; flags same as `re` module (ie `re.I`, default `0` means no flags)\n"
   ]
  },
  {
   "cell_type": "markdown",
   "metadata": {},
   "source": [
    "#### - (1) using `apply` to strip line numbers & get unique region names"
   ]
  },
  {
   "cell_type": "code",
   "execution_count": 84,
   "metadata": {},
   "outputs": [
    {
     "name": "stdout",
     "output_type": "stream",
     "text": [
      "There are 9 unique values of 'sub_region_desc'once line numbers are stripped from the front of the region name\n"
     ]
    }
   ],
   "source": [
    "# df['sub_region_desc_raw'] = df.sub_region_desc\n",
    "df['sub_region_desc1'] = df.sub_region_desc.apply(lambda x: x.split(\".\")[-1])\n",
    "\n",
    "print(\"There are {} unique values of 'sub_region_desc'\\\n",
    "once line numbers are stripped from the front of the region name\".format(\n",
    "    df.sub_region_desc1.nunique())\n",
    "     )"
   ]
  },
  {
   "cell_type": "raw",
   "metadata": {},
   "source": [
    "df = pd.read_csv(os.path.join(DATA_DIR,'olive.csv'))\n",
    "df.rename({'Unnamed: 0': 'sub_region_desc'}, axis=1, inplace=True)\n",
    "print(df.sub_region_desc[10:20])\n",
    "print(\"\\n\")"
   ]
  },
  {
   "cell_type": "markdown",
   "metadata": {},
   "source": [
    "#### - (2) using `replace` with regex to remove line numbers appended to region names\n",
    "- replacing all digits and periods with empty space"
   ]
  },
  {
   "cell_type": "raw",
   "metadata": {},
   "source": [
    "df = pd.read_csv(os.path.join(DATA_DIR,'olive.csv'))\n",
    "df.rename({'Unnamed: 0': 'sub_region_desc'}, axis=1, inplace=True)"
   ]
  },
  {
   "cell_type": "code",
   "execution_count": 85,
   "metadata": {},
   "outputs": [
    {
     "data": {
      "text/plain": [
       "array(['North-Apulia', 'Calabria', 'South-Apulia', 'Sicily',\n",
       "       'Inland-Sardinia', 'Coast-Sardinia', 'Umbria', 'East-Liguria',\n",
       "       'West-Liguria'], dtype=object)"
      ]
     },
     "execution_count": 85,
     "metadata": {},
     "output_type": "execute_result"
    }
   ],
   "source": [
    "df.sub_region_desc.str.replace(r'[\\d\\.]+', '').unique()"
   ]
  },
  {
   "cell_type": "markdown",
   "metadata": {},
   "source": [
    "#### - (3) using `extract` with regex to remove line numbers appended to region names\n",
    "- regex: capturing group\n",
    "- `extract(pat, flags=0, expand=None)`\n",
    "    where `pat`: `str`, regex pattern with capturing groups\n",
    "    and `flags`: `int`, default `0` (no flags); `re` module flags - ie `re.IGNORECASE` / `re.I`\n",
    "    and `expand`: `bool`, default `False`; if `True`, return DataFrame, else return `Series/Index/DataFrame` "
   ]
  },
  {
   "cell_type": "code",
   "execution_count": 94,
   "metadata": {},
   "outputs": [
    {
     "name": "stdout",
     "output_type": "stream",
     "text": [
      "Unique subregions: ['North-Apulia' 'Calabria' 'South-Apulia' 'Sicily' 'Inland-Sardinia'\n",
      " 'Coast-Sardinia' 'Umbria' 'East-Liguria' 'West-Liguria']\n"
     ]
    }
   ],
   "source": [
    "df['sub_region_desc2'] = df.sub_region_desc.str.extract(r'([A-Za-z\\-]+)', expand=True) #[0]#.values[0]\n",
    "print(\"Unique subregions: {}\".format(\n",
    "    df.sub_region_desc2.unique())\n",
    "     )"
   ]
  },
  {
   "cell_type": "code",
   "execution_count": 86,
   "metadata": {
    "collapsed": true
   },
   "outputs": [
    {
     "name": "stdout",
     "output_type": "stream",
     "text": [
      "Help on method extract in module pandas.core.strings:\n",
      "\n",
      "extract(pat, flags=0, expand=None) method of pandas.core.strings.StringMethods instance\n",
      "    For each subject string in the Series, extract groups from the\n",
      "    first match of regular expression pat.\n",
      "    \n",
      "    Parameters\n",
      "    ----------\n",
      "    pat : string\n",
      "        Regular expression pattern with capturing groups\n",
      "    flags : int, default 0 (no flags)\n",
      "        re module flags, e.g. re.IGNORECASE\n",
      "    \n",
      "    expand : bool, default False\n",
      "        * If True, return DataFrame.\n",
      "        * If False, return Series/Index/DataFrame.\n",
      "    \n",
      "        .. versionadded:: 0.18.0\n",
      "    \n",
      "    Returns\n",
      "    -------\n",
      "    DataFrame with one row for each subject string, and one column for\n",
      "    each group. Any capture group names in regular expression pat will\n",
      "    be used for column names; otherwise capture group numbers will be\n",
      "    used. The dtype of each result column is always object, even when\n",
      "    no match is found. If expand=False and pat has only one capture group,\n",
      "    then return a Series (if subject is a Series) or Index (if subject\n",
      "    is an Index).\n",
      "    \n",
      "    See Also\n",
      "    --------\n",
      "    extractall : returns all matches (not just the first match)\n",
      "    \n",
      "    Examples\n",
      "    --------\n",
      "    A pattern with two groups will return a DataFrame with two columns.\n",
      "    Non-matches will be NaN.\n",
      "    \n",
      "    >>> s = Series(['a1', 'b2', 'c3'])\n",
      "    >>> s.str.extract('([ab])(\\d)')\n",
      "         0    1\n",
      "    0    a    1\n",
      "    1    b    2\n",
      "    2  NaN  NaN\n",
      "    \n",
      "    A pattern may contain optional groups.\n",
      "    \n",
      "    >>> s.str.extract('([ab])?(\\d)')\n",
      "         0  1\n",
      "    0    a  1\n",
      "    1    b  2\n",
      "    2  NaN  3\n",
      "    \n",
      "    Named groups will become column names in the result.\n",
      "    \n",
      "    >>> s.str.extract('(?P<letter>[ab])(?P<digit>\\d)')\n",
      "      letter digit\n",
      "    0      a     1\n",
      "    1      b     2\n",
      "    2    NaN   NaN\n",
      "    \n",
      "    A pattern with one group will return a DataFrame with one column\n",
      "    if expand=True.\n",
      "    \n",
      "    >>> s.str.extract('[ab](\\d)', expand=True)\n",
      "         0\n",
      "    0    1\n",
      "    1    2\n",
      "    2  NaN\n",
      "    \n",
      "    A pattern with one group will return a Series if expand=False.\n",
      "    \n",
      "    >>> s.str.extract('[ab](\\d)', expand=False)\n",
      "    0      1\n",
      "    1      2\n",
      "    2    NaN\n",
      "    dtype: object\n",
      "\n"
     ]
    }
   ],
   "source": [
    "help(df.sub_region_desc.str.extract)"
   ]
  },
  {
   "cell_type": "code",
   "execution_count": 93,
   "metadata": {},
   "outputs": [
    {
     "data": {
      "text/plain": [
       "Index(['sub_region_desc', 'region', 'area', 'palmitic', 'palmitoleic',\n",
       "       'stearic', 'oleic', 'linoleic', 'linolenic', 'arachidic', 'eicosenoic',\n",
       "       'sub_region_desc_raw', 'sub_region_desc1', 'sub_region_desc2'],\n",
       "      dtype='object')"
      ]
     },
     "execution_count": 93,
     "metadata": {},
     "output_type": "execute_result"
    }
   ],
   "source": [
    "df.columns"
   ]
  },
  {
   "cell_type": "code",
   "execution_count": 95,
   "metadata": {},
   "outputs": [
    {
     "data": {
      "text/html": [
       "<div>\n",
       "<style scoped>\n",
       "    .dataframe tbody tr th:only-of-type {\n",
       "        vertical-align: middle;\n",
       "    }\n",
       "\n",
       "    .dataframe tbody tr th {\n",
       "        vertical-align: top;\n",
       "    }\n",
       "\n",
       "    .dataframe thead th {\n",
       "        text-align: right;\n",
       "    }\n",
       "</style>\n",
       "<table border=\"1\" class=\"dataframe\">\n",
       "  <thead>\n",
       "    <tr style=\"text-align: right;\">\n",
       "      <th></th>\n",
       "      <th>sub_region_desc</th>\n",
       "      <th>region</th>\n",
       "      <th>area</th>\n",
       "      <th>palmitic</th>\n",
       "      <th>palmitoleic</th>\n",
       "      <th>stearic</th>\n",
       "      <th>oleic</th>\n",
       "      <th>linoleic</th>\n",
       "      <th>linolenic</th>\n",
       "      <th>arachidic</th>\n",
       "      <th>eicosenoic</th>\n",
       "      <th>sub_region_desc_raw</th>\n",
       "      <th>sub_region_desc1</th>\n",
       "      <th>sub_region_desc2</th>\n",
       "    </tr>\n",
       "  </thead>\n",
       "  <tbody>\n",
       "    <tr>\n",
       "      <th>0</th>\n",
       "      <td>1.North-Apulia</td>\n",
       "      <td>1</td>\n",
       "      <td>1</td>\n",
       "      <td>1075</td>\n",
       "      <td>75</td>\n",
       "      <td>226</td>\n",
       "      <td>7823</td>\n",
       "      <td>672</td>\n",
       "      <td>36</td>\n",
       "      <td>60</td>\n",
       "      <td>29</td>\n",
       "      <td>1.North-Apulia</td>\n",
       "      <td>North-Apulia</td>\n",
       "      <td>North-Apulia</td>\n",
       "    </tr>\n",
       "    <tr>\n",
       "      <th>1</th>\n",
       "      <td>2.North-Apulia</td>\n",
       "      <td>1</td>\n",
       "      <td>1</td>\n",
       "      <td>1088</td>\n",
       "      <td>73</td>\n",
       "      <td>224</td>\n",
       "      <td>7709</td>\n",
       "      <td>781</td>\n",
       "      <td>31</td>\n",
       "      <td>61</td>\n",
       "      <td>29</td>\n",
       "      <td>2.North-Apulia</td>\n",
       "      <td>North-Apulia</td>\n",
       "      <td>North-Apulia</td>\n",
       "    </tr>\n",
       "    <tr>\n",
       "      <th>2</th>\n",
       "      <td>3.North-Apulia</td>\n",
       "      <td>1</td>\n",
       "      <td>1</td>\n",
       "      <td>911</td>\n",
       "      <td>54</td>\n",
       "      <td>246</td>\n",
       "      <td>8113</td>\n",
       "      <td>549</td>\n",
       "      <td>31</td>\n",
       "      <td>63</td>\n",
       "      <td>29</td>\n",
       "      <td>3.North-Apulia</td>\n",
       "      <td>North-Apulia</td>\n",
       "      <td>North-Apulia</td>\n",
       "    </tr>\n",
       "    <tr>\n",
       "      <th>3</th>\n",
       "      <td>4.North-Apulia</td>\n",
       "      <td>1</td>\n",
       "      <td>1</td>\n",
       "      <td>966</td>\n",
       "      <td>57</td>\n",
       "      <td>240</td>\n",
       "      <td>7952</td>\n",
       "      <td>619</td>\n",
       "      <td>50</td>\n",
       "      <td>78</td>\n",
       "      <td>35</td>\n",
       "      <td>4.North-Apulia</td>\n",
       "      <td>North-Apulia</td>\n",
       "      <td>North-Apulia</td>\n",
       "    </tr>\n",
       "    <tr>\n",
       "      <th>4</th>\n",
       "      <td>5.North-Apulia</td>\n",
       "      <td>1</td>\n",
       "      <td>1</td>\n",
       "      <td>1051</td>\n",
       "      <td>67</td>\n",
       "      <td>259</td>\n",
       "      <td>7771</td>\n",
       "      <td>672</td>\n",
       "      <td>50</td>\n",
       "      <td>80</td>\n",
       "      <td>46</td>\n",
       "      <td>5.North-Apulia</td>\n",
       "      <td>North-Apulia</td>\n",
       "      <td>North-Apulia</td>\n",
       "    </tr>\n",
       "  </tbody>\n",
       "</table>\n",
       "</div>"
      ],
      "text/plain": [
       "  sub_region_desc  region  area  palmitic  palmitoleic  stearic  oleic  \\\n",
       "0  1.North-Apulia       1     1      1075           75      226   7823   \n",
       "1  2.North-Apulia       1     1      1088           73      224   7709   \n",
       "2  3.North-Apulia       1     1       911           54      246   8113   \n",
       "3  4.North-Apulia       1     1       966           57      240   7952   \n",
       "4  5.North-Apulia       1     1      1051           67      259   7771   \n",
       "\n",
       "   linoleic  linolenic  arachidic  eicosenoic sub_region_desc_raw  \\\n",
       "0       672         36         60          29      1.North-Apulia   \n",
       "1       781         31         61          29      2.North-Apulia   \n",
       "2       549         31         63          29      3.North-Apulia   \n",
       "3       619         50         78          35      4.North-Apulia   \n",
       "4       672         50         80          46      5.North-Apulia   \n",
       "\n",
       "  sub_region_desc1 sub_region_desc2  \n",
       "0     North-Apulia     North-Apulia  \n",
       "1     North-Apulia     North-Apulia  \n",
       "2     North-Apulia     North-Apulia  \n",
       "3     North-Apulia     North-Apulia  \n",
       "4     North-Apulia     North-Apulia  "
      ]
     },
     "execution_count": 95,
     "metadata": {},
     "output_type": "execute_result"
    }
   ],
   "source": [
    "df.head()"
   ]
  },
  {
   "cell_type": "code",
   "execution_count": 96,
   "metadata": {},
   "outputs": [
    {
     "data": {
      "text/html": [
       "<div>\n",
       "<style scoped>\n",
       "    .dataframe tbody tr th:only-of-type {\n",
       "        vertical-align: middle;\n",
       "    }\n",
       "\n",
       "    .dataframe tbody tr th {\n",
       "        vertical-align: top;\n",
       "    }\n",
       "\n",
       "    .dataframe thead th {\n",
       "        text-align: right;\n",
       "    }\n",
       "</style>\n",
       "<table border=\"1\" class=\"dataframe\">\n",
       "  <thead>\n",
       "    <tr style=\"text-align: right;\">\n",
       "      <th></th>\n",
       "      <th>sub_region_desc</th>\n",
       "      <th>region</th>\n",
       "      <th>area</th>\n",
       "      <th>palmitic</th>\n",
       "      <th>palmitoleic</th>\n",
       "      <th>stearic</th>\n",
       "      <th>oleic</th>\n",
       "      <th>linoleic</th>\n",
       "      <th>linolenic</th>\n",
       "      <th>arachidic</th>\n",
       "      <th>eicosenoic</th>\n",
       "    </tr>\n",
       "  </thead>\n",
       "  <tbody>\n",
       "    <tr>\n",
       "      <th>0</th>\n",
       "      <td>1.North-Apulia</td>\n",
       "      <td>1</td>\n",
       "      <td>1</td>\n",
       "      <td>1075</td>\n",
       "      <td>75</td>\n",
       "      <td>226</td>\n",
       "      <td>7823</td>\n",
       "      <td>672</td>\n",
       "      <td>36</td>\n",
       "      <td>60</td>\n",
       "      <td>29</td>\n",
       "    </tr>\n",
       "    <tr>\n",
       "      <th>1</th>\n",
       "      <td>2.North-Apulia</td>\n",
       "      <td>1</td>\n",
       "      <td>1</td>\n",
       "      <td>1088</td>\n",
       "      <td>73</td>\n",
       "      <td>224</td>\n",
       "      <td>7709</td>\n",
       "      <td>781</td>\n",
       "      <td>31</td>\n",
       "      <td>61</td>\n",
       "      <td>29</td>\n",
       "    </tr>\n",
       "    <tr>\n",
       "      <th>2</th>\n",
       "      <td>3.North-Apulia</td>\n",
       "      <td>1</td>\n",
       "      <td>1</td>\n",
       "      <td>911</td>\n",
       "      <td>54</td>\n",
       "      <td>246</td>\n",
       "      <td>8113</td>\n",
       "      <td>549</td>\n",
       "      <td>31</td>\n",
       "      <td>63</td>\n",
       "      <td>29</td>\n",
       "    </tr>\n",
       "    <tr>\n",
       "      <th>3</th>\n",
       "      <td>4.North-Apulia</td>\n",
       "      <td>1</td>\n",
       "      <td>1</td>\n",
       "      <td>966</td>\n",
       "      <td>57</td>\n",
       "      <td>240</td>\n",
       "      <td>7952</td>\n",
       "      <td>619</td>\n",
       "      <td>50</td>\n",
       "      <td>78</td>\n",
       "      <td>35</td>\n",
       "    </tr>\n",
       "    <tr>\n",
       "      <th>4</th>\n",
       "      <td>5.North-Apulia</td>\n",
       "      <td>1</td>\n",
       "      <td>1</td>\n",
       "      <td>1051</td>\n",
       "      <td>67</td>\n",
       "      <td>259</td>\n",
       "      <td>7771</td>\n",
       "      <td>672</td>\n",
       "      <td>50</td>\n",
       "      <td>80</td>\n",
       "      <td>46</td>\n",
       "    </tr>\n",
       "  </tbody>\n",
       "</table>\n",
       "</div>"
      ],
      "text/plain": [
       "  sub_region_desc  region  area  palmitic  palmitoleic  stearic  oleic  \\\n",
       "0  1.North-Apulia       1     1      1075           75      226   7823   \n",
       "1  2.North-Apulia       1     1      1088           73      224   7709   \n",
       "2  3.North-Apulia       1     1       911           54      246   8113   \n",
       "3  4.North-Apulia       1     1       966           57      240   7952   \n",
       "4  5.North-Apulia       1     1      1051           67      259   7771   \n",
       "\n",
       "   linoleic  linolenic  arachidic  eicosenoic  \n",
       "0       672         36         60          29  \n",
       "1       781         31         61          29  \n",
       "2       549         31         63          29  \n",
       "3       619         50         78          35  \n",
       "4       672         50         80          46  "
      ]
     },
     "execution_count": 96,
     "metadata": {},
     "output_type": "execute_result"
    }
   ],
   "source": [
    "olive = df2 = pd.read_csv(os.path.join(DATA_DIR, infile2)).rename(\n",
    "    {\"Unnamed: 0\":\"sub_region_desc\"}, axis=1) #, inplace=True)\n",
    "olive.head()"
   ]
  },
  {
   "cell_type": "code",
   "execution_count": 97,
   "metadata": {},
   "outputs": [],
   "source": [
    "df = df2"
   ]
  },
  {
   "cell_type": "code",
   "execution_count": 102,
   "metadata": {
    "collapsed": true
   },
   "outputs": [
    {
     "data": {
      "text/html": [
       "<div>\n",
       "<style scoped>\n",
       "    .dataframe tbody tr th:only-of-type {\n",
       "        vertical-align: middle;\n",
       "    }\n",
       "\n",
       "    .dataframe tbody tr th {\n",
       "        vertical-align: top;\n",
       "    }\n",
       "\n",
       "    .dataframe thead th {\n",
       "        text-align: right;\n",
       "    }\n",
       "</style>\n",
       "<table border=\"1\" class=\"dataframe\">\n",
       "  <thead>\n",
       "    <tr style=\"text-align: right;\">\n",
       "      <th></th>\n",
       "      <th>0</th>\n",
       "    </tr>\n",
       "  </thead>\n",
       "  <tbody>\n",
       "    <tr>\n",
       "      <th>0</th>\n",
       "      <td>North-Apulia</td>\n",
       "    </tr>\n",
       "    <tr>\n",
       "      <th>1</th>\n",
       "      <td>North-Apulia</td>\n",
       "    </tr>\n",
       "    <tr>\n",
       "      <th>2</th>\n",
       "      <td>North-Apulia</td>\n",
       "    </tr>\n",
       "    <tr>\n",
       "      <th>3</th>\n",
       "      <td>North-Apulia</td>\n",
       "    </tr>\n",
       "    <tr>\n",
       "      <th>4</th>\n",
       "      <td>North-Apulia</td>\n",
       "    </tr>\n",
       "    <tr>\n",
       "      <th>5</th>\n",
       "      <td>North-Apulia</td>\n",
       "    </tr>\n",
       "    <tr>\n",
       "      <th>6</th>\n",
       "      <td>North-Apulia</td>\n",
       "    </tr>\n",
       "    <tr>\n",
       "      <th>7</th>\n",
       "      <td>North-Apulia</td>\n",
       "    </tr>\n",
       "    <tr>\n",
       "      <th>8</th>\n",
       "      <td>North-Apulia</td>\n",
       "    </tr>\n",
       "    <tr>\n",
       "      <th>9</th>\n",
       "      <td>North-Apulia</td>\n",
       "    </tr>\n",
       "    <tr>\n",
       "      <th>10</th>\n",
       "      <td>North-Apulia</td>\n",
       "    </tr>\n",
       "    <tr>\n",
       "      <th>11</th>\n",
       "      <td>North-Apulia</td>\n",
       "    </tr>\n",
       "    <tr>\n",
       "      <th>...</th>\n",
       "      <td>...</td>\n",
       "    </tr>\n",
       "    <tr>\n",
       "      <th>560</th>\n",
       "      <td>West-Liguria</td>\n",
       "    </tr>\n",
       "    <tr>\n",
       "      <th>561</th>\n",
       "      <td>West-Liguria</td>\n",
       "    </tr>\n",
       "    <tr>\n",
       "      <th>562</th>\n",
       "      <td>West-Liguria</td>\n",
       "    </tr>\n",
       "    <tr>\n",
       "      <th>563</th>\n",
       "      <td>West-Liguria</td>\n",
       "    </tr>\n",
       "    <tr>\n",
       "      <th>564</th>\n",
       "      <td>West-Liguria</td>\n",
       "    </tr>\n",
       "    <tr>\n",
       "      <th>565</th>\n",
       "      <td>West-Liguria</td>\n",
       "    </tr>\n",
       "    <tr>\n",
       "      <th>566</th>\n",
       "      <td>West-Liguria</td>\n",
       "    </tr>\n",
       "    <tr>\n",
       "      <th>567</th>\n",
       "      <td>West-Liguria</td>\n",
       "    </tr>\n",
       "    <tr>\n",
       "      <th>568</th>\n",
       "      <td>West-Liguria</td>\n",
       "    </tr>\n",
       "    <tr>\n",
       "      <th>569</th>\n",
       "      <td>West-Liguria</td>\n",
       "    </tr>\n",
       "    <tr>\n",
       "      <th>570</th>\n",
       "      <td>West-Liguria</td>\n",
       "    </tr>\n",
       "    <tr>\n",
       "      <th>571</th>\n",
       "      <td>West-Liguria</td>\n",
       "    </tr>\n",
       "  </tbody>\n",
       "</table>\n",
       "<p>572 rows × 1 columns</p>\n",
       "</div>"
      ],
      "text/plain": [
       "                0\n",
       "0    North-Apulia\n",
       "1    North-Apulia\n",
       "2    North-Apulia\n",
       "3    North-Apulia\n",
       "4    North-Apulia\n",
       "5    North-Apulia\n",
       "6    North-Apulia\n",
       "7    North-Apulia\n",
       "8    North-Apulia\n",
       "9    North-Apulia\n",
       "10   North-Apulia\n",
       "11   North-Apulia\n",
       "..            ...\n",
       "560  West-Liguria\n",
       "561  West-Liguria\n",
       "562  West-Liguria\n",
       "563  West-Liguria\n",
       "564  West-Liguria\n",
       "565  West-Liguria\n",
       "566  West-Liguria\n",
       "567  West-Liguria\n",
       "568  West-Liguria\n",
       "569  West-Liguria\n",
       "570  West-Liguria\n",
       "571  West-Liguria\n",
       "\n",
       "[572 rows x 1 columns]"
      ]
     },
     "execution_count": 102,
     "metadata": {},
     "output_type": "execute_result"
    }
   ],
   "source": [
    "# df['sub_region_desc2'] = \n",
    "df.sub_region_desc.str.extract(pat=r'([A-Za-z\\-]+)', expand=True) #[0]#.values[0]"
   ]
  },
  {
   "cell_type": "code",
   "execution_count": 100,
   "metadata": {},
   "outputs": [
    {
     "data": {
      "text/html": [
       "<div>\n",
       "<style scoped>\n",
       "    .dataframe tbody tr th:only-of-type {\n",
       "        vertical-align: middle;\n",
       "    }\n",
       "\n",
       "    .dataframe tbody tr th {\n",
       "        vertical-align: top;\n",
       "    }\n",
       "\n",
       "    .dataframe thead th {\n",
       "        text-align: right;\n",
       "    }\n",
       "</style>\n",
       "<table border=\"1\" class=\"dataframe\">\n",
       "  <thead>\n",
       "    <tr style=\"text-align: right;\">\n",
       "      <th></th>\n",
       "      <th>sub_region_desc</th>\n",
       "      <th>region</th>\n",
       "      <th>area</th>\n",
       "      <th>palmitic</th>\n",
       "      <th>palmitoleic</th>\n",
       "      <th>stearic</th>\n",
       "      <th>oleic</th>\n",
       "      <th>linoleic</th>\n",
       "      <th>linolenic</th>\n",
       "      <th>arachidic</th>\n",
       "      <th>eicosenoic</th>\n",
       "    </tr>\n",
       "  </thead>\n",
       "  <tbody>\n",
       "    <tr>\n",
       "      <th>0</th>\n",
       "      <td>1.North-Apulia</td>\n",
       "      <td>1</td>\n",
       "      <td>1</td>\n",
       "      <td>1075</td>\n",
       "      <td>75</td>\n",
       "      <td>226</td>\n",
       "      <td>7823</td>\n",
       "      <td>672</td>\n",
       "      <td>36</td>\n",
       "      <td>60</td>\n",
       "      <td>29</td>\n",
       "    </tr>\n",
       "    <tr>\n",
       "      <th>1</th>\n",
       "      <td>2.North-Apulia</td>\n",
       "      <td>1</td>\n",
       "      <td>1</td>\n",
       "      <td>1088</td>\n",
       "      <td>73</td>\n",
       "      <td>224</td>\n",
       "      <td>7709</td>\n",
       "      <td>781</td>\n",
       "      <td>31</td>\n",
       "      <td>61</td>\n",
       "      <td>29</td>\n",
       "    </tr>\n",
       "    <tr>\n",
       "      <th>2</th>\n",
       "      <td>3.North-Apulia</td>\n",
       "      <td>1</td>\n",
       "      <td>1</td>\n",
       "      <td>911</td>\n",
       "      <td>54</td>\n",
       "      <td>246</td>\n",
       "      <td>8113</td>\n",
       "      <td>549</td>\n",
       "      <td>31</td>\n",
       "      <td>63</td>\n",
       "      <td>29</td>\n",
       "    </tr>\n",
       "    <tr>\n",
       "      <th>3</th>\n",
       "      <td>4.North-Apulia</td>\n",
       "      <td>1</td>\n",
       "      <td>1</td>\n",
       "      <td>966</td>\n",
       "      <td>57</td>\n",
       "      <td>240</td>\n",
       "      <td>7952</td>\n",
       "      <td>619</td>\n",
       "      <td>50</td>\n",
       "      <td>78</td>\n",
       "      <td>35</td>\n",
       "    </tr>\n",
       "    <tr>\n",
       "      <th>4</th>\n",
       "      <td>5.North-Apulia</td>\n",
       "      <td>1</td>\n",
       "      <td>1</td>\n",
       "      <td>1051</td>\n",
       "      <td>67</td>\n",
       "      <td>259</td>\n",
       "      <td>7771</td>\n",
       "      <td>672</td>\n",
       "      <td>50</td>\n",
       "      <td>80</td>\n",
       "      <td>46</td>\n",
       "    </tr>\n",
       "  </tbody>\n",
       "</table>\n",
       "</div>"
      ],
      "text/plain": [
       "  sub_region_desc  region  area  palmitic  palmitoleic  stearic  oleic  \\\n",
       "0  1.North-Apulia       1     1      1075           75      226   7823   \n",
       "1  2.North-Apulia       1     1      1088           73      224   7709   \n",
       "2  3.North-Apulia       1     1       911           54      246   8113   \n",
       "3  4.North-Apulia       1     1       966           57      240   7952   \n",
       "4  5.North-Apulia       1     1      1051           67      259   7771   \n",
       "\n",
       "   linoleic  linolenic  arachidic  eicosenoic  \n",
       "0       672         36         60          29  \n",
       "1       781         31         61          29  \n",
       "2       549         31         63          29  \n",
       "3       619         50         78          35  \n",
       "4       672         50         80          46  "
      ]
     },
     "execution_count": 100,
     "metadata": {},
     "output_type": "execute_result"
    }
   ],
   "source": [
    "df.head()"
   ]
  },
  {
   "cell_type": "markdown",
   "metadata": {},
   "source": [
    "#### - BELOW: `AttributeError` --> the extract function is a **string** method that can be applied to the column; `df.col.str.extract()`"
   ]
  },
  {
   "cell_type": "code",
   "execution_count": 108,
   "metadata": {},
   "outputs": [
    {
     "ename": "AttributeError",
     "evalue": "'Series' object has no attribute 'extract'",
     "output_type": "error",
     "traceback": [
      "\u001b[0;31m---------------------------------------------------------------------------\u001b[0m",
      "\u001b[0;31mAttributeError\u001b[0m                            Traceback (most recent call last)",
      "\u001b[0;32m<ipython-input-108-eb9406cf4094>\u001b[0m in \u001b[0;36m<module>\u001b[0;34m()\u001b[0m\n\u001b[0;32m----> 1\u001b[0;31m df['sub_region_desc'] = df.sub_region_desc.extract(pat=r'.*?([A-Za-z\\-]+).*?',\n\u001b[0m\u001b[1;32m      2\u001b[0m                                                   \u001b[0mflags\u001b[0m\u001b[0;34m=\u001b[0m\u001b[0mre\u001b[0m\u001b[0;34m.\u001b[0m\u001b[0mI\u001b[0m\u001b[0;34m,\u001b[0m\u001b[0;34m\u001b[0m\u001b[0m\n\u001b[1;32m      3\u001b[0m                                                   expand=True)\n",
      "\u001b[0;32m~/.virtualenvs/metis-IwMQzmtF/lib/python3.6/site-packages/pandas/core/generic.py\u001b[0m in \u001b[0;36m__getattr__\u001b[0;34m(self, name)\u001b[0m\n\u001b[1;32m   3612\u001b[0m             \u001b[0;32mif\u001b[0m \u001b[0mname\u001b[0m \u001b[0;32min\u001b[0m \u001b[0mself\u001b[0m\u001b[0;34m.\u001b[0m\u001b[0m_info_axis\u001b[0m\u001b[0;34m:\u001b[0m\u001b[0;34m\u001b[0m\u001b[0m\n\u001b[1;32m   3613\u001b[0m                 \u001b[0;32mreturn\u001b[0m \u001b[0mself\u001b[0m\u001b[0;34m[\u001b[0m\u001b[0mname\u001b[0m\u001b[0;34m]\u001b[0m\u001b[0;34m\u001b[0m\u001b[0m\n\u001b[0;32m-> 3614\u001b[0;31m             \u001b[0;32mreturn\u001b[0m \u001b[0mobject\u001b[0m\u001b[0;34m.\u001b[0m\u001b[0m__getattribute__\u001b[0m\u001b[0;34m(\u001b[0m\u001b[0mself\u001b[0m\u001b[0;34m,\u001b[0m \u001b[0mname\u001b[0m\u001b[0;34m)\u001b[0m\u001b[0;34m\u001b[0m\u001b[0m\n\u001b[0m\u001b[1;32m   3615\u001b[0m \u001b[0;34m\u001b[0m\u001b[0m\n\u001b[1;32m   3616\u001b[0m     \u001b[0;32mdef\u001b[0m \u001b[0m__setattr__\u001b[0m\u001b[0;34m(\u001b[0m\u001b[0mself\u001b[0m\u001b[0;34m,\u001b[0m \u001b[0mname\u001b[0m\u001b[0;34m,\u001b[0m \u001b[0mvalue\u001b[0m\u001b[0;34m)\u001b[0m\u001b[0;34m:\u001b[0m\u001b[0;34m\u001b[0m\u001b[0m\n",
      "\u001b[0;31mAttributeError\u001b[0m: 'Series' object has no attribute 'extract'"
     ]
    }
   ],
   "source": [
    "df['sub_region_desc'] = df.sub_region_desc.extract(pat=r'.*?([A-Za-z\\-]+).*?',\n",
    "                                                  flags=re.I,\n",
    "                                                  expand=True)"
   ]
  },
  {
   "cell_type": "markdown",
   "metadata": {},
   "source": [
    "#### - BELOW: `ValueError` if you try to pass a compiled pattern as the regex pattern (ie as value of named argument `pat`)"
   ]
  },
  {
   "cell_type": "code",
   "execution_count": 110,
   "metadata": {},
   "outputs": [
    {
     "ename": "ValueError",
     "evalue": "cannot process flags argument with a compiled pattern",
     "output_type": "error",
     "traceback": [
      "\u001b[0;31m---------------------------------------------------------------------------\u001b[0m",
      "\u001b[0;31mValueError\u001b[0m                                Traceback (most recent call last)",
      "\u001b[0;32m<ipython-input-110-dc76e79550ad>\u001b[0m in \u001b[0;36m<module>\u001b[0;34m()\u001b[0m\n\u001b[1;32m      1\u001b[0m \u001b[0mpat\u001b[0m\u001b[0;34m=\u001b[0m \u001b[0mre\u001b[0m\u001b[0;34m.\u001b[0m\u001b[0mcompile\u001b[0m\u001b[0;34m(\u001b[0m\u001b[0;34mr'.*?([A-Za-z\\-]+).*?'\u001b[0m\u001b[0;34m)\u001b[0m\u001b[0;34m\u001b[0m\u001b[0m\n\u001b[1;32m      2\u001b[0m \u001b[0;34m\u001b[0m\u001b[0m\n\u001b[0;32m----> 3\u001b[0;31m \u001b[0mdf\u001b[0m\u001b[0;34m.\u001b[0m\u001b[0msub_region_desc\u001b[0m\u001b[0;34m.\u001b[0m\u001b[0mstr\u001b[0m\u001b[0;34m.\u001b[0m\u001b[0mextract\u001b[0m\u001b[0;34m(\u001b[0m\u001b[0mpat\u001b[0m\u001b[0;34m=\u001b[0m\u001b[0mpat\u001b[0m\u001b[0;34m,\u001b[0m \u001b[0mflags\u001b[0m\u001b[0;34m=\u001b[0m\u001b[0mre\u001b[0m\u001b[0;34m.\u001b[0m\u001b[0mI\u001b[0m\u001b[0;34m,\u001b[0m \u001b[0mexpand\u001b[0m\u001b[0;34m=\u001b[0m\u001b[0;32mTrue\u001b[0m\u001b[0;34m)\u001b[0m\u001b[0;34m\u001b[0m\u001b[0m\n\u001b[0m",
      "\u001b[0;32m~/.virtualenvs/metis-IwMQzmtF/lib/python3.6/site-packages/pandas/core/strings.py\u001b[0m in \u001b[0;36mextract\u001b[0;34m(self, pat, flags, expand)\u001b[0m\n\u001b[1;32m   1711\u001b[0m     \u001b[0;34m@\u001b[0m\u001b[0mcopy\u001b[0m\u001b[0;34m(\u001b[0m\u001b[0mstr_extract\u001b[0m\u001b[0;34m)\u001b[0m\u001b[0;34m\u001b[0m\u001b[0m\n\u001b[1;32m   1712\u001b[0m     \u001b[0;32mdef\u001b[0m \u001b[0mextract\u001b[0m\u001b[0;34m(\u001b[0m\u001b[0mself\u001b[0m\u001b[0;34m,\u001b[0m \u001b[0mpat\u001b[0m\u001b[0;34m,\u001b[0m \u001b[0mflags\u001b[0m\u001b[0;34m=\u001b[0m\u001b[0;36m0\u001b[0m\u001b[0;34m,\u001b[0m \u001b[0mexpand\u001b[0m\u001b[0;34m=\u001b[0m\u001b[0;32mNone\u001b[0m\u001b[0;34m)\u001b[0m\u001b[0;34m:\u001b[0m\u001b[0;34m\u001b[0m\u001b[0m\n\u001b[0;32m-> 1713\u001b[0;31m         \u001b[0;32mreturn\u001b[0m \u001b[0mstr_extract\u001b[0m\u001b[0;34m(\u001b[0m\u001b[0mself\u001b[0m\u001b[0;34m,\u001b[0m \u001b[0mpat\u001b[0m\u001b[0;34m,\u001b[0m \u001b[0mflags\u001b[0m\u001b[0;34m=\u001b[0m\u001b[0mflags\u001b[0m\u001b[0;34m,\u001b[0m \u001b[0mexpand\u001b[0m\u001b[0;34m=\u001b[0m\u001b[0mexpand\u001b[0m\u001b[0;34m)\u001b[0m\u001b[0;34m\u001b[0m\u001b[0m\n\u001b[0m\u001b[1;32m   1714\u001b[0m \u001b[0;34m\u001b[0m\u001b[0m\n\u001b[1;32m   1715\u001b[0m     \u001b[0;34m@\u001b[0m\u001b[0mcopy\u001b[0m\u001b[0;34m(\u001b[0m\u001b[0mstr_extractall\u001b[0m\u001b[0;34m)\u001b[0m\u001b[0;34m\u001b[0m\u001b[0m\n",
      "\u001b[0;32m~/.virtualenvs/metis-IwMQzmtF/lib/python3.6/site-packages/pandas/core/strings.py\u001b[0m in \u001b[0;36mstr_extract\u001b[0;34m(arr, pat, flags, expand)\u001b[0m\n\u001b[1;32m    688\u001b[0m         \u001b[0;32mraise\u001b[0m \u001b[0mValueError\u001b[0m\u001b[0;34m(\u001b[0m\u001b[0;34m\"expand must be True or False\"\u001b[0m\u001b[0;34m)\u001b[0m\u001b[0;34m\u001b[0m\u001b[0m\n\u001b[1;32m    689\u001b[0m     \u001b[0;32mif\u001b[0m \u001b[0mexpand\u001b[0m\u001b[0;34m:\u001b[0m\u001b[0;34m\u001b[0m\u001b[0m\n\u001b[0;32m--> 690\u001b[0;31m         \u001b[0;32mreturn\u001b[0m \u001b[0m_str_extract_frame\u001b[0m\u001b[0;34m(\u001b[0m\u001b[0marr\u001b[0m\u001b[0;34m.\u001b[0m\u001b[0m_orig\u001b[0m\u001b[0;34m,\u001b[0m \u001b[0mpat\u001b[0m\u001b[0;34m,\u001b[0m \u001b[0mflags\u001b[0m\u001b[0;34m=\u001b[0m\u001b[0mflags\u001b[0m\u001b[0;34m)\u001b[0m\u001b[0;34m\u001b[0m\u001b[0m\n\u001b[0m\u001b[1;32m    691\u001b[0m     \u001b[0;32melse\u001b[0m\u001b[0;34m:\u001b[0m\u001b[0;34m\u001b[0m\u001b[0m\n\u001b[1;32m    692\u001b[0m         \u001b[0mresult\u001b[0m\u001b[0;34m,\u001b[0m \u001b[0mname\u001b[0m \u001b[0;34m=\u001b[0m \u001b[0m_str_extract_noexpand\u001b[0m\u001b[0;34m(\u001b[0m\u001b[0marr\u001b[0m\u001b[0;34m.\u001b[0m\u001b[0m_data\u001b[0m\u001b[0;34m,\u001b[0m \u001b[0mpat\u001b[0m\u001b[0;34m,\u001b[0m \u001b[0mflags\u001b[0m\u001b[0;34m=\u001b[0m\u001b[0mflags\u001b[0m\u001b[0;34m)\u001b[0m\u001b[0;34m\u001b[0m\u001b[0m\n",
      "\u001b[0;32m~/.virtualenvs/metis-IwMQzmtF/lib/python3.6/site-packages/pandas/core/strings.py\u001b[0m in \u001b[0;36m_str_extract_frame\u001b[0;34m(arr, pat, flags)\u001b[0m\n\u001b[1;32m    580\u001b[0m     \u001b[0;32mfrom\u001b[0m \u001b[0mpandas\u001b[0m \u001b[0;32mimport\u001b[0m \u001b[0mDataFrame\u001b[0m\u001b[0;34m\u001b[0m\u001b[0m\n\u001b[1;32m    581\u001b[0m \u001b[0;34m\u001b[0m\u001b[0m\n\u001b[0;32m--> 582\u001b[0;31m     \u001b[0mregex\u001b[0m \u001b[0;34m=\u001b[0m \u001b[0mre\u001b[0m\u001b[0;34m.\u001b[0m\u001b[0mcompile\u001b[0m\u001b[0;34m(\u001b[0m\u001b[0mpat\u001b[0m\u001b[0;34m,\u001b[0m \u001b[0mflags\u001b[0m\u001b[0;34m=\u001b[0m\u001b[0mflags\u001b[0m\u001b[0;34m)\u001b[0m\u001b[0;34m\u001b[0m\u001b[0m\n\u001b[0m\u001b[1;32m    583\u001b[0m     \u001b[0mgroups_or_na\u001b[0m \u001b[0;34m=\u001b[0m \u001b[0m_groups_or_na_fun\u001b[0m\u001b[0;34m(\u001b[0m\u001b[0mregex\u001b[0m\u001b[0;34m)\u001b[0m\u001b[0;34m\u001b[0m\u001b[0m\n\u001b[1;32m    584\u001b[0m     \u001b[0mnames\u001b[0m \u001b[0;34m=\u001b[0m \u001b[0mdict\u001b[0m\u001b[0;34m(\u001b[0m\u001b[0mzip\u001b[0m\u001b[0;34m(\u001b[0m\u001b[0mregex\u001b[0m\u001b[0;34m.\u001b[0m\u001b[0mgroupindex\u001b[0m\u001b[0;34m.\u001b[0m\u001b[0mvalues\u001b[0m\u001b[0;34m(\u001b[0m\u001b[0;34m)\u001b[0m\u001b[0;34m,\u001b[0m \u001b[0mregex\u001b[0m\u001b[0;34m.\u001b[0m\u001b[0mgroupindex\u001b[0m\u001b[0;34m.\u001b[0m\u001b[0mkeys\u001b[0m\u001b[0;34m(\u001b[0m\u001b[0;34m)\u001b[0m\u001b[0;34m)\u001b[0m\u001b[0;34m)\u001b[0m\u001b[0;34m\u001b[0m\u001b[0m\n",
      "\u001b[0;32m~/.virtualenvs/metis-IwMQzmtF/lib/python3.6/re.py\u001b[0m in \u001b[0;36mcompile\u001b[0;34m(pattern, flags)\u001b[0m\n\u001b[1;32m    231\u001b[0m \u001b[0;32mdef\u001b[0m \u001b[0mcompile\u001b[0m\u001b[0;34m(\u001b[0m\u001b[0mpattern\u001b[0m\u001b[0;34m,\u001b[0m \u001b[0mflags\u001b[0m\u001b[0;34m=\u001b[0m\u001b[0;36m0\u001b[0m\u001b[0;34m)\u001b[0m\u001b[0;34m:\u001b[0m\u001b[0;34m\u001b[0m\u001b[0m\n\u001b[1;32m    232\u001b[0m     \u001b[0;34m\"Compile a regular expression pattern, returning a pattern object.\"\u001b[0m\u001b[0;34m\u001b[0m\u001b[0m\n\u001b[0;32m--> 233\u001b[0;31m     \u001b[0;32mreturn\u001b[0m \u001b[0m_compile\u001b[0m\u001b[0;34m(\u001b[0m\u001b[0mpattern\u001b[0m\u001b[0;34m,\u001b[0m \u001b[0mflags\u001b[0m\u001b[0;34m)\u001b[0m\u001b[0;34m\u001b[0m\u001b[0m\n\u001b[0m\u001b[1;32m    234\u001b[0m \u001b[0;34m\u001b[0m\u001b[0m\n\u001b[1;32m    235\u001b[0m \u001b[0;32mdef\u001b[0m \u001b[0mpurge\u001b[0m\u001b[0;34m(\u001b[0m\u001b[0;34m)\u001b[0m\u001b[0;34m:\u001b[0m\u001b[0;34m\u001b[0m\u001b[0m\n",
      "\u001b[0;32m~/.virtualenvs/metis-IwMQzmtF/lib/python3.6/re.py\u001b[0m in \u001b[0;36m_compile\u001b[0;34m(pattern, flags)\u001b[0m\n\u001b[1;32m    295\u001b[0m         \u001b[0;32mif\u001b[0m \u001b[0mflags\u001b[0m\u001b[0;34m:\u001b[0m\u001b[0;34m\u001b[0m\u001b[0m\n\u001b[1;32m    296\u001b[0m             raise ValueError(\n\u001b[0;32m--> 297\u001b[0;31m                 \"cannot process flags argument with a compiled pattern\")\n\u001b[0m\u001b[1;32m    298\u001b[0m         \u001b[0;32mreturn\u001b[0m \u001b[0mpattern\u001b[0m\u001b[0;34m\u001b[0m\u001b[0m\n\u001b[1;32m    299\u001b[0m     \u001b[0;32mif\u001b[0m \u001b[0;32mnot\u001b[0m \u001b[0msre_compile\u001b[0m\u001b[0;34m.\u001b[0m\u001b[0misstring\u001b[0m\u001b[0;34m(\u001b[0m\u001b[0mpattern\u001b[0m\u001b[0;34m)\u001b[0m\u001b[0;34m:\u001b[0m\u001b[0;34m\u001b[0m\u001b[0m\n",
      "\u001b[0;31mValueError\u001b[0m: cannot process flags argument with a compiled pattern"
     ]
    }
   ],
   "source": [
    "pat= re.compile(r'.*?([A-Za-z\\-]+).*?')\n",
    "\n",
    "df.sub_region_desc.str.extract(pat=pat, flags=re.I, expand=True)"
   ]
  },
  {
   "cell_type": "markdown",
   "metadata": {},
   "source": [
    "## String modification using `.str.extract`\n",
    "- `df.column_name.str.extract(pat=r'', flags=0, expand=False)` \n",
    "- where pat is an uncompiled regular expression containing 1 or more capturing groups"
   ]
  },
  {
   "cell_type": "code",
   "execution_count": 112,
   "metadata": {},
   "outputs": [],
   "source": [
    "df['sub_region_desc'] = df.sub_region_desc.str.extract(pat=r'.*?([A-Za-z\\-]+).*?',\n",
    "                                                  flags=re.I,\n",
    "                                                  expand=True)"
   ]
  },
  {
   "cell_type": "code",
   "execution_count": 113,
   "metadata": {},
   "outputs": [
    {
     "data": {
      "text/html": [
       "<div>\n",
       "<style scoped>\n",
       "    .dataframe tbody tr th:only-of-type {\n",
       "        vertical-align: middle;\n",
       "    }\n",
       "\n",
       "    .dataframe tbody tr th {\n",
       "        vertical-align: top;\n",
       "    }\n",
       "\n",
       "    .dataframe thead th {\n",
       "        text-align: right;\n",
       "    }\n",
       "</style>\n",
       "<table border=\"1\" class=\"dataframe\">\n",
       "  <thead>\n",
       "    <tr style=\"text-align: right;\">\n",
       "      <th></th>\n",
       "      <th>sub_region_desc</th>\n",
       "      <th>region</th>\n",
       "      <th>area</th>\n",
       "      <th>palmitic</th>\n",
       "      <th>palmitoleic</th>\n",
       "      <th>stearic</th>\n",
       "      <th>oleic</th>\n",
       "      <th>linoleic</th>\n",
       "      <th>linolenic</th>\n",
       "      <th>arachidic</th>\n",
       "      <th>eicosenoic</th>\n",
       "    </tr>\n",
       "  </thead>\n",
       "  <tbody>\n",
       "    <tr>\n",
       "      <th>0</th>\n",
       "      <td>North-Apulia</td>\n",
       "      <td>1</td>\n",
       "      <td>1</td>\n",
       "      <td>1075</td>\n",
       "      <td>75</td>\n",
       "      <td>226</td>\n",
       "      <td>7823</td>\n",
       "      <td>672</td>\n",
       "      <td>36</td>\n",
       "      <td>60</td>\n",
       "      <td>29</td>\n",
       "    </tr>\n",
       "    <tr>\n",
       "      <th>1</th>\n",
       "      <td>North-Apulia</td>\n",
       "      <td>1</td>\n",
       "      <td>1</td>\n",
       "      <td>1088</td>\n",
       "      <td>73</td>\n",
       "      <td>224</td>\n",
       "      <td>7709</td>\n",
       "      <td>781</td>\n",
       "      <td>31</td>\n",
       "      <td>61</td>\n",
       "      <td>29</td>\n",
       "    </tr>\n",
       "    <tr>\n",
       "      <th>2</th>\n",
       "      <td>North-Apulia</td>\n",
       "      <td>1</td>\n",
       "      <td>1</td>\n",
       "      <td>911</td>\n",
       "      <td>54</td>\n",
       "      <td>246</td>\n",
       "      <td>8113</td>\n",
       "      <td>549</td>\n",
       "      <td>31</td>\n",
       "      <td>63</td>\n",
       "      <td>29</td>\n",
       "    </tr>\n",
       "    <tr>\n",
       "      <th>3</th>\n",
       "      <td>North-Apulia</td>\n",
       "      <td>1</td>\n",
       "      <td>1</td>\n",
       "      <td>966</td>\n",
       "      <td>57</td>\n",
       "      <td>240</td>\n",
       "      <td>7952</td>\n",
       "      <td>619</td>\n",
       "      <td>50</td>\n",
       "      <td>78</td>\n",
       "      <td>35</td>\n",
       "    </tr>\n",
       "    <tr>\n",
       "      <th>4</th>\n",
       "      <td>North-Apulia</td>\n",
       "      <td>1</td>\n",
       "      <td>1</td>\n",
       "      <td>1051</td>\n",
       "      <td>67</td>\n",
       "      <td>259</td>\n",
       "      <td>7771</td>\n",
       "      <td>672</td>\n",
       "      <td>50</td>\n",
       "      <td>80</td>\n",
       "      <td>46</td>\n",
       "    </tr>\n",
       "  </tbody>\n",
       "</table>\n",
       "</div>"
      ],
      "text/plain": [
       "  sub_region_desc  region  area  palmitic  palmitoleic  stearic  oleic  \\\n",
       "0    North-Apulia       1     1      1075           75      226   7823   \n",
       "1    North-Apulia       1     1      1088           73      224   7709   \n",
       "2    North-Apulia       1     1       911           54      246   8113   \n",
       "3    North-Apulia       1     1       966           57      240   7952   \n",
       "4    North-Apulia       1     1      1051           67      259   7771   \n",
       "\n",
       "   linoleic  linolenic  arachidic  eicosenoic  \n",
       "0       672         36         60          29  \n",
       "1       781         31         61          29  \n",
       "2       549         31         63          29  \n",
       "3       619         50         78          35  \n",
       "4       672         50         80          46  "
      ]
     },
     "execution_count": 113,
     "metadata": {},
     "output_type": "execute_result"
    }
   ],
   "source": [
    "df.head()"
   ]
  },
  {
   "cell_type": "markdown",
   "metadata": {},
   "source": [
    "# Start Olive"
   ]
  },
  {
   "cell_type": "code",
   "execution_count": 114,
   "metadata": {},
   "outputs": [],
   "source": [
    "olive = df2 = pd.read_csv(os.path.join(DATA_DIR,'olive.csv'))\n",
    "df = df2.copy()\n",
    "\n",
    "df.rename({'Unnamed: 0': 'sub_region_desc'}, axis=1, inplace=True)\n",
    "\n",
    "df['sub_region_desc'] = df.sub_region_desc.str.extract(pat=r'.*?([A-Za-z\\-]+).*?',\n",
    "                                                  flags=re.I,\n",
    "                                                  expand=True)"
   ]
  },
  {
   "cell_type": "code",
   "execution_count": 115,
   "metadata": {},
   "outputs": [
    {
     "data": {
      "text/html": [
       "<div>\n",
       "<style scoped>\n",
       "    .dataframe tbody tr th:only-of-type {\n",
       "        vertical-align: middle;\n",
       "    }\n",
       "\n",
       "    .dataframe tbody tr th {\n",
       "        vertical-align: top;\n",
       "    }\n",
       "\n",
       "    .dataframe thead th {\n",
       "        text-align: right;\n",
       "    }\n",
       "</style>\n",
       "<table border=\"1\" class=\"dataframe\">\n",
       "  <thead>\n",
       "    <tr style=\"text-align: right;\">\n",
       "      <th></th>\n",
       "      <th>sub_region_desc</th>\n",
       "      <th>region</th>\n",
       "      <th>area</th>\n",
       "      <th>palmitic</th>\n",
       "      <th>palmitoleic</th>\n",
       "      <th>stearic</th>\n",
       "      <th>oleic</th>\n",
       "      <th>linoleic</th>\n",
       "      <th>linolenic</th>\n",
       "      <th>arachidic</th>\n",
       "      <th>eicosenoic</th>\n",
       "    </tr>\n",
       "  </thead>\n",
       "  <tbody>\n",
       "    <tr>\n",
       "      <th>0</th>\n",
       "      <td>North-Apulia</td>\n",
       "      <td>1</td>\n",
       "      <td>1</td>\n",
       "      <td>1075</td>\n",
       "      <td>75</td>\n",
       "      <td>226</td>\n",
       "      <td>7823</td>\n",
       "      <td>672</td>\n",
       "      <td>36</td>\n",
       "      <td>60</td>\n",
       "      <td>29</td>\n",
       "    </tr>\n",
       "    <tr>\n",
       "      <th>1</th>\n",
       "      <td>North-Apulia</td>\n",
       "      <td>1</td>\n",
       "      <td>1</td>\n",
       "      <td>1088</td>\n",
       "      <td>73</td>\n",
       "      <td>224</td>\n",
       "      <td>7709</td>\n",
       "      <td>781</td>\n",
       "      <td>31</td>\n",
       "      <td>61</td>\n",
       "      <td>29</td>\n",
       "    </tr>\n",
       "    <tr>\n",
       "      <th>2</th>\n",
       "      <td>North-Apulia</td>\n",
       "      <td>1</td>\n",
       "      <td>1</td>\n",
       "      <td>911</td>\n",
       "      <td>54</td>\n",
       "      <td>246</td>\n",
       "      <td>8113</td>\n",
       "      <td>549</td>\n",
       "      <td>31</td>\n",
       "      <td>63</td>\n",
       "      <td>29</td>\n",
       "    </tr>\n",
       "    <tr>\n",
       "      <th>3</th>\n",
       "      <td>North-Apulia</td>\n",
       "      <td>1</td>\n",
       "      <td>1</td>\n",
       "      <td>966</td>\n",
       "      <td>57</td>\n",
       "      <td>240</td>\n",
       "      <td>7952</td>\n",
       "      <td>619</td>\n",
       "      <td>50</td>\n",
       "      <td>78</td>\n",
       "      <td>35</td>\n",
       "    </tr>\n",
       "    <tr>\n",
       "      <th>4</th>\n",
       "      <td>North-Apulia</td>\n",
       "      <td>1</td>\n",
       "      <td>1</td>\n",
       "      <td>1051</td>\n",
       "      <td>67</td>\n",
       "      <td>259</td>\n",
       "      <td>7771</td>\n",
       "      <td>672</td>\n",
       "      <td>50</td>\n",
       "      <td>80</td>\n",
       "      <td>46</td>\n",
       "    </tr>\n",
       "  </tbody>\n",
       "</table>\n",
       "</div>"
      ],
      "text/plain": [
       "  sub_region_desc  region  area  palmitic  palmitoleic  stearic  oleic  \\\n",
       "0    North-Apulia       1     1      1075           75      226   7823   \n",
       "1    North-Apulia       1     1      1088           73      224   7709   \n",
       "2    North-Apulia       1     1       911           54      246   8113   \n",
       "3    North-Apulia       1     1       966           57      240   7952   \n",
       "4    North-Apulia       1     1      1051           67      259   7771   \n",
       "\n",
       "   linoleic  linolenic  arachidic  eicosenoic  \n",
       "0       672         36         60          29  \n",
       "1       781         31         61          29  \n",
       "2       549         31         63          29  \n",
       "3       619         50         78          35  \n",
       "4       672         50         80          46  "
      ]
     },
     "execution_count": 115,
     "metadata": {},
     "output_type": "execute_result"
    }
   ],
   "source": [
    "df.head()"
   ]
  },
  {
   "cell_type": "code",
   "execution_count": 116,
   "metadata": {},
   "outputs": [
    {
     "name": "stdout",
     "output_type": "stream",
     "text": [
      "<class 'pandas.core.frame.DataFrame'>\n",
      "RangeIndex: 572 entries, 0 to 571\n",
      "Data columns (total 11 columns):\n",
      "sub_region_desc    572 non-null object\n",
      "region             572 non-null int64\n",
      "area               572 non-null int64\n",
      "palmitic           572 non-null int64\n",
      "palmitoleic        572 non-null int64\n",
      "stearic            572 non-null int64\n",
      "oleic              572 non-null int64\n",
      "linoleic           572 non-null int64\n",
      "linolenic          572 non-null int64\n",
      "arachidic          572 non-null int64\n",
      "eicosenoic         572 non-null int64\n",
      "dtypes: int64(10), object(1)\n",
      "memory usage: 49.2+ KB\n"
     ]
    }
   ],
   "source": [
    "df.info()"
   ]
  },
  {
   "cell_type": "markdown",
   "metadata": {},
   "source": [
    "## Q16:   Create a horizontal frequency barplot for 'region'"
   ]
  },
  {
   "cell_type": "code",
   "execution_count": 117,
   "metadata": {},
   "outputs": [
    {
     "data": {
      "image/png": "[encoded data removed]",
      "text/plain": [
       "<matplotlib.figure.Figure at 0x10a4b69b0>"
      ]
     },
     "metadata": {},
     "output_type": "display_data"
    }
   ],
   "source": [
    "fig = plt.figure(figsize=(12,8))\n",
    "\n",
    "df.groupby('region').count()['sub_region_desc'].plot(kind=\"barh\",\n",
    "                                                     fontsize=14,\n",
    "                                                     title=\"Number of Olive Samples by Region\")\n",
    "                                                     \n",
    "                                                                                                          \n",
    "plt.ylabel(\"Region\", fontsize=14)                                                     \n",
    "plt.xlabel(\"Count\", fontsize=14)\n",
    "plt.show()\n",
    "\n",
    "\n",
    "# ?? why can't I alter title size? plt.title does not work..."
   ]
  },
  {
   "cell_type": "markdown",
   "metadata": {},
   "source": [
    "### - countplot fix ?\n",
    "- q1: why is the Text from setting the title printed to the screen if pass x directly as `Text(0.5,1,'Number of olive oil samples by region')`; goes away if pass dataframe directly\n",
    "- q2: why is the `orient` argument not working?! --> need to assign values to 'y' not 'x'"
   ]
  },
  {
   "cell_type": "code",
   "execution_count": 118,
   "metadata": {},
   "outputs": [
    {
     "data": {
      "text/plain": [
       "Text(0.5,1,'Number of olive oil samples by region')"
      ]
     },
     "execution_count": 118,
     "metadata": {},
     "output_type": "execute_result"
    },
    {
     "data": {
      "image/png": "[encoded data removed]",
      "text/plain": [
       "<matplotlib.figure.Figure at 0x109f1bf60>"
      ]
     },
     "metadata": {},
     "output_type": "display_data"
    }
   ],
   "source": [
    "import seaborn as sns\n",
    "f, ax = plt.subplots(1,figsize=(6,4))\n",
    "g = sns.countplot(df.region, orient='h')        #.values makes no difference\n",
    "ax.set_title(\"Number of olive oil samples by region\", fontsize=18)\n",
    "# ax.legend('')\n",
    "# plt.plot()"
   ]
  },
  {
   "cell_type": "code",
   "execution_count": 119,
   "metadata": {},
   "outputs": [
    {
     "data": {
      "image/png": "[encoded data removed]",
      "text/plain": [
       "<matplotlib.figure.Figure at 0x10be25518>"
      ]
     },
     "metadata": {},
     "output_type": "display_data"
    }
   ],
   "source": [
    "f, ax = plt.subplots(1,figsize=(6,4))\n",
    "g = sns.countplot(y='region', data=df, orient=\"h\")\n",
    "# plt.title(\"Number of olive oil samples by region\", fontsize=18)\n",
    "ax.set_title(\"Number of olive oil samples by region\", fontsize=18)\n",
    "plt.show()"
   ]
  },
  {
   "cell_type": "code",
   "execution_count": 120,
   "metadata": {
    "collapsed": true
   },
   "outputs": [
    {
     "name": "stdout",
     "output_type": "stream",
     "text": [
      "Help on method set_title in module matplotlib.axes._axes:\n",
      "\n",
      "set_title(label, fontdict=None, loc='center', **kwargs) method of matplotlib.axes._subplots.AxesSubplot instance\n",
      "    Set a title for the axes.\n",
      "    \n",
      "    Set one of the three available axes titles. The available titles\n",
      "    are positioned above the axes in the center, flush with the left\n",
      "    edge, and flush with the right edge.\n",
      "    \n",
      "    Parameters\n",
      "    ----------\n",
      "    label : str\n",
      "        Text to use for the title\n",
      "    \n",
      "    fontdict : dict\n",
      "        A dictionary controlling the appearance of the title text,\n",
      "        the default `fontdict` is::\n",
      "    \n",
      "           {'fontsize': rcParams['axes.titlesize'],\n",
      "            'fontweight' : rcParams['axes.titleweight'],\n",
      "            'verticalalignment': 'baseline',\n",
      "            'horizontalalignment': loc}\n",
      "    \n",
      "    loc : {'center', 'left', 'right'}, str, optional\n",
      "        Which title to set, defaults to 'center'\n",
      "    \n",
      "    Returns\n",
      "    -------\n",
      "    text : :class:`~matplotlib.text.Text`\n",
      "        The matplotlib text instance representing the title\n",
      "    \n",
      "    Other Parameters\n",
      "    ----------------\n",
      "    **kwargs : `~matplotlib.text.Text` properties\n",
      "        Other keyword arguments are text properties, see\n",
      "        :class:`~matplotlib.text.Text` for a list of valid text\n",
      "        properties.\n",
      "\n"
     ]
    }
   ],
   "source": [
    "help(ax.set_title)"
   ]
  },
  {
   "cell_type": "markdown",
   "metadata": {},
   "source": [
    "## Q17:   Create a horizontal frequency barplot for 'sub_region'"
   ]
  },
  {
   "cell_type": "code",
   "execution_count": 121,
   "metadata": {},
   "outputs": [
    {
     "data": {
      "image/png": "[encoded data removed]",
      "text/plain": [
       "<matplotlib.figure.Figure at 0x10951dbe0>"
      ]
     },
     "metadata": {},
     "output_type": "display_data"
    }
   ],
   "source": [
    "f, ax = plt.subplots(1,figsize=(6,4))\n",
    "g = sns.countplot(y='sub_region_desc', data=df, orient=\"h\")\n",
    "# plt.title(\"Number of olive oil samples by region\", fontsize=18)\n",
    "plt.ylabel(\"Sub-Regions\", fontsize=14)\n",
    "plt.xlabel(\"Count\", fontsize=14)\n",
    "ax.set_title(\"Number of olive oil samples by sub-region\", fontsize=18)\n",
    "plt.show()"
   ]
  },
  {
   "cell_type": "code",
   "execution_count": 122,
   "metadata": {},
   "outputs": [
    {
     "data": {
      "image/png": "[encoded data removed]",
      "text/plain": [
       "<matplotlib.figure.Figure at 0x10bc41a20>"
      ]
     },
     "metadata": {},
     "output_type": "display_data"
    }
   ],
   "source": [
    "f, ax = plt.subplots(1,figsize=(6,4))\n",
    "g = sns.countplot(y='sub_region_desc', data=df, orient=\"h\")\n",
    "# plt.title(\"Number of olive oil samples by region\", fontsize=18)\n",
    "plt.ylabel(\"Sub-Regions \\n ('sub_region_desc')\", fontsize=14)\n",
    "plt.xlabel(\"Count\", fontsize=14)\n",
    "ax.set_title(\"Number of olive oil samples by sub-region \\n(var='sub_region_desc')\", fontsize=18)\n",
    "plt.show()"
   ]
  },
  {
   "cell_type": "code",
   "execution_count": 124,
   "metadata": {},
   "outputs": [
    {
     "data": {
      "text/plain": [
       "<matplotlib.axes._subplots.AxesSubplot at 0x10a440940>"
      ]
     },
     "execution_count": 124,
     "metadata": {},
     "output_type": "execute_result"
    },
    {
     "data": {
      "image/png": "[encoded data removed]",
      "text/plain": [
       "<matplotlib.figure.Figure at 0x10bb61748>"
      ]
     },
     "metadata": {},
     "output_type": "display_data"
    }
   ],
   "source": [
    "df.sub_region_desc.value_counts().plot('barh')"
   ]
  },
  {
   "cell_type": "code",
   "execution_count": null,
   "metadata": {},
   "outputs": [],
   "source": []
  }
 ],
 "metadata": {
  "kernelspec": {
   "display_name": "Python 3",
   "language": "python",
   "name": "python3"
  },
  "language_info": {
   "codemirror_mode": {
    "name": "ipython",
    "version": 3
   },
   "file_extension": ".py",
   "mimetype": "text/x-python",
   "name": "python",
   "nbconvert_exporter": "python",
   "pygments_lexer": "ipython3",
   "version": "3.6.2"
  }
 },
 "nbformat": 4,
 "nbformat_minor": 2
}
